{
 "cells": [
  {
   "cell_type": "markdown",
   "metadata": {},
   "source": [
    "# PYTHON FUNDAMENTALS, Part 2 (Workbook)\n",
    "\n",
    "[CC BY 4.0](https://creativecommons.org/licenses/by/4.0/)"
   ]
  },
  {
   "cell_type": "markdown",
   "metadata": {},
   "source": [
    "## Credits\n",
    "\n",
    "Most code snippets and explanatory texts from: \n",
    "- Charles Russel Severance's [Python for Everybody](https://www.py4e.com/) lecture slides\n",
    "  -  Unless annotated as indicated below, text and code came from this source. Additionally, they could be explicitly indicated by the marker `[PES]`\n",
    "\n",
    "and\n",
    "- Charles Russel Severance's [Python for Everybody - Online HTML Book](https://www.py4e.com/html3/)\n",
    "  - Notes and codes from this source are indicated by this the marker `[PEW]`\n",
    "\n",
    "Additional codes and comments from:\n",
    "\n",
    "- Antonio C. Briza\n",
    "  - code cells marked by `#あ` at the first or last line\n",
    "  - markdown and raw cells marked by `[あ]` at the end\n",
    "\n",
    "- J.R. Johansson's [Introduction to Scientific Computing with Python](http://github.com/jrjohansson/scientific-python-lectures) \n",
    "  - Notes and codes from this source are indicated by this the marker `[JRJ]`"
   ]
  },
  {
   "cell_type": "markdown",
   "metadata": {},
   "source": [
    "# Before you begin\n",
    "\n",
    "First, make a copy of this notebook so that you can make changes as you please. Run and edit the copy instead of this original notebook. To copy this notebook, go to `File|Make a Copy`.\n",
    "\n",
    "If this notebook is already a copy of the original, clear all outputs in this notebook. Go to the Menu and click on `Cell| All Outputs| Clear`. Once this is done, you're ready to go."
   ]
  },
  {
   "cell_type": "markdown",
   "metadata": {},
   "source": [
    "# Suggestions for Learning\n",
    "\n",
    "- Code snippets in Raw Cells are meant to be written by Beginners.\n",
    "- Code snippets in Code Cells are for illustration purposes. They are meant to be executed by both Beginners and more experienced Learners. (Beginners, may wish to also type them, if they so choose).\n",
    "\n",
    "For better learning experience, the following are suggested:\n",
    "\n",
    "### For Beginners\n",
    "1. Create a new Code Cell below the code snippets inside Raw Cells (Insert Cell below then convert the cell type to Code Cell). \n",
    "2. Go to your newly-created Code Cell and re-type what you see in the code snippet (don't copy-paste) \n",
    "3. Execute (and experiment) on the Code Cell. \n",
    "4. Remember to learn by doing (not just by reading or seeing)\n",
    "\n",
    "### For Coders\n",
    "1. If you are not yet familiar with the concept, follow Steps 1&2 of the Instructions for Beginners\n",
    "2. If you are already familiar with the concept being presented, convert the Raw Cell into a Code Cell.\n",
    "3. Execute (and experiment) on the Code Cell. \n",
    "4. Learn the \"adjacent concepts\", e.g. read related documentation.\n",
    "5. Help your classmates, because teaching is a wonderful way to learn. \n",
    "\n",
    "### For All\n",
    "* Make this your personal notebook.\n",
    "    * Add your own text annotations in Markup Cells. \n",
    "    * Add comments to parts of code that you find difficult to understand\n",
    "    * Breakdown difficult code into several small pieces (maybe, several Code Cells) that are easier to understand"
   ]
  },
  {
   "cell_type": "markdown",
   "metadata": {},
   "source": [
    "<a id='contents'></a>"
   ]
  },
  {
   "cell_type": "markdown",
   "metadata": {},
   "source": [
    "# TABLE OF CONTENTS"
   ]
  },
  {
   "cell_type": "markdown",
   "metadata": {},
   "source": [
    "[Chapter 6 Strings](#chapter6)<br>\n",
    "[Chapter 7 Files](#chapter7)<br>\n"
   ]
  },
  {
   "cell_type": "markdown",
   "metadata": {},
   "source": [
    "<a id='chapter6'></a>"
   ]
  },
  {
   "cell_type": "markdown",
   "metadata": {},
   "source": [
    "# CHAPTER 6  - `Strings`"
   ]
  },
  {
   "cell_type": "markdown",
   "metadata": {},
   "source": [
    "## The `String` Data Type"
   ]
  },
  {
   "cell_type": "markdown",
   "metadata": {},
   "source": [
    "A string is a sequence of characters."
   ]
  },
  {
   "cell_type": "markdown",
   "metadata": {},
   "source": [
    "Recall:\n",
    "    Python strings can be enclosed in single quote(`'`) or double quotes (`\"`). The back quote (the character that shares the key with tilde `~`) cannot be used to identify strings. [あ] "
   ]
  },
  {
   "cell_type": "code",
   "execution_count": 12,
   "metadata": {},
   "outputs": [
    {
     "data": {
      "text/plain": [
       "'Hello'"
      ]
     },
     "execution_count": 12,
     "metadata": {},
     "output_type": "execute_result"
    }
   ],
   "source": [
    "str1 = \"Hello\"\n",
    "str1"
   ]
  },
  {
   "cell_type": "code",
   "execution_count": 13,
   "metadata": {},
   "outputs": [
    {
     "data": {
      "text/plain": [
       "'there'"
      ]
     },
     "execution_count": 13,
     "metadata": {},
     "output_type": "execute_result"
    }
   ],
   "source": [
    "str2 = \"there\"\n",
    "str2"
   ]
  },
  {
   "cell_type": "code",
   "execution_count": 16,
   "metadata": {},
   "outputs": [
    {
     "data": {
      "text/plain": [
       "('Hello', 'there')"
      ]
     },
     "execution_count": 16,
     "metadata": {},
     "output_type": "execute_result"
    }
   ],
   "source": [
    "str1, str2"
   ]
  },
  {
   "cell_type": "markdown",
   "metadata": {},
   "source": [
    "When a string contains numbers, it is still a string"
   ]
  },
  {
   "cell_type": "markdown",
   "metadata": {},
   "source": [
    "str3 = '123'\n",
    "str3 = str3 + 1"
   ]
  },
  {
   "cell_type": "markdown",
   "metadata": {},
   "source": [
    "We can convert numbers in a string into a number using `int()` ..."
   ]
  },
  {
   "cell_type": "code",
   "execution_count": 26,
   "metadata": {},
   "outputs": [
    {
     "name": "stdout",
     "output_type": "stream",
     "text": [
      "124\n"
     ]
    }
   ],
   "source": [
    "str3 = \"123\"\n",
    "x = int(str3) + 1\n",
    "print(x)"
   ]
  },
  {
   "cell_type": "markdown",
   "metadata": {},
   "source": [
    "or `float()` [あ]"
   ]
  },
  {
   "cell_type": "code",
   "execution_count": 27,
   "metadata": {},
   "outputs": [
    {
     "name": "stdout",
     "output_type": "stream",
     "text": [
      "124.0\n"
     ]
    }
   ],
   "source": [
    "x = float(str3) + 1\n",
    "print(x)"
   ]
  },
  {
   "cell_type": "markdown",
   "metadata": {},
   "source": [
    "## A string is a sequence of characters"
   ]
  },
  {
   "cell_type": "markdown",
   "metadata": {},
   "source": [
    "- We can get at any single character in a string using an **index** specified in __square brackets__\n",
    "- The index value must be an integer and __starts at zero__"
   ]
  },
  {
   "cell_type": "code",
   "execution_count": 28,
   "metadata": {},
   "outputs": [
    {
     "name": "stdout",
     "output_type": "stream",
     "text": [
      "b\n"
     ]
    }
   ],
   "source": [
    "fruit = 'banana'\n",
    "letter = fruit[0] #あ remember: index starts at 0\n",
    "print(letter)"
   ]
  },
  {
   "cell_type": "markdown",
   "metadata": {},
   "source": [
    "The index value can be an expression that is computed. "
   ]
  },
  {
   "cell_type": "code",
   "execution_count": 29,
   "metadata": {},
   "outputs": [
    {
     "name": "stdout",
     "output_type": "stream",
     "text": [
      "n\n"
     ]
    }
   ],
   "source": [
    "x = 3\n",
    "w = fruit[x - 1]\n",
    "print(w)"
   ]
  },
  {
   "cell_type": "markdown",
   "metadata": {},
   "source": [
    "[PEW]\n",
    "You can use any expression, including variables and operators, as an index, but the value of the index has to be an integer. "
   ]
  },
  {
   "cell_type": "markdown",
   "metadata": {},
   "source": [
    "letter = fruit[1.5]"
   ]
  },
  {
   "cell_type": "markdown",
   "metadata": {},
   "source": [
    "Indexing with a negative number counts from the end of the string. The last element of the string is indexed at `-1`.  [あ] "
   ]
  },
  {
   "cell_type": "code",
   "execution_count": 31,
   "metadata": {},
   "outputs": [
    {
     "data": {
      "text/plain": [
       "'a'"
      ]
     },
     "execution_count": 31,
     "metadata": {},
     "output_type": "execute_result"
    }
   ],
   "source": [
    "fruit[-1]"
   ]
  },
  {
   "cell_type": "code",
   "execution_count": 32,
   "metadata": {},
   "outputs": [
    {
     "data": {
      "text/plain": [
       "'n'"
      ]
     },
     "execution_count": 32,
     "metadata": {},
     "output_type": "execute_result"
    }
   ],
   "source": [
    "fruit[-2]"
   ]
  },
  {
   "cell_type": "markdown",
   "metadata": {},
   "source": [
    "### `String index out of range` error"
   ]
  },
  {
   "cell_type": "markdown",
   "metadata": {},
   "source": [
    "You will get a python error if you attempt to index beyond the end of a string"
   ]
  },
  {
   "cell_type": "code",
   "execution_count": 34,
   "metadata": {},
   "outputs": [
    {
     "name": "stdout",
     "output_type": "stream",
     "text": [
      "f\n"
     ]
    }
   ],
   "source": [
    "connection = 'wifi'\n",
    "print(connection[-2])\n",
    "\n",
    "#あ"
   ]
  },
  {
   "cell_type": "markdown",
   "metadata": {},
   "source": [
    "Remember that string index starts at 0, so the last letter \n",
    "should be accessed using [あ]"
   ]
  },
  {
   "cell_type": "code",
   "execution_count": 37,
   "metadata": {},
   "outputs": [
    {
     "data": {
      "text/plain": [
       "'i'"
      ]
     },
     "execution_count": 37,
     "metadata": {},
     "output_type": "execute_result"
    }
   ],
   "source": [
    "connection[3]"
   ]
  },
  {
   "cell_type": "markdown",
   "metadata": {},
   "source": [
    "### String Length"
   ]
  },
  {
   "cell_type": "markdown",
   "metadata": {},
   "source": [
    "`len` is a built-in function that returns the number of characters in a string:"
   ]
  },
  {
   "cell_type": "code",
   "execution_count": 38,
   "metadata": {},
   "outputs": [
    {
     "name": "stdout",
     "output_type": "stream",
     "text": [
      "6\n"
     ]
    }
   ],
   "source": [
    "fruit = 'banana'\n",
    "print(len(fruit))"
   ]
  },
  {
   "cell_type": "markdown",
   "metadata": {},
   "source": [
    "How do we access to the end of the string?"
   ]
  },
  {
   "cell_type": "code",
   "execution_count": 47,
   "metadata": {},
   "outputs": [
    {
     "data": {
      "text/plain": [
       "6"
      ]
     },
     "execution_count": 47,
     "metadata": {},
     "output_type": "execute_result"
    }
   ],
   "source": [
    "length = len(fruit)\n",
    "fruit[length-1]\n",
    "length = int(length)\n",
    "length\n",
    "\n",
    "#あ"
   ]
  },
  {
   "cell_type": "markdown",
   "metadata": {},
   "source": [
    "The easier way is to use negative indexing mentioned a while ago. [あ]"
   ]
  },
  {
   "cell_type": "raw",
   "metadata": {},
   "source": [
    "fruit[-1]"
   ]
  },
  {
   "cell_type": "markdown",
   "metadata": {},
   "source": [
    "Be careful not to do the following: [あ]"
   ]
  },
  {
   "cell_type": "code",
   "execution_count": 50,
   "metadata": {},
   "outputs": [
    {
     "data": {
      "text/plain": [
       "6"
      ]
     },
     "execution_count": 50,
     "metadata": {},
     "output_type": "execute_result"
    }
   ],
   "source": [
    "last = len(fruit)\n",
    "last"
   ]
  },
  {
   "cell_type": "markdown",
   "metadata": {},
   "source": [
    "### Looping through strings using `for`"
   ]
  },
  {
   "cell_type": "markdown",
   "metadata": {},
   "source": [
    "You can access each character in a string using a `for` loop"
   ]
  },
  {
   "cell_type": "code",
   "execution_count": 53,
   "metadata": {},
   "outputs": [
    {
     "name": "stdout",
     "output_type": "stream",
     "text": [
      "b\n",
      "a\n",
      "n\n",
      "a\n",
      "n\n",
      "a\n"
     ]
    }
   ],
   "source": [
    "fruit = 'banana'\n",
    "for letter in fruit : \n",
    "    print(letter)"
   ]
  },
  {
   "cell_type": "markdown",
   "metadata": {},
   "source": [
    "## More String Operations"
   ]
  },
  {
   "cell_type": "markdown",
   "metadata": {},
   "source": [
    "### Slicing Strings"
   ]
  },
  {
   "cell_type": "markdown",
   "metadata": {},
   "source": [
    "A segment of a string is called a slice. "
   ]
  },
  {
   "cell_type": "markdown",
   "metadata": {},
   "source": [
    "- Slices are defined using a colon (`:`) operator. \n",
    "- If `s` is a string, `s[n:m]` defines a segment from the `n`th index **up to**, but __not including__, the `m`th index\n",
    "- mnemonic that could be used: the right `slice` of bread looks like `[)`\n",
    "\n",
    "[あ]"
   ]
  },
  {
   "cell_type": "raw",
   "metadata": {},
   "source": [
    "s = 'Monty Python'"
   ]
  },
  {
   "cell_type": "markdown",
   "metadata": {},
   "source": [
    "Let's get the string index of each character in the string [あ]"
   ]
  },
  {
   "cell_type": "code",
   "execution_count": null,
   "metadata": {},
   "outputs": [],
   "source": [
    "i =0\n",
    "print('i  char')\n",
    "print('-------')\n",
    "for char in s:\n",
    "    print(i,' '+char)\n",
    "    i = i + 1\n",
    "    \n",
    "#あ"
   ]
  },
  {
   "cell_type": "markdown",
   "metadata": {},
   "source": [
    "Now let's produce string some string slices [あ]"
   ]
  },
  {
   "cell_type": "raw",
   "metadata": {},
   "source": [
    "print(s[0:4])"
   ]
  },
  {
   "cell_type": "raw",
   "metadata": {},
   "source": [
    "print(s[6:7])"
   ]
  },
  {
   "cell_type": "markdown",
   "metadata": {},
   "source": [
    "If we leave off the **first number** of the slice, it is assumed to be the **beginning** of the string."
   ]
  },
  {
   "cell_type": "raw",
   "metadata": {},
   "source": [
    "print(s[:2])"
   ]
  },
  {
   "cell_type": "markdown",
   "metadata": {},
   "source": [
    "If we leave off the **last number** of the slice, it is assumed to be the **end** of the string."
   ]
  },
  {
   "cell_type": "raw",
   "metadata": {},
   "source": [
    "print(s[8:])"
   ]
  },
  {
   "cell_type": "markdown",
   "metadata": {},
   "source": [
    "If we leave both the **first number and last number** of the slice, we will get the  **whole** string. [あ]"
   ]
  },
  {
   "cell_type": "raw",
   "metadata": {},
   "source": [
    "print(s[:])"
   ]
  },
  {
   "cell_type": "markdown",
   "metadata": {},
   "source": [
    "Slices also work with negative indexing [あ]"
   ]
  },
  {
   "cell_type": "raw",
   "metadata": {},
   "source": [
    "s[:-1]"
   ]
  },
  {
   "cell_type": "raw",
   "metadata": {},
   "source": [
    "s[-3:] "
   ]
  },
  {
   "cell_type": "markdown",
   "metadata": {},
   "source": [
    "### Strings are Immutable"
   ]
  },
  {
   "cell_type": "markdown",
   "metadata": {},
   "source": [
    "It is not possible to give a new value to an character in a string.\n",
    "\n",
    "[あ]\n"
   ]
  },
  {
   "cell_type": "raw",
   "metadata": {},
   "source": [
    "greeting = 'Yello, world!'\n",
    "greeting[0] = 'H'"
   ]
  },
  {
   "cell_type": "markdown",
   "metadata": {},
   "source": [
    "Nor is it possible to assign a new value to a slice of a string [あ]"
   ]
  },
  {
   "cell_type": "raw",
   "metadata": {},
   "source": [
    "greeting[0:5] =  'Hello'"
   ]
  },
  {
   "cell_type": "markdown",
   "metadata": {},
   "source": [
    "To \"modify\" a string in python, a new string has to be made: [あ]"
   ]
  },
  {
   "cell_type": "raw",
   "metadata": {
    "scrolled": true
   },
   "source": [
    "new_greeting = 'H' + greeting[1:]\n",
    "print(new_greeting)"
   ]
  },
  {
   "cell_type": "markdown",
   "metadata": {},
   "source": [
    "### String Concatenation"
   ]
  },
  {
   "cell_type": "markdown",
   "metadata": {},
   "source": [
    "When the  `+`  operator is applied to strings, it means “concatenation”"
   ]
  },
  {
   "cell_type": "code",
   "execution_count": 63,
   "metadata": {},
   "outputs": [
    {
     "name": "stdout",
     "output_type": "stream",
     "text": [
      "HelloThereHello\n"
     ]
    }
   ],
   "source": [
    "a = 'Hello'\n",
    "b = a + 'There' + a\n",
    "print(b)"
   ]
  },
  {
   "cell_type": "code",
   "execution_count": 64,
   "metadata": {},
   "outputs": [
    {
     "name": "stdout",
     "output_type": "stream",
     "text": [
      "Hello There\n"
     ]
    }
   ],
   "source": [
    "c = a + ' ' + 'There'\n",
    "print(c)"
   ]
  },
  {
   "cell_type": "markdown",
   "metadata": {},
   "source": [
    "## String Library"
   ]
  },
  {
   "cell_type": "markdown",
   "metadata": {},
   "source": [
    "- Python has a number of string functions which are in the `string` library\n",
    "- These functions are already built into every string - we invoke them by _appending the function to the string variable_\n",
    "- These functions __do not modify__ the original string, instead they return a new string that has been altered"
   ]
  },
  {
   "cell_type": "markdown",
   "metadata": {},
   "source": [
    "Below are examples of some of the useful string functions."
   ]
  },
  {
   "cell_type": "markdown",
   "metadata": {},
   "source": [
    "#### lower case with function `lower()` "
   ]
  },
  {
   "cell_type": "code",
   "execution_count": 65,
   "metadata": {},
   "outputs": [
    {
     "name": "stdout",
     "output_type": "stream",
     "text": [
      "enero, febrero, marzo\n"
     ]
    }
   ],
   "source": [
    "text = 'Enero, Febrero, Marzo'\n",
    "spanish_months = text.lower()\n",
    "print(spanish_months)\n",
    "\n",
    "#あ"
   ]
  },
  {
   "cell_type": "markdown",
   "metadata": {},
   "source": [
    "#### UPPER CASE with function `upper()`"
   ]
  },
  {
   "cell_type": "code",
   "execution_count": 66,
   "metadata": {},
   "outputs": [
    {
     "data": {
      "text/plain": [
       "'HELLO BOB'"
      ]
     },
     "execution_count": 66,
     "metadata": {},
     "output_type": "execute_result"
    }
   ],
   "source": [
    "greeting = 'Hello Bob'\n",
    "greeting.upper()"
   ]
  },
  {
   "cell_type": "markdown",
   "metadata": {},
   "source": [
    "#### Stripping Whitespaces with functions `lstrip()`, `rstrip()`, and `strip()` "
   ]
  },
  {
   "cell_type": "code",
   "execution_count": 67,
   "metadata": {},
   "outputs": [],
   "source": [
    "greeting = '   Hello Bob  '"
   ]
  },
  {
   "cell_type": "code",
   "execution_count": 68,
   "metadata": {},
   "outputs": [
    {
     "data": {
      "text/plain": [
       "'Hello Bob  '"
      ]
     },
     "execution_count": 68,
     "metadata": {},
     "output_type": "execute_result"
    }
   ],
   "source": [
    "greeting.lstrip()"
   ]
  },
  {
   "cell_type": "code",
   "execution_count": 69,
   "metadata": {},
   "outputs": [
    {
     "data": {
      "text/plain": [
       "'   Hello Bob'"
      ]
     },
     "execution_count": 69,
     "metadata": {},
     "output_type": "execute_result"
    }
   ],
   "source": [
    "greeting.rstrip()"
   ]
  },
  {
   "cell_type": "code",
   "execution_count": 70,
   "metadata": {},
   "outputs": [
    {
     "data": {
      "text/plain": [
       "'Hello Bob'"
      ]
     },
     "execution_count": 70,
     "metadata": {},
     "output_type": "execute_result"
    }
   ],
   "source": [
    "greeting.strip()"
   ]
  },
  {
   "cell_type": "markdown",
   "metadata": {},
   "source": [
    "#### Splitting the words with `split()`"
   ]
  },
  {
   "cell_type": "markdown",
   "metadata": {},
   "source": [
    "This operation returns a **list** data type containing the words in the string. We will talk about lists in a later chapter. [あ]"
   ]
  },
  {
   "cell_type": "code",
   "execution_count": 71,
   "metadata": {},
   "outputs": [
    {
     "data": {
      "text/plain": [
       "['One',\n",
       " 'ring',\n",
       " 'to',\n",
       " 'rule',\n",
       " 'them',\n",
       " 'all,',\n",
       " 'one',\n",
       " 'ring',\n",
       " 'to',\n",
       " 'find',\n",
       " 'them.']"
      ]
     },
     "execution_count": 71,
     "metadata": {},
     "output_type": "execute_result"
    }
   ],
   "source": [
    "quotation = 'One ring to rule them all, one ring to find them.'\n",
    "quotation.split()"
   ]
  },
  {
   "cell_type": "markdown",
   "metadata": {},
   "source": [
    "### Formating Strings"
   ]
  },
  {
   "cell_type": "markdown",
   "metadata": {},
   "source": [
    "#### Formatting strings with `format()`"
   ]
  },
  {
   "cell_type": "markdown",
   "metadata": {},
   "source": [
    "An simple intuitive way of printing a combination of string and variable values is to use the `format` string function.\n",
    "\n",
    "Steps\n",
    "- Create a string with desired text\n",
    "- Put **curly braces** in positions where you'd like variable values to appear.  \n",
    "- Invoke the `format` operation, and pass the variables you want to be displayed. The variable values will be displayed in the sequence with which they are passed to the `format` function.\n",
    "\n",
    "[あ]"
   ]
  },
  {
   "cell_type": "raw",
   "metadata": {},
   "source": [
    "speech = '{} scores and  {} years ago'\n",
    "speech.format(4, 7)\n",
    "\n",
    "#あ"
   ]
  },
  {
   "cell_type": "markdown",
   "metadata": {},
   "source": [
    "The code below accomplishes the same thing, without the extra assignment statement. [あ]"
   ]
  },
  {
   "cell_type": "raw",
   "metadata": {},
   "source": [
    "'{} scores and  {} years ago'.format(4, 7)"
   ]
  },
  {
   "cell_type": "raw",
   "metadata": {},
   "source": [
    "'{} divided by {} equals {}'.format(512, 3, 512/3)\n",
    "#あ"
   ]
  },
  {
   "cell_type": "markdown",
   "metadata": {},
   "source": [
    "#### Other useful string operations"
   ]
  },
  {
   "cell_type": "markdown",
   "metadata": {},
   "source": [
    "    startswith()\n",
    "    endswith()\n",
    "    capitalize()\n",
    "    center()\n",
    "    find()\n",
    "    replace()"
   ]
  },
  {
   "cell_type": "markdown",
   "metadata": {},
   "source": [
    "####  strings and the `print` function"
   ]
  },
  {
   "cell_type": "markdown",
   "metadata": {},
   "source": [
    "The print statement concatenates strings with a space [JRJ]"
   ]
  },
  {
   "cell_type": "raw",
   "metadata": {},
   "source": [
    "print(\"str1\", \"str2\", \"str3\")  "
   ]
  },
  {
   "cell_type": "markdown",
   "metadata": {},
   "source": [
    "The print statement converts all arguments to strings  [JRJ]"
   ]
  },
  {
   "cell_type": "raw",
   "metadata": {},
   "source": [
    "print(\"str1\", 1.0, True or False, 5**2)  "
   ]
  },
  {
   "cell_type": "markdown",
   "metadata": {},
   "source": [
    "## Getting Help on Strings"
   ]
  },
  {
   "cell_type": "markdown",
   "metadata": {},
   "source": [
    "#### `dir()` function to get a list of string operations"
   ]
  },
  {
   "cell_type": "markdown",
   "metadata": {
    "scrolled": true
   },
   "source": [
    "You can get a list of functions (or methods) on strings by using the `dir()` function on a string literal. Functions that start and end with double underscores (`__`) are special methods used by Python. Disregard them for the meantime. [あ]"
   ]
  },
  {
   "cell_type": "raw",
   "metadata": {},
   "source": [
    "my_string = 'Hello world'\n",
    "dir(my_string)"
   ]
  },
  {
   "cell_type": "markdown",
   "metadata": {},
   "source": [
    "Below is a listing of string methods with the special methods removed. [あ]"
   ]
  },
  {
   "cell_type": "markdown",
   "metadata": {},
   "source": [
    "    ['capitalize', 'casefold', 'center', 'count', 'encode', 'endswith', 'expandtabs', 'find', 'format', 'format_map', 'index', 'isalnum', 'isalpha', 'isdecimal', 'isdigit', 'isidentifier', 'islower', 'isnumeric', 'isprintable', 'isspace', 'istitle', 'isupper', 'join', 'ljust', 'lower', 'lstrip', 'maketrans', 'partition', 'replace', 'rfind', 'rindex', 'rjust', 'rpartition', 'rsplit', 'rstrip', 'split', 'splitlines', 'startswith', 'strip', 'swapcase', 'title', 'translate', 'upper', 'zfill']"
   ]
  },
  {
   "cell_type": "markdown",
   "metadata": {},
   "source": [
    "#### Using the `help()` function"
   ]
  },
  {
   "cell_type": "markdown",
   "metadata": {},
   "source": [
    "A way to get help is by calling the `help()` function. To use it, just pass `s.method` as argument to the function (where `s` is a string variable and `method` is the method you want to get help on. See example below."
   ]
  },
  {
   "cell_type": "raw",
   "metadata": {},
   "source": [
    "s = \"some_text\""
   ]
  },
  {
   "cell_type": "raw",
   "metadata": {},
   "source": [
    "help(s.startswith)"
   ]
  },
  {
   "cell_type": "markdown",
   "metadata": {},
   "source": [
    "#### `?` in  Jupyter notebooks"
   ]
  },
  {
   "cell_type": "markdown",
   "metadata": {},
   "source": [
    "In Jupyter, you could get help putting a question mark before or after a valid method call. [あ]"
   ]
  },
  {
   "cell_type": "raw",
   "metadata": {},
   "source": [
    "?s.startswith"
   ]
  },
  {
   "cell_type": "raw",
   "metadata": {},
   "source": [
    "s.startswith?"
   ]
  },
  {
   "cell_type": "markdown",
   "metadata": {},
   "source": [
    "#### **Python reference**  Lookup "
   ]
  },
  {
   "cell_type": "markdown",
   "metadata": {},
   "source": [
    "You could also get help by going to the official Python reference (go to Jupyter's Menu `Help|Python Reference`)\n",
    "\n",
    "[あ]"
   ]
  },
  {
   "cell_type": "markdown",
   "metadata": {},
   "source": [
    "#### Internet Lookup"
   ]
  },
  {
   "cell_type": "markdown",
   "metadata": {},
   "source": [
    "A quick way to get help is by searching in the web. This is especially useful if you wan to get sample code snippets for reuse.  A useful site is `Stackoverflow`. \n",
    "\n",
    "Many times, the web results and Stackoverflow will point you to portions of the official reference.\n",
    "\n",
    "When using solutions from the web, make sure you understand what pieces of code are useful for you, how they work, and how you could adapt them to your own program (if needed).\n",
    "\n",
    "[あ]"
   ]
  },
  {
   "cell_type": "markdown",
   "metadata": {},
   "source": [
    "\n",
    "\n",
    "\n",
    "## Final Words"
   ]
  },
  {
   "cell_type": "markdown",
   "metadata": {},
   "source": [
    "- String manipulation is important for reading data,  especially data that still needs cleaning\n",
    "- Slicing is an important skill to learn as it is also applicable to vectors, matrices, Series and Dataframes\n",
    "- A big part of problem solving is done by identifying what tool to use and how to use it. For this, knowing how and where to get help is essential. \n",
    "- The portion of this chapter on getting help on strings is also applicable to the other python modules we'll learn in the upcoming lessons\n",
    "\n",
    "[あ]"
   ]
  },
  {
   "cell_type": "markdown",
   "metadata": {},
   "source": [
    "## EXERCISES"
   ]
  },
  {
   "cell_type": "markdown",
   "metadata": {},
   "source": [
    "#### Exercise 1"
   ]
  },
  {
   "cell_type": "markdown",
   "metadata": {},
   "source": [
    "Given the code below    \n",
    "\n",
    "    text = 'Business Analytics'\n",
    "\n",
    "What will the following expressions produce?\n",
    "    \n",
    "    text[4]\n",
    "    text[2:4]\n",
    "    text[:4]\n",
    "    text[4:]\n",
    "    text[-2]\n",
    "    text[-4:-2]\n",
    "    text[-2:]\n",
    "    text[:-2]\n",
    "    \n",
    "[あ]"
   ]
  },
  {
   "cell_type": "code",
   "execution_count": 75,
   "metadata": {},
   "outputs": [
    {
     "name": "stdout",
     "output_type": "stream",
     "text": [
      "n si Busi ness Analytics c ti cs Business Analyti\n"
     ]
    }
   ],
   "source": [
    "text = 'Business Analytics'\n",
    "print(\n",
    "    text[4],\n",
    "    text[2:4],\n",
    "    text[:4],\n",
    "    text[4:],\n",
    "    text[-2],\n",
    "    text[-4:-2],\n",
    "    text[-2:],\n",
    "    text[:-2]\n",
    ")"
   ]
  },
  {
   "cell_type": "markdown",
   "metadata": {},
   "source": [
    "#### Exercise 2"
   ]
  },
  {
   "cell_type": "markdown",
   "metadata": {},
   "source": [
    "Given the code below:\n",
    "    \n",
    "    phrase = 'One Ring to rule them all'\n",
    "\n",
    "What string slicing expression gives out the following words:\n",
    "\n",
    "    'One '\n",
    "    'Ring'\n",
    "    'all'\n",
    "    'them'\n",
    "    'One Ring to rule them all'\n",
    "    \n",
    "[あ]"
   ]
  },
  {
   "cell_type": "code",
   "execution_count": 111,
   "metadata": {},
   "outputs": [
    {
     "name": "stdout",
     "output_type": "stream",
     "text": [
      "One\n",
      "Ring\n",
      "to\n",
      "rule\n",
      "them\n",
      "all\n"
     ]
    }
   ],
   "source": [
    "phrase = 'One Ring to rule them all'\n",
    "words = phrase.split()\n",
    "for i in words:\n",
    "    print(i)\n",
    "      "
   ]
  },
  {
   "cell_type": "markdown",
   "metadata": {},
   "source": [
    "\n",
    "## CHALLENGE\n"
   ]
  },
  {
   "cell_type": "markdown",
   "metadata": {},
   "source": [
    "Write a program which repeatedly reads a **full name**, then does the following:\n",
    "- strips the name of any trailing spaces\n",
    "- capitalizes the first letter\n",
    "- puts the rest into smaller letters \n",
    "\n",
    "[あ]"
   ]
  },
  {
   "cell_type": "code",
   "execution_count": 104,
   "metadata": {},
   "outputs": [
    {
     "data": {
      "text/plain": [
       "'Edwin lacap'"
      ]
     },
     "execution_count": 104,
     "metadata": {},
     "output_type": "execute_result"
    }
   ],
   "source": [
    "fullname = ' EDWIN LACAP'\n",
    "fullname = fullname.strip()\n",
    "fullname = fullname.capitalize()\n",
    "fullname"
   ]
  },
  {
   "cell_type": "markdown",
   "metadata": {},
   "source": [
    "[TABLE OF CONTENTS](#contents)"
   ]
  },
  {
   "cell_type": "markdown",
   "metadata": {},
   "source": [
    "<a id='chapter8'></a>"
   ]
  },
  {
   "cell_type": "markdown",
   "metadata": {},
   "source": [
    "# CHAPTER  7 - Files"
   ]
  },
  {
   "cell_type": "markdown",
   "metadata": {},
   "source": [
    "Computations in a computer are done in the Main Memory. Data and computations in the main memory are lost when the computer's power is turned off. (This is why you have to reload jupyter notebooks and re-run cells after you have turned off your computer.)\n",
    "\n",
    "**Files** provide us with the ability to save data such that they could be recovered even after the computer's power is turned off. Files are saved in your computer's hard drive, a DVD or in a USB flash drive. \n",
    "\n",
    "[あ]"
   ]
  },
  {
   "attachments": {
    "computer_architechture.png": {
     "image/png": "[encoded data removed]"
    }
   },
   "cell_type": "markdown",
   "metadata": {},
   "source": [
    "![computer_architechture.png](attachment:computer_architechture.png)"
   ]
  },
  {
   "cell_type": "markdown",
   "metadata": {},
   "source": [
    "There are many kinds of files, but in this chapter, we will only talk about text files. \n",
    "\n",
    "You could consider a text file as a sequence of strings.\n",
    "\n",
    "[あ]"
   ]
  },
  {
   "cell_type": "markdown",
   "metadata": {},
   "source": [
    "## Opening Files"
   ]
  },
  {
   "cell_type": "markdown",
   "metadata": {},
   "source": [
    "- Before we can read the contents of the file, we must tell Python which file we are going to work with and what we will be doing with the file\n",
    "- This is done with the `open()` function\n",
    "- `open()` returns a **file handle** - a variable used to perform operations on the file\n",
    "- Similar to “File | Open” in a Word Processor"
   ]
  },
  {
   "cell_type": "markdown",
   "metadata": {},
   "source": [
    "##  The `open()` function and the file handle"
   ]
  },
  {
   "cell_type": "markdown",
   "metadata": {},
   "source": [
    "To open a file, you write code similar to the one below [あ]"
   ]
  },
  {
   "cell_type": "markdown",
   "metadata": {},
   "source": [
    "    handle = open(filename, mode)\n",
    "\n",
    "- returns a `handle` use to manipulate the file\n",
    "- `filename` is a string\n",
    "- `mode` is optional and should be `'r'` if we are planning to read the file and `'w'` if we are going to write to the file"
   ]
  },
  {
   "cell_type": "code",
   "execution_count": 112,
   "metadata": {},
   "outputs": [
    {
     "name": "stdout",
     "output_type": "stream",
     "text": [
      "<_io.TextIOWrapper name='words.txt' mode='r' encoding='UTF-8'>\n"
     ]
    }
   ],
   "source": [
    "file_handle = open('words.txt', 'r')\n",
    "print(file_handle)"
   ]
  },
  {
   "cell_type": "code",
   "execution_count": 117,
   "metadata": {},
   "outputs": [
    {
     "name": "stdout",
     "output_type": "stream",
     "text": [
      "<_io.TextIOWrapper name='words2.txt' mode='w' encoding='UTF-8'>\n"
     ]
    }
   ],
   "source": [
    "createFile = open('words2.txt', 'w')\n",
    "print(createFile)"
   ]
  },
  {
   "cell_type": "markdown",
   "metadata": {},
   "source": [
    "The file handle is not the actual data contained in the file, but instead it is a \"handle\" that we can use to read the data. You are given a handle if the requested file exists and you have the proper permissions to read the file."
   ]
  },
  {
   "attachments": {
    "file_handle.png": {
     "image/png": "[encoded data removed]"
    }
   },
   "cell_type": "markdown",
   "metadata": {},
   "source": [
    "![file_handle.png](attachment:file_handle.png)"
   ]
  },
  {
   "cell_type": "markdown",
   "metadata": {},
   "source": [
    "If the file does not exist, open will fail with a traceback and you will not get a handle to access the contents of the file: [PEW]"
   ]
  },
  {
   "cell_type": "code",
   "execution_count": 120,
   "metadata": {},
   "outputs": [],
   "source": [
    "file_handle = open('words.txt', 'r')"
   ]
  },
  {
   "cell_type": "markdown",
   "metadata": {},
   "source": [
    "##  The newline character (`'\\n'`)"
   ]
  },
  {
   "cell_type": "markdown",
   "metadata": {},
   "source": [
    "A text file can be thought of as a sequence of lines. To break the file into lines, there is a special character that represents the \"end of the line\" called the newline character.\n",
    "\n",
    "In Python, we represent the newline character as a `backslash-n` in string constants. Even though this looks like two characters, it is actually a single character. When we look at the variable by entering \"stuff\" in the interpreter, it shows us the `\\n` in the string, but when we use print to show the string, we see the string broken into two lines by the newline character.[PEW]"
   ]
  },
  {
   "cell_type": "code",
   "execution_count": 122,
   "metadata": {},
   "outputs": [
    {
     "name": "stdout",
     "output_type": "stream",
     "text": [
      "Hello\n",
      "World!\n"
     ]
    }
   ],
   "source": [
    "stuff = 'Hello\\nWorld!'\n",
    "print(stuff)"
   ]
  },
  {
   "cell_type": "raw",
   "metadata": {},
   "source": [
    "print(stuff)"
   ]
  },
  {
   "cell_type": "code",
   "execution_count": 123,
   "metadata": {},
   "outputs": [
    {
     "name": "stdout",
     "output_type": "stream",
     "text": [
      "X\n",
      "Y\n"
     ]
    }
   ],
   "source": [
    "stuff = 'X\\nY'\n",
    "print(stuff)"
   ]
  },
  {
   "cell_type": "code",
   "execution_count": 124,
   "metadata": {},
   "outputs": [
    {
     "data": {
      "text/plain": [
       "3"
      ]
     },
     "execution_count": 124,
     "metadata": {},
     "output_type": "execute_result"
    }
   ],
   "source": [
    "len(stuff)"
   ]
  },
  {
   "cell_type": "markdown",
   "metadata": {},
   "source": [
    "##  Reading Files"
   ]
  },
  {
   "cell_type": "markdown",
   "metadata": {},
   "source": [
    "- A file handle open for reading can be treated as a sequence of strings where each line in the file is a string in the sequence\n",
    "- We can use the for statement to iterate through a sequence\n",
    "- Remember - a sequence is an ordered set"
   ]
  },
  {
   "cell_type": "code",
   "execution_count": 135,
   "metadata": {},
   "outputs": [
    {
     "name": "stdout",
     "output_type": "stream",
     "text": [
      "This is a sample file\n",
      "This is second line\n",
      "This is 3rd line\n"
     ]
    }
   ],
   "source": [
    "f = open('words.txt')\n",
    "for line in f:\n",
    "    line = line.strip()\n",
    "    print(line)"
   ]
  },
  {
   "cell_type": "markdown",
   "metadata": {},
   "source": [
    "#### Why are there blank lines?"
   ]
  },
  {
   "cell_type": "markdown",
   "metadata": {},
   "source": [
    "Each line from the file has a newline at the end: The `print` statement adds a newline to each line.\n",
    "We can strip the whitespace from the right-hand side of the string using `rstrip()` from the string library. The newline is considered “white space” and is stripped"
   ]
  },
  {
   "cell_type": "code",
   "execution_count": 136,
   "metadata": {},
   "outputs": [
    {
     "name": "stdout",
     "output_type": "stream",
     "text": [
      "This is a sample file\n",
      "This is second line\n",
      "This is 3rd line\n"
     ]
    }
   ],
   "source": [
    "f = open('words.txt')\n",
    "for line in f:\n",
    "    line = line.rstrip()\n",
    "    print(line)"
   ]
  },
  {
   "cell_type": "markdown",
   "metadata": {},
   "source": [
    "#### Reading the whole file"
   ]
  },
  {
   "cell_type": "markdown",
   "metadata": {},
   "source": [
    "We can read the entire file in one go with the `read()` method"
   ]
  },
  {
   "cell_type": "code",
   "execution_count": 141,
   "metadata": {},
   "outputs": [
    {
     "name": "stdout",
     "output_type": "stream",
     "text": [
      "67\n"
     ]
    }
   ],
   "source": [
    "f = open('words.txt')\n",
    "text = f.read()\n",
    "print(len(text))\n",
    "\n",
    "#あ"
   ]
  },
  {
   "cell_type": "markdown",
   "metadata": {},
   "source": [
    "### Searching through a file"
   ]
  },
  {
   "cell_type": "markdown",
   "metadata": {},
   "source": [
    "Our example file for this exercise is [mbox-short.txt](www.py4e.com/code3/mbox-short.txt), a text file that records mail activity for a project. Try viewing the contents of `mbox-short.txt` using your terminal.\n",
    "Our task is to extract all the email addresses from the text file.[あ]"
   ]
  },
  {
   "cell_type": "markdown",
   "metadata": {},
   "source": [
    "When you are searching through data in a file, it is a very common pattern to read through a file, ignoring most of the lines and only processing lines which meet a particular condition. We can combine the pattern for reading a file with string methods to build simple search mechanisms."
   ]
  },
  {
   "cell_type": "code",
   "execution_count": 140,
   "metadata": {},
   "outputs": [],
   "source": [
    "fhand = open('words.txt')\n",
    "count = 0\n",
    "for line in fhand:\n",
    "    if line.startswith('From:'):\n",
    "        line = line.rstrip()\n",
    "        print(line)"
   ]
  },
  {
   "cell_type": "markdown",
   "metadata": {},
   "source": [
    "We can use the `find` string method to simulate a text editor search that finds lines where the search string is anywhere in the line. Since find looks for an occurrence of a string within another string and either returns the position of the string or `-1` if the string was not found, we can write the following loop to show lines which contain the string **\"@uct.ac.za\"** (i.e., they come from the University of Cape Town in South Africa)"
   ]
  },
  {
   "cell_type": "code",
   "execution_count": 149,
   "metadata": {},
   "outputs": [
    {
     "name": "stdout",
     "output_type": "stream",
     "text": [
      "This is a sample file from Edwin Lacap\n"
     ]
    }
   ],
   "source": [
    "fhand = open('words.txt')\n",
    "for line in fhand:\n",
    "    line = line.rstrip()\n",
    "    if line.find('Edwin') == -1: \n",
    "        continue\n",
    "    print(line)"
   ]
  },
  {
   "cell_type": "markdown",
   "metadata": {},
   "source": [
    "### Using `try`, `except`, and `open`"
   ]
  },
  {
   "cell_type": "markdown",
   "metadata": {},
   "source": [
    "Handling files easily lends itself to run time errors, especially when the file you are trying to open does not exist. To prevent run time errors, it is a good practice to put the `open` command of a file inside a `try-except` block. [あ]"
   ]
  },
  {
   "cell_type": "markdown",
   "metadata": {},
   "source": [
    "Execute the code below, entering a name of a file that does not exist.[あ]"
   ]
  },
  {
   "cell_type": "code",
   "execution_count": 154,
   "metadata": {},
   "outputs": [
    {
     "name": "stdout",
     "output_type": "stream",
     "text": [
      "Enter a filename:missingfile.txt\n",
      "missingfile.txt does not exist.\n"
     ]
    }
   ],
   "source": [
    "filename = input('Enter a filename:')\n",
    "try:\n",
    "    f = open(filename,'r')\n",
    "    text = f.read()\n",
    "    print('{} has {} characters.'.format(filename, len(text)))\n",
    "except:\n",
    "    print(filename+ ' does not exist.')\n"
   ]
  },
  {
   "cell_type": "markdown",
   "metadata": {},
   "source": [
    "The code below is similar to the one above. Now execute it entering a name of a file that you are sure exists. [あ]"
   ]
  },
  {
   "cell_type": "code",
   "execution_count": 153,
   "metadata": {},
   "outputs": [
    {
     "name": "stdout",
     "output_type": "stream",
     "text": [
      "Enter a filename:words.txt\n",
      "words.txt has 84 characters.\n"
     ]
    }
   ],
   "source": [
    "filename = input('Enter a filename:')\n",
    "try:\n",
    "    f = open(filename,'r')\n",
    "    text = f.read()\n",
    "    print('{} has {} characters.'.format(filename, len(text)))\n",
    "except:\n",
    "    print(filename+ ' does not exist.')\n"
   ]
  },
  {
   "cell_type": "markdown",
   "metadata": {},
   "source": [
    "### Writing files"
   ]
  },
  {
   "cell_type": "markdown",
   "metadata": {},
   "source": [
    "To write a file, you have to open it with mode `'w'` as a second parameter. When you are done writing, you have to `close` the file to make sure that the last bit of data is physically written to the disk so it will not be lost if the power goes off."
   ]
  },
  {
   "cell_type": "code",
   "execution_count": 158,
   "metadata": {},
   "outputs": [],
   "source": [
    "fout = open('output.txt', 'w')\n",
    "fout.write('First line\\n')\n",
    "fout.write('Second line\\n')\n",
    "line3 = '1 Petabyte is {}^{} ({}) bytes\\n'.format(10,15, 10**15)\n",
    "fout.write(line3)\n",
    "fout.close()"
   ]
  },
  {
   "cell_type": "raw",
   "metadata": {},
   "source": [
    "# If you're using Mac or Linux, execute this cell to view the file that was created.\n",
    "!cat output.txt"
   ]
  },
  {
   "cell_type": "raw",
   "metadata": {},
   "source": [
    "# If you're using Windows, execute this cell to view the file that was created.\n",
    "!type output.txt"
   ]
  },
  {
   "cell_type": "markdown",
   "metadata": {},
   "source": [
    "We could close the files which we open for read as well, but we can be a little sloppy if we are only opening a few files since Python makes sure that all open files are closed when the program ends. When we are writing files, we want to explicitly close the files so as to leave nothing to chance."
   ]
  },
  {
   "cell_type": "markdown",
   "metadata": {},
   "source": [
    "## Final Words"
   ]
  },
  {
   "cell_type": "markdown",
   "metadata": {},
   "source": [
    "- File handling skills are important for manipulating data directly.\n",
    "- However, many python modules (such as **pandas**) already provide methods for handling different types of files, providing many additional options on how to read and interpret the file.\n",
    "- The skills you have learned in this chapter will remove a bit of the mystery behind those file-handling methods provided by the other python modules\n",
    "\n",
    "[あ]"
   ]
  },
  {
   "cell_type": "markdown",
   "metadata": {},
   "source": [
    "## EXERCISES"
   ]
  },
  {
   "cell_type": "markdown",
   "metadata": {},
   "source": [
    "#### Exercise 1  "
   ]
  },
  {
   "cell_type": "markdown",
   "metadata": {},
   "source": [
    "Write a program to read through a file and print the contents of the file (line by line) all in upper case.\n",
    "\n",
    "from [PEW] E8-1"
   ]
  },
  {
   "cell_type": "code",
   "execution_count": 162,
   "metadata": {},
   "outputs": [
    {
     "name": "stdout",
     "output_type": "stream",
     "text": [
      "THIS IS A SAMPLE FILE FROM EDWIN LACAP\n",
      "THIS IS SECOND LINE\n",
      "THIS IS 3RD LINE\n",
      "4TH LINE\n"
     ]
    }
   ],
   "source": [
    "f = open('words.txt')\n",
    "for line in f:\n",
    "    line = line.strip()\n",
    "    line = line.upper()\n",
    "    print(line)"
   ]
  },
  {
   "cell_type": "markdown",
   "metadata": {},
   "source": [
    "#### Exercise 2  "
   ]
  },
  {
   "cell_type": "markdown",
   "metadata": {},
   "source": [
    "Write a program to read through a file and output the number of lines in a file.\n",
    "\n",
    "adapted from [PEW] "
   ]
  },
  {
   "cell_type": "code",
   "execution_count": 169,
   "metadata": {},
   "outputs": [
    {
     "name": "stdout",
     "output_type": "stream",
     "text": [
      "84\n"
     ]
    }
   ],
   "source": [
    "f = open('words.txt')\n",
    "text = f.read()\n",
    "print(len(text))"
   ]
  },
  {
   "cell_type": "markdown",
   "metadata": {},
   "source": [
    "## CHALLENGE\n",
    "\n",
    "from [PEW] E8-2"
   ]
  },
  {
   "cell_type": "markdown",
   "metadata": {},
   "source": [
    "Write a program to prompt for a file name, and then read through the file and look for lines of the form:"
   ]
  },
  {
   "cell_type": "raw",
   "metadata": {},
   "source": [
    "X-DSPAM-Confidence: 0.8475"
   ]
  },
  {
   "cell_type": "code",
   "execution_count": 189,
   "metadata": {},
   "outputs": [
    {
     "name": "stdout",
     "output_type": "stream",
     "text": [
      "Enter a filename:mbox.txt\n",
      "X-DSPAM-Confidence: 0.8475\n",
      "X-DSPAM-Confidence: 0.8475\n"
     ]
    }
   ],
   "source": [
    "filename = input('Enter a filename:')\n",
    "\n",
    "fhand = open(filename, 'r')\n",
    "for line in fhand:\n",
    "    line = line.rstrip()\n",
    "    if line.find('X-DSPAM-Confidence: 0.8475') == -1: \n",
    "        continue\n",
    "    print(line)\n",
    "    "
   ]
  },
  {
   "cell_type": "markdown",
   "metadata": {},
   "source": [
    "When you encounter a line that starts with \"X-DSPAM-Confidence:\" pull apart the line to extract the floating-point number on the line. Count these lines and then compute the total of the spam confidence values from these lines. When you reach the end of the file, print out the average spam confidence."
   ]
  },
  {
   "cell_type": "code",
   "execution_count": null,
   "metadata": {},
   "outputs": [],
   "source": [
    "filename = input('Enter a filename:')\n",
    "\n",
    "fhand = open(filename, 'r')\n",
    "for line in fhand:\n",
    "    line = line.rstrip()\n",
    "    if line.find('X-DSPAM-Confidence') == -1: \n",
    "        continue\n",
    "    print(line)\n",
    "    "
   ]
  },
  {
   "cell_type": "raw",
   "metadata": {},
   "source": [
    "Enter the file name: mbox.txt\n",
    "Average spam confidence: 0.894128046745\n",
    "\n",
    "Enter the file name: mbox-short.txt\n",
    "Average spam confidence: 0.750718518519"
   ]
  },
  {
   "cell_type": "markdown",
   "metadata": {},
   "source": [
    "<a id='chapter8'></a>"
   ]
  },
  {
   "cell_type": "markdown",
   "metadata": {},
   "source": [
    "[TABLE OF CONTENTS](#contents)"
   ]
  }
 ],
 "metadata": {
  "hide_input": false,
  "kernelspec": {
   "display_name": "Python 3",
   "language": "python",
   "name": "python3"
  },
  "language_info": {
   "codemirror_mode": {
    "name": "ipython",
    "version": 3
   },
   "file_extension": ".py",
   "mimetype": "text/x-python",
   "name": "python",
   "nbconvert_exporter": "python",
   "pygments_lexer": "ipython3",
   "version": "3.7.3"
  }
 },
 "nbformat": 4,
 "nbformat_minor": 2
}
