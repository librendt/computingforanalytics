{
 "cells": [
  {
   "cell_type": "markdown",
   "metadata": {},
   "source": [
    "# PYTHON FUNDAMENTALS, Part 3\n",
    "\n",
    "[CC BY 4.0](https://creativecommons.org/licenses/by/4.0/)"
   ]
  },
  {
   "cell_type": "markdown",
   "metadata": {},
   "source": [
    "## Credits\n",
    "\n",
    "Most code snippets and explanatory texts from: \n",
    "- Charles Russel Severance's [Python for Everybody](https://www.py4e.com/) lecture slides\n",
    "  -  Unless annotated as indicated below, text and code came from this source. Additionally, they could be explicitly indicated by the marker `[PES]`\n",
    "\n",
    "and\n",
    "- Charles Russel Severance's [Python for Everybody - Online HTML Book](https://www.py4e.com/html3/)\n",
    "  - Notes and codes from this source are indicated by this the marker `[PEW]`\n",
    "\n",
    "Additional codes and comments from:\n",
    "\n",
    "- Antonio C. Briza\n",
    "  - code cells marked by `#あ` at the first or last line\n",
    "  - markdown and raw cells marked by `[あ]` at the end\n",
    "\n",
    "- J.R. Johansson's [Introduction to Scientific Computing with Python](http://github.com/jrjohansson/scientific-python-lectures) \n",
    "  - Notes and codes from this source are indicated by this the marker `[JRJ]`"
   ]
  },
  {
   "cell_type": "markdown",
   "metadata": {},
   "source": [
    "# Before you begin\n",
    "\n",
    "First, make a copy of this notebook so that you can make changes as you please. Run and edit the copy instead of this original notebook. To copy this notebook, go to `File|Make a Copy`.\n",
    "\n",
    "If this notebook is already a copy of the original, clear all outputs in this notebook. Go to the Menu and click on `Cell| All Outputs| Clear`. Once this is done, you're ready to go."
   ]
  },
  {
   "cell_type": "markdown",
   "metadata": {},
   "source": [
    "# Suggestions for Learning\n",
    "\n",
    "- Code snippets in Raw Cells are meant to be written by Beginners.\n",
    "- Code snippets in Code Cells are for illustration purposes. They are meant to be executed by both Beginners and more experienced Learners. (Beginners, may wish to also type them, if they so choose).\n",
    "\n",
    "For better learning experience, the following are suggested:\n",
    "\n",
    "### For Beginners\n",
    "1. Create a new Code Cell below the code snippets inside Raw Cells (Insert Cell below then convert the cell type to Code Cell). \n",
    "2. Go to your newly-created Code Cell and re-type what you see in the code snippet (don't copy-paste) \n",
    "3. Execute (and experiment) on the Code Cell. \n",
    "4. Remember to learn by doing (not just by reading or seeing)\n",
    "\n",
    "### For Coders\n",
    "1. If you are not yet familiar with the concept, follow Steps 1&2 of the Instructions for Beginners\n",
    "2. If you are already familiar with the concept being presented, convert the Raw Cell into a Code Cell.\n",
    "3. Execute (and experiment) on the Code Cell. \n",
    "4. Learn the \"adjacent concepts\", e.g. read related documentation.\n",
    "5. Help your classmates, because teaching is a wonderful way to learn. \n",
    "\n",
    "### For All\n",
    "* Make this your personal notebook.\n",
    "    * Add your own text annotations in Markup Cells. \n",
    "    * Add comments to parts of code that you find difficult to understand\n",
    "    * Breakdown difficult code into several small pieces (maybe, several Code Cells) that are easier to understand"
   ]
  },
  {
   "cell_type": "markdown",
   "metadata": {},
   "source": [
    "<a id='contents'></a>"
   ]
  },
  {
   "cell_type": "markdown",
   "metadata": {},
   "source": [
    "# TABLE OF CONTENTS"
   ]
  },
  {
   "cell_type": "markdown",
   "metadata": {},
   "source": [
    "[Chapter 8 Lists](#chapter8)<br>\n",
    "[Chapter 9 Dictionaries](#chapter9)<br>\n",
    "[Chapter 10 Tuples](#chapter10)<br>\n"
   ]
  },
  {
   "cell_type": "markdown",
   "metadata": {},
   "source": [
    "<a id='chapter8'></a>\n",
    "\n",
    "# CHAPTER  8 - Lists"
   ]
  },
  {
   "cell_type": "markdown",
   "metadata": {},
   "source": [
    "Like a string, a list is a sequence of values. In a string, the values are characters; in a list, they can be any type. The values in a list are called `elements` or, sometimes, `items`.   \n",
    "\n",
    "[PEW]"
   ]
  },
  {
   "cell_type": "markdown",
   "metadata": {},
   "source": [
    "Lists play an important role in Python. They are often used in `for` loops\n",
    "and in defining other more complex data structures (e.g. arrays, pandas Series and Dataframes) [あ]"
   ]
  },
  {
   "cell_type": "markdown",
   "metadata": {},
   "source": [
    "## List Constants"
   ]
  },
  {
   "cell_type": "markdown",
   "metadata": {},
   "source": [
    "- List constants are surrounded by square brackets and the elements in the list are separated by commas\n",
    "- A list element can be any Python object - even another list\n",
    "- A list can be empty"
   ]
  },
  {
   "cell_type": "code",
   "execution_count": 1,
   "metadata": {},
   "outputs": [
    {
     "name": "stdout",
     "output_type": "stream",
     "text": [
      "[]\n",
      "[3, 7, 9, 1]\n",
      "['elven-kings', 'dwarf-lords', 'mortal men', 'Dark Lord']\n",
      "[1, 'ring', 2.0, 'rule them all']\n",
      "[3, [7, 9], 1]\n",
      "[3, [3, 7, 9, 1], 1]\n"
     ]
    }
   ],
   "source": [
    "empty_list = []\n",
    "int_list = [3, 7, 9, 1]\n",
    "string_list = ['elven-kings', 'dwarf-lords', 'mortal men', 'Dark Lord']\n",
    "mixed_list = [1, 'ring', 2.0, 'rule them all']\n",
    "list_with_a_list = [3, [7, 9], 1]\n",
    "list_with_a_list2 = [3, int_list, 1]\n",
    "\n",
    "print(empty_list)\n",
    "print(int_list)\n",
    "print(string_list)\n",
    "print(mixed_list)\n",
    "print(list_with_a_list)\n",
    "print(list_with_a_list2)\n",
    "#あ "
   ]
  },
  {
   "cell_type": "markdown",
   "metadata": {},
   "source": [
    "## Lists and `for` Loops"
   ]
  },
  {
   "cell_type": "markdown",
   "metadata": {},
   "source": [
    "Lists are often used in `for` loops.\n",
    "#あ "
   ]
  },
  {
   "cell_type": "code",
   "execution_count": 5,
   "metadata": {},
   "outputs": [
    {
     "name": "stdout",
     "output_type": "stream",
     "text": [
      "Happy New Year: Joseph\n",
      "Happy New Year: Glenn\n",
      "Happy New Year: Sally\n",
      "Done!\n"
     ]
    }
   ],
   "source": [
    "friends = ['Joseph', 'Glenn', 'Sally']\n",
    "for f in friends:\n",
    "    print('Happy New Year:',  f)\n",
    "print('Done!')"
   ]
  },
  {
   "cell_type": "markdown",
   "metadata": {},
   "source": [
    "## Looking Inside Lists"
   ]
  },
  {
   "cell_type": "markdown",
   "metadata": {},
   "source": [
    "- The syntax for accessing the elements of a list is the same as for accessing the characters of a string: the **bracket operator**. \n",
    "- The expression inside the brackets specifies the **index**. \n",
    "- **Remember that the indices start at 0**. \n",
    "\n",
    "[PEW]"
   ]
  },
  {
   "cell_type": "code",
   "execution_count": 3,
   "metadata": {},
   "outputs": [
    {
     "name": "stdout",
     "output_type": "stream",
     "text": [
      "Glenn\n"
     ]
    }
   ],
   "source": [
    "friends = [ 'Joseph', 'Glenn', 'Sally' ]\n",
    "print(friends[1])"
   ]
  },
  {
   "cell_type": "code",
   "execution_count": 6,
   "metadata": {},
   "outputs": [
    {
     "data": {
      "text/plain": [
       "[3, [7, 9], 1]"
      ]
     },
     "execution_count": 6,
     "metadata": {},
     "output_type": "execute_result"
    }
   ],
   "source": [
    "list_with_a_list"
   ]
  },
  {
   "cell_type": "code",
   "execution_count": 7,
   "metadata": {},
   "outputs": [
    {
     "data": {
      "text/plain": [
       "3"
      ]
     },
     "execution_count": 7,
     "metadata": {},
     "output_type": "execute_result"
    }
   ],
   "source": [
    "list_with_a_list[0]"
   ]
  },
  {
   "cell_type": "markdown",
   "metadata": {},
   "source": [
    "The expression below access the 2nd element, which is itself a list. [あ]"
   ]
  },
  {
   "cell_type": "code",
   "execution_count": 8,
   "metadata": {},
   "outputs": [
    {
     "data": {
      "text/plain": [
       "[7, 9]"
      ]
     },
     "execution_count": 8,
     "metadata": {},
     "output_type": "execute_result"
    }
   ],
   "source": [
    "list_with_a_list[1]"
   ]
  },
  {
   "cell_type": "markdown",
   "metadata": {},
   "source": [
    "We can access the elements of the inner list in a similar manner. The expression below accesses the first element of the inner list. [あ]"
   ]
  },
  {
   "cell_type": "code",
   "execution_count": 9,
   "metadata": {},
   "outputs": [
    {
     "data": {
      "text/plain": [
       "7"
      ]
     },
     "execution_count": 9,
     "metadata": {},
     "output_type": "execute_result"
    }
   ],
   "source": [
    "list_with_a_list[1][0]"
   ]
  },
  {
   "cell_type": "markdown",
   "metadata": {},
   "source": [
    "You can break down the code above in the following manner: [あ]"
   ]
  },
  {
   "cell_type": "code",
   "execution_count": 10,
   "metadata": {},
   "outputs": [
    {
     "data": {
      "text/plain": [
       "[7, 9]"
      ]
     },
     "execution_count": 10,
     "metadata": {},
     "output_type": "execute_result"
    }
   ],
   "source": [
    "inner_list = list_with_a_list[1]\n",
    "inner_list"
   ]
  },
  {
   "cell_type": "code",
   "execution_count": 11,
   "metadata": {},
   "outputs": [
    {
     "data": {
      "text/plain": [
       "7"
      ]
     },
     "execution_count": 11,
     "metadata": {},
     "output_type": "execute_result"
    }
   ],
   "source": [
    "inner_list[0]"
   ]
  },
  {
   "cell_type": "markdown",
   "metadata": {},
   "source": [
    "## Lists are Mutable"
   ]
  },
  {
   "cell_type": "markdown",
   "metadata": {},
   "source": [
    "Strings are “immutable” - we cannot change the contents of a string..."
   ]
  },
  {
   "cell_type": "code",
   "execution_count": null,
   "metadata": {},
   "outputs": [],
   "source": [
    "fruit = 'Banana'\n",
    "fruit[0] = 'b'"
   ]
  },
  {
   "cell_type": "markdown",
   "metadata": {},
   "source": [
    "...we must make a new string to make any change"
   ]
  },
  {
   "cell_type": "code",
   "execution_count": null,
   "metadata": {},
   "outputs": [],
   "source": [
    "x = fruit.lower()\n",
    "print(x)"
   ]
  },
  {
   "cell_type": "markdown",
   "metadata": {},
   "source": [
    "Lists are *mutable* - we can change an element of a list using the index operator."
   ]
  },
  {
   "cell_type": "code",
   "execution_count": 12,
   "metadata": {},
   "outputs": [
    {
     "name": "stdout",
     "output_type": "stream",
     "text": [
      "[2, 14, 26, 41, 63]\n"
     ]
    }
   ],
   "source": [
    "lotto_numbers = [2, 14, 26, 41, 63]\n",
    "print(lotto_numbers)"
   ]
  },
  {
   "cell_type": "code",
   "execution_count": 13,
   "metadata": {},
   "outputs": [
    {
     "name": "stdout",
     "output_type": "stream",
     "text": [
      "[9, 14, 26, 41, 63]\n"
     ]
    }
   ],
   "source": [
    "lotto_numbers[0] = 9\n",
    "print(lotto_numbers)\n",
    "\n",
    "#あ"
   ]
  },
  {
   "cell_type": "markdown",
   "metadata": {},
   "source": [
    "## How Long is a List?"
   ]
  },
  {
   "cell_type": "markdown",
   "metadata": {},
   "source": [
    "- The `len()` function takes a list as a parameter and returns the number of elements in the list\n",
    "- Actually `len()` tells us the number of elements of any set or sequence (such as a string...)"
   ]
  },
  {
   "cell_type": "code",
   "execution_count": 14,
   "metadata": {},
   "outputs": [
    {
     "name": "stdout",
     "output_type": "stream",
     "text": [
      "9\n"
     ]
    }
   ],
   "source": [
    "greeting = 'Hello Bob'\n",
    "print(len(greeting))"
   ]
  },
  {
   "cell_type": "code",
   "execution_count": 15,
   "metadata": {},
   "outputs": [
    {
     "name": "stdout",
     "output_type": "stream",
     "text": [
      "4\n"
     ]
    }
   ],
   "source": [
    "x = [ 1, 2, 'joe', 99]\n",
    "print(len(x))"
   ]
  },
  {
   "cell_type": "markdown",
   "metadata": {},
   "source": [
    "Can you guess how many elements there are in this list? [あ]"
   ]
  },
  {
   "cell_type": "code",
   "execution_count": 18,
   "metadata": {},
   "outputs": [
    {
     "data": {
      "text/plain": [
       "3"
      ]
     },
     "execution_count": 18,
     "metadata": {},
     "output_type": "execute_result"
    }
   ],
   "source": [
    "list_with_a_list = [3, [7, 9], 1]\n",
    "len(list_with_a_list)"
   ]
  },
  {
   "cell_type": "markdown",
   "metadata": {},
   "source": [
    "## Generating a list of integers using the `range()`"
   ]
  },
  {
   "cell_type": "markdown",
   "metadata": {},
   "source": [
    "- The built-in function `range()` returns an object that produces a sequence of integers \n",
    "- Parameters: `start`, `stop`, `step`.\n",
    "-  the sequence of integers produced are from `start` (inclusive) to `stop` (exclusive) with intervals set by `step`.\n",
    "- We can transform this object by passing it to the **`list()`** function. This list can then be used in a `for` loop.\n",
    "\n",
    "[あ]"
   ]
  },
  {
   "cell_type": "markdown",
   "metadata": {},
   "source": [
    "Let's get some information on range by passing it to the `help()` function."
   ]
  },
  {
   "cell_type": "code",
   "execution_count": null,
   "metadata": {},
   "outputs": [],
   "source": [
    "help(range)"
   ]
  },
  {
   "cell_type": "markdown",
   "metadata": {},
   "source": [
    "Below are the important portions of the documentation"
   ]
  },
  {
   "cell_type": "markdown",
   "metadata": {},
   "source": [
    "    range(stop) -> range object\n",
    "    range(start, stop [, step]) -> range object\n",
    "    \n",
    "    Return an object that produces a sequence of integers from start (inclusive) to stop (exclusive) by step.  \n",
    "        range(i, j) produces i, i+1, i+2, ..., j-1.\n",
    "    \n",
    "    start defaults to 0 and stop is omitted!  \n",
    "        range(4) produces 0, 1, 2, 3.\n",
    "        \n",
    "    When step is given, it specifies the increment (or decrement)."
   ]
  },
  {
   "cell_type": "markdown",
   "metadata": {},
   "source": [
    "#### Specifying only the `stop` parameter"
   ]
  },
  {
   "cell_type": "code",
   "execution_count": 20,
   "metadata": {},
   "outputs": [
    {
     "data": {
      "text/plain": [
       "range(0, 4)"
      ]
     },
     "execution_count": 20,
     "metadata": {},
     "output_type": "execute_result"
    }
   ],
   "source": [
    "stop = 4\n",
    "a = range(stop)\n",
    "a"
   ]
  },
  {
   "cell_type": "markdown",
   "metadata": {},
   "source": [
    "What is returned is a `range` object.\n",
    "We can also pass an integer value directly to the function."
   ]
  },
  {
   "cell_type": "code",
   "execution_count": 21,
   "metadata": {},
   "outputs": [
    {
     "data": {
      "text/plain": [
       "range(0, 4)"
      ]
     },
     "execution_count": 21,
     "metadata": {},
     "output_type": "execute_result"
    }
   ],
   "source": [
    "a = range(4)\n",
    "a"
   ]
  },
  {
   "cell_type": "markdown",
   "metadata": {},
   "source": [
    "You can convert `range` into a `list`  using  the `list()` function"
   ]
  },
  {
   "cell_type": "code",
   "execution_count": 22,
   "metadata": {},
   "outputs": [
    {
     "data": {
      "text/plain": [
       "[0, 1, 2, 3]"
      ]
     },
     "execution_count": 22,
     "metadata": {},
     "output_type": "execute_result"
    }
   ],
   "source": [
    "b = list(range(4))\n",
    "b"
   ]
  },
  {
   "cell_type": "markdown",
   "metadata": {},
   "source": [
    "Note that 4 is not included in the generated list."
   ]
  },
  {
   "cell_type": "markdown",
   "metadata": {},
   "source": [
    "#### Specifying `start` and  `stop` parameters"
   ]
  },
  {
   "cell_type": "code",
   "execution_count": 23,
   "metadata": {},
   "outputs": [
    {
     "data": {
      "text/plain": [
       "[2, 3, 4, 5, 6, 7, 8, 9, 10, 11, 12, 13, 14, 15, 16, 17, 18, 19]"
      ]
     },
     "execution_count": 23,
     "metadata": {},
     "output_type": "execute_result"
    }
   ],
   "source": [
    "start = 2\n",
    "stop = 20\n",
    "c = range(start, stop)\n",
    "list(c)"
   ]
  },
  {
   "cell_type": "markdown",
   "metadata": {},
   "source": [
    "We can compact the above code to"
   ]
  },
  {
   "cell_type": "code",
   "execution_count": 24,
   "metadata": {},
   "outputs": [
    {
     "data": {
      "text/plain": [
       "[2, 3, 4, 5, 6, 7, 8, 9, 10, 11, 12, 13, 14, 15, 16, 17, 18, 19]"
      ]
     },
     "execution_count": 24,
     "metadata": {},
     "output_type": "execute_result"
    }
   ],
   "source": [
    "list(range(2,20))"
   ]
  },
  {
   "cell_type": "markdown",
   "metadata": {},
   "source": [
    "#### Specifying `start`,  `stop` and `step` parameters"
   ]
  },
  {
   "cell_type": "code",
   "execution_count": 25,
   "metadata": {},
   "outputs": [
    {
     "data": {
      "text/plain": [
       "[2, 4, 6, 8, 10, 12, 14, 16, 18]"
      ]
     },
     "execution_count": 25,
     "metadata": {},
     "output_type": "execute_result"
    }
   ],
   "source": [
    "start = 2\n",
    "stop = 20\n",
    "step = 2\n",
    "d = range(start, stop, step)\n",
    "list(d)"
   ]
  },
  {
   "cell_type": "code",
   "execution_count": 33,
   "metadata": {},
   "outputs": [
    {
     "data": {
      "text/plain": [
       "[2, 4, 6, 8, 10, 12, 14, 16, 18]"
      ]
     },
     "execution_count": 33,
     "metadata": {},
     "output_type": "execute_result"
    }
   ],
   "source": [
    "list(range(2, 20, 2))"
   ]
  },
  {
   "cell_type": "markdown",
   "metadata": {},
   "source": [
    "Using a negative `step` parameter"
   ]
  },
  {
   "cell_type": "code",
   "execution_count": 29,
   "metadata": {},
   "outputs": [
    {
     "data": {
      "text/plain": [
       "[20, 7]"
      ]
     },
     "execution_count": 29,
     "metadata": {},
     "output_type": "execute_result"
    }
   ],
   "source": [
    "list(range(20, 2, -13))"
   ]
  },
  {
   "cell_type": "code",
   "execution_count": 30,
   "metadata": {},
   "outputs": [
    {
     "data": {
      "text/plain": [
       "[]"
      ]
     },
     "execution_count": 30,
     "metadata": {},
     "output_type": "execute_result"
    }
   ],
   "source": [
    "list(range(2, 20, -2))"
   ]
  },
  {
   "cell_type": "markdown",
   "metadata": {},
   "source": [
    "### Using `range` in `for` loops"
   ]
  },
  {
   "cell_type": "markdown",
   "metadata": {},
   "source": [
    "The result of the `range()` function could directly be used in a for loop without converting it to a list.[あ]"
   ]
  },
  {
   "cell_type": "code",
   "execution_count": 34,
   "metadata": {},
   "outputs": [
    {
     "name": "stdout",
     "output_type": "stream",
     "text": [
      "The square of 1 is 1\n",
      "The square of 2 is 4\n",
      "The square of 3 is 9\n",
      "The square of 4 is 16\n",
      "The square of 5 is 25\n"
     ]
    }
   ],
   "source": [
    "for i in range(1,6):\n",
    "    print('The square of {} is {}'.format(i, i**2))"
   ]
  },
  {
   "cell_type": "markdown",
   "metadata": {},
   "source": [
    "## Generating lists using the List Comprehenion"
   ]
  },
  {
   "cell_type": "markdown",
   "metadata": {},
   "source": [
    "The code below generates a list of squares of the numbers from 1 to 5 "
   ]
  },
  {
   "cell_type": "code",
   "execution_count": 54,
   "metadata": {},
   "outputs": [
    {
     "name": "stdout",
     "output_type": "stream",
     "text": [
      "[1, 4, 9, 16, 25, 36, 49, 64, 81]\n"
     ]
    }
   ],
   "source": [
    "my_list = []\n",
    "for num in range(1,10):\n",
    "    my_list.append(num**2)\n",
    "print(my_list)\n",
    "\n",
    "#あ"
   ]
  },
  {
   "cell_type": "markdown",
   "metadata": {},
   "source": [
    "The same list could be generated usin **list comprehension**:"
   ]
  },
  {
   "cell_type": "code",
   "execution_count": 55,
   "metadata": {},
   "outputs": [
    {
     "data": {
      "text/plain": [
       "[0, 1, 8, 27, 64]"
      ]
     },
     "execution_count": 55,
     "metadata": {},
     "output_type": "execute_result"
    }
   ],
   "source": [
    "[num**3 for num in range(0,5)]"
   ]
  },
  {
   "cell_type": "markdown",
   "metadata": {},
   "source": [
    "To use list comprehension:\n",
    "- surround the expression with square brackets\n",
    "- write the expression that should be added to the list\n",
    "    - this is `num**2` in the above example\n",
    "    - this should contain a variable which appears in the `for` statement below\n",
    "        - this is `num` in the above example\n",
    "- write `for` statement to loop to a set of values\n",
    "    - this is `for num in range(0,5)` in the above example\n",
    "    - the `for` statement should **not** have a colon at the end\n",
    "    \n",
    "[あ]"
   ]
  },
  {
   "cell_type": "markdown",
   "metadata": {},
   "source": [
    "#### List comprehension with an `if` condition. "
   ]
  },
  {
   "cell_type": "markdown",
   "metadata": {},
   "source": [
    "You can put more power to list comprehensions by adding an  `if` condition after the `for` statement."
   ]
  },
  {
   "cell_type": "markdown",
   "metadata": {},
   "source": [
    "The list comprehension below returns odd numbers from 1 to 20"
   ]
  },
  {
   "cell_type": "code",
   "execution_count": null,
   "metadata": {},
   "outputs": [],
   "source": [
    "[num for num in range(1,21) if num % 2 != 0]"
   ]
  },
  {
   "cell_type": "markdown",
   "metadata": {},
   "source": [
    "The expression below returns numbers from 1 to 20 that are divisible by 3"
   ]
  },
  {
   "cell_type": "code",
   "execution_count": null,
   "metadata": {},
   "outputs": [],
   "source": [
    "[num for num in range(1,21) if num % 3 == 0]"
   ]
  },
  {
   "cell_type": "markdown",
   "metadata": {},
   "source": [
    "## Looping through lists"
   ]
  },
  {
   "cell_type": "markdown",
   "metadata": {},
   "source": [
    "### Looping through lists using `in`"
   ]
  },
  {
   "cell_type": "code",
   "execution_count": null,
   "metadata": {},
   "outputs": [],
   "source": [
    "friends = ['Joseph', 'Glenn', 'Sally']"
   ]
  },
  {
   "cell_type": "code",
   "execution_count": null,
   "metadata": {},
   "outputs": [],
   "source": [
    "for friend in friends :\n",
    "    print(friend)"
   ]
  },
  {
   "cell_type": "markdown",
   "metadata": {},
   "source": [
    "### Looping with  `enumerate`"
   ]
  },
  {
   "cell_type": "markdown",
   "metadata": {},
   "source": [
    "You can access both index and items in a list using `enumerate`"
   ]
  },
  {
   "cell_type": "code",
   "execution_count": 56,
   "metadata": {},
   "outputs": [
    {
     "name": "stdout",
     "output_type": "stream",
     "text": [
      "0   Joseph\n",
      "1   Glenn\n",
      "2   Sally\n"
     ]
    }
   ],
   "source": [
    "friends = ['Joseph', 'Glenn', 'Sally']\n",
    "for index, friend in enumerate(friends):\n",
    "    print(index,' ',friend)"
   ]
  },
  {
   "cell_type": "markdown",
   "metadata": {},
   "source": [
    "## Concatenating Lists Using the `+` operator"
   ]
  },
  {
   "cell_type": "code",
   "execution_count": 57,
   "metadata": {},
   "outputs": [
    {
     "name": "stdout",
     "output_type": "stream",
     "text": [
      "[1, 2, 3, 4, 5, 6]\n",
      "[1, 2, 3]\n",
      "[4, 5, 6]\n"
     ]
    }
   ],
   "source": [
    "a = [1, 2, 3]\n",
    "b = [4, 5, 6]\n",
    "c = a + b\n",
    "print(c)\n",
    "print(a)\n",
    "print(b)"
   ]
  },
  {
   "cell_type": "markdown",
   "metadata": {},
   "source": [
    "## Repeating Lists Using the `*` operator  "
   ]
  },
  {
   "cell_type": "markdown",
   "metadata": {},
   "source": [
    "The `*` operator repeats the elements in the list:"
   ]
  },
  {
   "cell_type": "code",
   "execution_count": 58,
   "metadata": {},
   "outputs": [
    {
     "data": {
      "text/plain": [
       "[0, 0, 0, 0]"
      ]
     },
     "execution_count": 58,
     "metadata": {},
     "output_type": "execute_result"
    }
   ],
   "source": [
    "quiz_grades = [0] * 4\n",
    "quiz_grades"
   ]
  },
  {
   "cell_type": "code",
   "execution_count": 59,
   "metadata": {},
   "outputs": [
    {
     "data": {
      "text/plain": [
       "[1, 2, 3, 1, 2, 3, 1, 2, 3, 1, 2, 3]"
      ]
     },
     "execution_count": 59,
     "metadata": {},
     "output_type": "execute_result"
    }
   ],
   "source": [
    "[1, 2, 3] * 4"
   ]
  },
  {
   "cell_type": "markdown",
   "metadata": {},
   "source": [
    "## Slicing Lists Using the `:` operator "
   ]
  },
  {
   "cell_type": "markdown",
   "metadata": {},
   "source": [
    "Lists, like strings, could also be sliced with the colon operator. [あ]"
   ]
  },
  {
   "cell_type": "markdown",
   "metadata": {},
   "source": [
    "Remember:  Just like in strings, the second number is “up to but not including”"
   ]
  },
  {
   "cell_type": "markdown",
   "metadata": {},
   "source": [
    "mnemonic: Right Slice of Bread : \\[  )  [あ]"
   ]
  },
  {
   "cell_type": "code",
   "execution_count": 61,
   "metadata": {},
   "outputs": [],
   "source": [
    "t = [9, 41, 12, 3, 74, 15]"
   ]
  },
  {
   "cell_type": "code",
   "execution_count": 62,
   "metadata": {},
   "outputs": [
    {
     "data": {
      "text/plain": [
       "[41, 12]"
      ]
     },
     "execution_count": 62,
     "metadata": {},
     "output_type": "execute_result"
    }
   ],
   "source": [
    "t[1:3]"
   ]
  },
  {
   "cell_type": "code",
   "execution_count": 63,
   "metadata": {},
   "outputs": [
    {
     "data": {
      "text/plain": [
       "[9, 41, 12, 3]"
      ]
     },
     "execution_count": 63,
     "metadata": {},
     "output_type": "execute_result"
    }
   ],
   "source": [
    "t[:4]"
   ]
  },
  {
   "cell_type": "code",
   "execution_count": 64,
   "metadata": {},
   "outputs": [
    {
     "data": {
      "text/plain": [
       "[3, 74, 15]"
      ]
     },
     "execution_count": 64,
     "metadata": {},
     "output_type": "execute_result"
    }
   ],
   "source": [
    "t[3:]"
   ]
  },
  {
   "cell_type": "code",
   "execution_count": 65,
   "metadata": {},
   "outputs": [
    {
     "data": {
      "text/plain": [
       "[9, 41, 12, 3, 74, 15]"
      ]
     },
     "execution_count": 65,
     "metadata": {},
     "output_type": "execute_result"
    }
   ],
   "source": [
    "t[:]"
   ]
  },
  {
   "cell_type": "markdown",
   "metadata": {},
   "source": [
    "## List Methods"
   ]
  },
  {
   "cell_type": "code",
   "execution_count": 66,
   "metadata": {},
   "outputs": [
    {
     "data": {
      "text/plain": [
       "list"
      ]
     },
     "execution_count": 66,
     "metadata": {},
     "output_type": "execute_result"
    }
   ],
   "source": [
    "mylist = []\n",
    "type(mylist)"
   ]
  },
  {
   "cell_type": "markdown",
   "metadata": {},
   "source": [
    "The code below prints all available methods for the list data structure. [あ]"
   ]
  },
  {
   "cell_type": "code",
   "execution_count": 67,
   "metadata": {},
   "outputs": [
    {
     "name": "stdout",
     "output_type": "stream",
     "text": [
      "['__add__', '__class__', '__contains__', '__delattr__', '__delitem__', '__dir__', '__doc__', '__eq__', '__format__', '__ge__', '__getattribute__', '__getitem__', '__gt__', '__hash__', '__iadd__', '__imul__', '__init__', '__init_subclass__', '__iter__', '__le__', '__len__', '__lt__', '__mul__', '__ne__', '__new__', '__reduce__', '__reduce_ex__', '__repr__', '__reversed__', '__rmul__', '__setattr__', '__setitem__', '__sizeof__', '__str__', '__subclasshook__', 'append', 'clear', 'copy', 'count', 'extend', 'index', 'insert', 'pop', 'remove', 'reverse', 'sort']\n"
     ]
    }
   ],
   "source": [
    "print(dir(mylist))"
   ]
  },
  {
   "cell_type": "markdown",
   "metadata": {},
   "source": [
    "We can generate a list of non special Python methods for lists using list comprehension and the string method `startswith()`.  [あ]"
   ]
  },
  {
   "cell_type": "code",
   "execution_count": 68,
   "metadata": {},
   "outputs": [
    {
     "data": {
      "text/plain": [
       "['append',\n",
       " 'clear',\n",
       " 'copy',\n",
       " 'count',\n",
       " 'extend',\n",
       " 'index',\n",
       " 'insert',\n",
       " 'pop',\n",
       " 'remove',\n",
       " 'reverse',\n",
       " 'sort']"
      ]
     },
     "execution_count": 68,
     "metadata": {},
     "output_type": "execute_result"
    }
   ],
   "source": [
    "[x for x in dir(mylist) if not x.startswith('__')]\n",
    "#あ"
   ]
  },
  {
   "cell_type": "code",
   "execution_count": null,
   "metadata": {},
   "outputs": [],
   "source": [
    "templist = []\n",
    "for x in dir(mylist): \n",
    "    if not x.startswith('__'):\n",
    "        templist.append(x)\n",
    "templist"
   ]
  },
  {
   "cell_type": "markdown",
   "metadata": {},
   "source": [
    "#### Append"
   ]
  },
  {
   "cell_type": "markdown",
   "metadata": {},
   "source": [
    "Adds a new **element** to the end of a list: [PEW]"
   ]
  },
  {
   "cell_type": "code",
   "execution_count": 142,
   "metadata": {},
   "outputs": [
    {
     "data": {
      "text/plain": [
       "['a', 'b', 'c', 'd']"
      ]
     },
     "execution_count": 142,
     "metadata": {},
     "output_type": "execute_result"
    }
   ],
   "source": [
    "t = ['a', 'b', 'c']\n",
    "t.append('d')\n",
    "t"
   ]
  },
  {
   "cell_type": "markdown",
   "metadata": {},
   "source": [
    "#### Extend"
   ]
  },
  {
   "cell_type": "markdown",
   "metadata": {},
   "source": [
    "`extend` takes a **list** as an argument and appends all of the elements [PEW]"
   ]
  },
  {
   "cell_type": "code",
   "execution_count": 144,
   "metadata": {},
   "outputs": [
    {
     "data": {
      "text/plain": [
       "['a', 'b', 'c', 'd', 'e']"
      ]
     },
     "execution_count": 144,
     "metadata": {},
     "output_type": "execute_result"
    }
   ],
   "source": [
    "t1 = ['a', 'b', 'c']\n",
    "t2 = ['d', 'e']\n",
    "t1.extend(t2)\n",
    "t1"
   ]
  },
  {
   "cell_type": "markdown",
   "metadata": {},
   "source": [
    "Most list methods are **`void`**; they modify the list and return None. [PEW]"
   ]
  },
  {
   "cell_type": "code",
   "execution_count": 75,
   "metadata": {},
   "outputs": [
    {
     "name": "stdout",
     "output_type": "stream",
     "text": [
      "None\n"
     ]
    }
   ],
   "source": [
    "print(t1.extend(t2))"
   ]
  },
  {
   "cell_type": "markdown",
   "metadata": {},
   "source": [
    "## Building a List from Scratch"
   ]
  },
  {
   "cell_type": "markdown",
   "metadata": {},
   "source": [
    "- We can create an empty list and then add elements using the append method\n",
    "- The list stays in order and new elements are added at the end of the list"
   ]
  },
  {
   "cell_type": "markdown",
   "metadata": {},
   "source": [
    "### using `list()`"
   ]
  },
  {
   "cell_type": "markdown",
   "metadata": {},
   "source": [
    "`list()` returns an empty list"
   ]
  },
  {
   "cell_type": "code",
   "execution_count": 98,
   "metadata": {},
   "outputs": [
    {
     "name": "stdout",
     "output_type": "stream",
     "text": [
      "['book', 99]\n",
      "['book', 99, 'cookie', ['edwin1', 'edwin2', 'edwin3'], 'edwin1', 'edwin2', 'edwin3']\n",
      "['Edwin']\n"
     ]
    }
   ],
   "source": [
    "stuff = list()\n",
    "stuff.append('book')\n",
    "stuff.append(99)\n",
    "print(stuff)\n",
    "testedwin = ['edwin1', 'edwin2', 'edwin3']\n",
    "stuff.append('cookie')\n",
    "stuff.append(testedwin)\n",
    "stuff.extend(testedwin)\n",
    "print(stuff)\n",
    "student = []\n",
    "student.append('Edwin')\n",
    "print(student)"
   ]
  },
  {
   "cell_type": "markdown",
   "metadata": {},
   "source": [
    "### using `[]`"
   ]
  },
  {
   "cell_type": "markdown",
   "metadata": {},
   "source": [
    "New lists could also be created by using `[]` [あ]"
   ]
  },
  {
   "cell_type": "code",
   "execution_count": 99,
   "metadata": {},
   "outputs": [
    {
     "name": "stdout",
     "output_type": "stream",
     "text": [
      "['book', 99]\n",
      "['book', 99, 'cookie']\n"
     ]
    }
   ],
   "source": [
    "stuff2 = []             #あ\n",
    "stuff2.append('book')\n",
    "stuff2.append(99)\n",
    "print(stuff2)\n",
    "stuff2.append('cookie')\n",
    "print(stuff2)"
   ]
  },
  {
   "cell_type": "markdown",
   "metadata": {},
   "source": [
    "## Is Something in a List? Using `in` and `not in`"
   ]
  },
  {
   "cell_type": "markdown",
   "metadata": {},
   "source": [
    "- Python provides two operators that let you check if an item is in a list\n",
    "- These are logical operators that return `True` or `False`\n",
    "- They do not modify the list"
   ]
  },
  {
   "cell_type": "code",
   "execution_count": 100,
   "metadata": {},
   "outputs": [],
   "source": [
    "mylist = [1, 9, 21, 10, 16]"
   ]
  },
  {
   "cell_type": "code",
   "execution_count": 109,
   "metadata": {},
   "outputs": [
    {
     "name": "stdout",
     "output_type": "stream",
     "text": [
      "Gotcha!\n"
     ]
    }
   ],
   "source": [
    "if 9 in mylist:\n",
    "    print('Gotcha!')"
   ]
  },
  {
   "cell_type": "code",
   "execution_count": 102,
   "metadata": {},
   "outputs": [
    {
     "data": {
      "text/plain": [
       "False"
      ]
     },
     "execution_count": 102,
     "metadata": {},
     "output_type": "execute_result"
    }
   ],
   "source": [
    "15 in mylist"
   ]
  },
  {
   "cell_type": "code",
   "execution_count": 103,
   "metadata": {},
   "outputs": [
    {
     "data": {
      "text/plain": [
       "True"
      ]
     },
     "execution_count": 103,
     "metadata": {},
     "output_type": "execute_result"
    }
   ],
   "source": [
    "20 not in mylist"
   ]
  },
  {
   "cell_type": "markdown",
   "metadata": {},
   "source": [
    "## Lists are in Order"
   ]
  },
  {
   "cell_type": "markdown",
   "metadata": {},
   "source": [
    "- A list can hold many items and keeps those items in the order until we do something to change the order\n",
    "- A list can be sorted (i.e., change its order)\n",
    "- The sort method (unlike in strings) means **sort yourself**\n",
    "- The sort method returns `None`"
   ]
  },
  {
   "cell_type": "markdown",
   "metadata": {},
   "source": [
    "The `sort()` method in lists changes the list itself. "
   ]
  },
  {
   "cell_type": "code",
   "execution_count": 111,
   "metadata": {},
   "outputs": [
    {
     "name": "stdout",
     "output_type": "stream",
     "text": [
      "before sorting: ['Joseph', 'Glenn', 'Sally']\n",
      "after sorting: ['Glenn', 'Joseph', 'Sally']\n"
     ]
    }
   ],
   "source": [
    "friends = [ 'Joseph', 'Glenn', 'Sally' ]\n",
    "print('before sorting:', friends)\n",
    "\n",
    "friends.sort()\n",
    "\n",
    "print('after sorting:', friends)"
   ]
  },
  {
   "cell_type": "markdown",
   "metadata": {},
   "source": [
    "#### Lists methods vs. String methods"
   ]
  },
  {
   "cell_type": "markdown",
   "metadata": {},
   "source": [
    "In contrast string methods don't change the string, but instead returns a new string."
   ]
  },
  {
   "cell_type": "code",
   "execution_count": 113,
   "metadata": {
    "scrolled": true
   },
   "outputs": [
    {
     "name": "stdout",
     "output_type": "stream",
     "text": [
      "before uppercase: One ring to rule them all\n",
      "ONE RING TO RULE THEM ALL\n",
      "after uppercase: One ring to rule them all\n"
     ]
    }
   ],
   "source": [
    "s = 'One ring to rule them all'\n",
    "print('before uppercase:', s)\n",
    "\n",
    "print(s.upper())\n",
    "\n",
    "print('after uppercase:', s)\n",
    "\n",
    "#あ"
   ]
  },
  {
   "cell_type": "code",
   "execution_count": 125,
   "metadata": {},
   "outputs": [
    {
     "data": {
      "text/plain": [
       "[9, 7, 5, 4, 3, 1]"
      ]
     },
     "execution_count": 125,
     "metadata": {},
     "output_type": "execute_result"
    }
   ],
   "source": [
    "x = [1,3,4,5,7,9]\n",
    "x.sort(reverse=True)\n",
    "x"
   ]
  },
  {
   "cell_type": "code",
   "execution_count": 122,
   "metadata": {},
   "outputs": [
    {
     "data": {
      "text/plain": [
       "['all', 'one', 'ring', 'rule', 'them', 'to']"
      ]
     },
     "execution_count": 122,
     "metadata": {},
     "output_type": "execute_result"
    }
   ],
   "source": [
    "line = 'one ring to rule them all'\n",
    "str_list = line.split()\n",
    "str_list.sort()\n",
    "str_list"
   ]
  },
  {
   "cell_type": "markdown",
   "metadata": {},
   "source": [
    "## Built-in Functions and Lists"
   ]
  },
  {
   "cell_type": "markdown",
   "metadata": {},
   "source": [
    "There are a number of functions built into Python that take lists as parameters"
   ]
  },
  {
   "cell_type": "code",
   "execution_count": 123,
   "metadata": {},
   "outputs": [
    {
     "name": "stdout",
     "output_type": "stream",
     "text": [
      "6\n",
      "74\n",
      "3\n",
      "154\n",
      "25.666666666666668\n"
     ]
    }
   ],
   "source": [
    "nums = [3, 41, 12, 9, 74, 15]\n",
    "print(len(nums))\n",
    "print(max(nums))\n",
    "print(min(nums))\n",
    "print(sum(nums))\n",
    "print(sum(nums)/len(nums))"
   ]
  },
  {
   "cell_type": "markdown",
   "metadata": {},
   "source": [
    "#### Reminder\n",
    "As mentioned earlier, it's best that you don't use these functions as identifiers for your own functions and variables.\n",
    "[あ]"
   ]
  },
  {
   "cell_type": "markdown",
   "metadata": {},
   "source": [
    "## Lists and strings"
   ]
  },
  {
   "cell_type": "markdown",
   "metadata": {},
   "source": [
    "- A string is a sequence of characters and a list is a sequence of values, but a list of characters is not the same as a string. \n",
    "- To convert from a string to a list of characters, you can use `list()` \n",
    "\n",
    "[PEW]"
   ]
  },
  {
   "cell_type": "code",
   "execution_count": 126,
   "metadata": {},
   "outputs": [
    {
     "name": "stdout",
     "output_type": "stream",
     "text": [
      "['s', 'p', 'a', 'm']\n"
     ]
    }
   ],
   "source": [
    "s = 'spam'\n",
    "t = list(s)\n",
    "print(t)"
   ]
  },
  {
   "cell_type": "code",
   "execution_count": 127,
   "metadata": {},
   "outputs": [
    {
     "data": {
      "text/plain": [
       "['a', 'p', 'a', 'm']"
      ]
     },
     "execution_count": 127,
     "metadata": {},
     "output_type": "execute_result"
    }
   ],
   "source": [
    "t[0] = 'a'\n",
    "t"
   ]
  },
  {
   "cell_type": "markdown",
   "metadata": {},
   "source": [
    "The `list()` function breaks a string into individual letters. If you want to break a string into words, you can use the `split()` method [PEW]"
   ]
  },
  {
   "cell_type": "code",
   "execution_count": 129,
   "metadata": {},
   "outputs": [
    {
     "name": "stdout",
     "output_type": "stream",
     "text": [
      "['The', 'road', 'goes', 'ever', 'on', 'and', 'on']\n",
      "['goes', 'ever', 'on']\n"
     ]
    }
   ],
   "source": [
    "s = 'The road goes ever on and on'\n",
    "t = s.split()\n",
    "print(t)\n",
    "print(t[2:5])\n",
    "\n",
    "#あ"
   ]
  },
  {
   "cell_type": "markdown",
   "metadata": {},
   "source": [
    "## Parsing lines <a id='ParsingLines'></a>"
   ]
  },
  {
   "cell_type": "markdown",
   "metadata": {},
   "source": [
    "Usually when we are reading a file we want to do something to the lines other than just printing the whole line. Often we want to find the \"interesting lines\" and then parse the line to find some interesting part of the line. [PEW]"
   ]
  },
  {
   "cell_type": "markdown",
   "metadata": {},
   "source": [
    "What if we wanted to print out the email address of the lines that start with \"From \"?\n",
    "\n",
    "    From stephen.marquard@uct.ac.za Sat Jan  5 09:14:16 2008"
   ]
  },
  {
   "cell_type": "code",
   "execution_count": 130,
   "metadata": {},
   "outputs": [
    {
     "name": "stdout",
     "output_type": "stream",
     "text": [
      "/Users/edwinlacap/Desktop/MABA/Computing for Analytics\r\n"
     ]
    }
   ],
   "source": [
    "!pwd"
   ]
  },
  {
   "cell_type": "code",
   "execution_count": 131,
   "metadata": {},
   "outputs": [
    {
     "name": "stdout",
     "output_type": "stream",
     "text": [
      "['stephen.marquard@uct.ac.za', 'louis@media.berkeley.edu', 'zqian@umich.edu', 'rjlowe@iupui.edu', 'cwen@iupui.edu', 'gsilver@umich.edu', 'wagnermr@iupui.edu', 'antranig@caret.cam.ac.uk', 'gopal.ramasammycook@gmail.com', 'david.horwitz@uct.ac.za', 'ray@media.berkeley.edu', 'mmmay@indiana.edu', 'stuart.freeman@et.gatech.edu', 'tnguyen@iupui.edu', 'chmaurer@iupui.edu', 'aaronz@vt.edu', 'ian@caret.cam.ac.uk', 'csev@umich.edu', 'jimeng@umich.edu', 'josrodri@iupui.edu', 'knoop@umich.edu', 'bkirschn@umich.edu', 'dlhaines@umich.edu', 'hu2@iupui.edu', 'sgithens@caret.cam.ac.uk', 'arwhyte@umich.edu']\n"
     ]
    }
   ],
   "source": [
    "fhand = open('mbox.txt')\n",
    "my_list = []\n",
    "for line in fhand:\n",
    "    line = line.rstrip()\n",
    "    if not line.startswith('From'): \n",
    "        continue\n",
    "    words = line.split()\n",
    "    if my_list == []:\n",
    "        my_list.append(words[1])\n",
    "    elif words[1] not in my_list:    \n",
    "         my_list.append(words[1])\n",
    "print(my_list)    "
   ]
  },
  {
   "cell_type": "markdown",
   "metadata": {},
   "source": [
    "## Final Words "
   ]
  },
  {
   "cell_type": "markdown",
   "metadata": {},
   "source": [
    "- Lists play an important role in Python\n",
    "- They are useful in\n",
    "    - loops\n",
    "    - defining other data structures (which could be more complex) e.g. arrays, pandas series and dataframes\n",
    "- Remember that indexing for lists starts at 0 (other programming languages  starts indexing at 1, e.g. Matlab)\n",
    "\n",
    "[あ]"
   ]
  },
  {
   "cell_type": "markdown",
   "metadata": {},
   "source": [
    "## EXERCISES"
   ]
  },
  {
   "cell_type": "markdown",
   "metadata": {},
   "source": [
    "#### Exercise 1\n",
    "\n",
    "Create an empty list then add the following numbers using `append`: 4, 6 9 \n",
    "\n",
    "[あ]"
   ]
  },
  {
   "cell_type": "code",
   "execution_count": 176,
   "metadata": {},
   "outputs": [
    {
     "data": {
      "text/plain": [
       "[4, 69]"
      ]
     },
     "execution_count": 176,
     "metadata": {},
     "output_type": "execute_result"
    }
   ],
   "source": [
    "edwinsList = []\n",
    "#items = [4, 69]\n",
    "edwinsList.append(4)\n",
    "edwinsList.append(69)\n",
    "edwinsList"
   ]
  },
  {
   "cell_type": "markdown",
   "metadata": {},
   "source": [
    "#### Exercise 2\n",
    "\n",
    "Using the `range` function, create a list containing the numbers from 0 to 10\n",
    "\n",
    "[あ]"
   ]
  },
  {
   "cell_type": "code",
   "execution_count": 237,
   "metadata": {},
   "outputs": [
    {
     "name": "stdout",
     "output_type": "stream",
     "text": [
      "[0, 1, 2, 3, 4, 5, 6, 7, 8, 9, 10]\n",
      "[0, 1, 2, 3, 4, 5, 6, 7, 8, 9, 10]\n"
     ]
    }
   ],
   "source": [
    "edwinsList2 = list()\n",
    "for i in range(0, 11):\n",
    "    edwinsList2.append(i)\n",
    "print(edwinsList2)\n",
    "\n",
    "#another one for practice:\n",
    "edwinsList3 = list(range(0,11))\n",
    "print(edwinsList3)"
   ]
  },
  {
   "cell_type": "markdown",
   "metadata": {},
   "source": [
    "#### Exercise 3 \n",
    "\n",
    "Create a list containing the valid grade values, then using `enumerate` in a `for` loop, print out all **indices** and **items** in the list. \n",
    "\n",
    "It should print out:\n",
    "\n",
    "    0   1.0\n",
    "    1   1.25\n",
    "    2   1.5\n",
    "    3   1.75\n",
    "    4   2.0\n",
    "    5   2.25\n",
    "    6   2.5\n",
    "    7   3.0\n",
    "      \n",
    "\n",
    "[あ]"
   ]
  },
  {
   "cell_type": "code",
   "execution_count": 210,
   "metadata": {},
   "outputs": [
    {
     "name": "stdout",
     "output_type": "stream",
     "text": [
      "0   1.0\n",
      "1   1.25\n",
      "2   1.5\n",
      "3   1.75\n",
      "4   2.0\n",
      "5   2.25\n",
      "6   2.5\n",
      "7   2.75\n",
      "8   3.0\n"
     ]
    }
   ],
   "source": [
    "#gradevalues = list()\n",
    "gradeValues = [1.0, 1.25, 1.5, 1.75, 2.0, 2.25, 2.5, 2.75, 3.0]\n",
    "for index, grade in enumerate(gradeValues):\n",
    "    print(index,' ',grade)"
   ]
  },
  {
   "cell_type": "markdown",
   "metadata": {},
   "source": [
    "#### Exercise 4 \n",
    "\n",
    "Using Index Slicing, print out the list of grades higher than 2.0\n",
    "\n",
    "[あ]"
   ]
  },
  {
   "cell_type": "code",
   "execution_count": 257,
   "metadata": {},
   "outputs": [
    {
     "name": "stdout",
     "output_type": "stream",
     "text": [
      "[2.25, 2.5, 2.75, 3.0]\n"
     ]
    }
   ],
   "source": [
    "\n",
    "#Assuming that \"higher than 2.0\" means numerically higher than the number the number 2.0\n",
    "print(gradeValues[5:])\n"
   ]
  },
  {
   "cell_type": "markdown",
   "metadata": {},
   "source": [
    "#### Exercise 5 \n",
    "\n",
    "Using Index Slicing, print out the list of grades better than 2.0.\n",
    "\n",
    "[あ]"
   ]
  },
  {
   "cell_type": "code",
   "execution_count": 259,
   "metadata": {},
   "outputs": [
    {
     "name": "stdout",
     "output_type": "stream",
     "text": [
      "[1.0, 1.25, 1.5, 1.75]\n"
     ]
    }
   ],
   "source": [
    "\n",
    "#Assuming that \"Better than 2.0\" means higher in it's equivalent Score\n",
    "print(gradeValues[0:4])\n"
   ]
  },
  {
   "cell_type": "markdown",
   "metadata": {},
   "source": [
    "#### Exercise 6\n",
    "\n",
    "Using Index Slicing, print out the grades 2.0,2.25,2.5.\n",
    "\n",
    "[あ]"
   ]
  },
  {
   "cell_type": "code",
   "execution_count": 260,
   "metadata": {},
   "outputs": [
    {
     "name": "stdout",
     "output_type": "stream",
     "text": [
      "[2.0, 2.25, 2.5]\n"
     ]
    }
   ],
   "source": [
    "print(gradeValues[4:7])"
   ]
  },
  {
   "cell_type": "markdown",
   "metadata": {},
   "source": [
    "## CHALLENGE\n",
    "\n",
    "Modify the code in the subheading [Parsing Lines](#ParsingLines) to display all the time stamps \n",
    "of the emails in mboxt-short.txt\n",
    "\n",
    "[あ]"
   ]
  },
  {
   "cell_type": "code",
   "execution_count": null,
   "metadata": {},
   "outputs": [],
   "source": []
  },
  {
   "cell_type": "markdown",
   "metadata": {},
   "source": [
    "\n",
    "[TABLE OF CONTENTS](#contents)"
   ]
  },
  {
   "cell_type": "markdown",
   "metadata": {},
   "source": [
    "<a id='chapter9'></a>\n",
    "\n",
    "# CHAPTER  9 - Dictionaries"
   ]
  },
  {
   "cell_type": "markdown",
   "metadata": {},
   "source": [
    "#### Important Note\n",
    "    It is hghly suggested to study [Chapter 10 Tuples](#chapter10) before this chapter [あ]"
   ]
  },
  {
   "cell_type": "markdown",
   "metadata": {},
   "source": [
    "- You can think of a **dictionary** as a mapping between a set of indices (which are called **keys**) and a set of **values**. \n",
    "- Each key maps to a value. \n",
    "- The association of a key and a value is called a **key-value pair** or sometimes an **item**. \n",
    "\n",
    "`[PEW]`"
   ]
  },
  {
   "cell_type": "markdown",
   "metadata": {},
   "source": [
    "An understanding of how dictionaries work is important ...\n",
    "  - to understand more complex data structures that require indexing\n",
    "  - to use functions in libraries that require dictionaries to be passed as arguments\n",
    "  \n",
    "[あ]"
   ]
  },
  {
   "cell_type": "markdown",
   "metadata": {},
   "source": [
    "## Creating Dictionaries"
   ]
  },
  {
   "cell_type": "markdown",
   "metadata": {},
   "source": [
    "You can create an empty dictionary by assigning a variable to `{}`, or to the function `dict()`\n",
    "[あ]"
   ]
  },
  {
   "cell_type": "code",
   "execution_count": 263,
   "metadata": {
    "scrolled": true
   },
   "outputs": [
    {
     "name": "stdout",
     "output_type": "stream",
     "text": [
      "{}\n"
     ]
    }
   ],
   "source": [
    "eng2sp = {}\n",
    "print(eng2sp)"
   ]
  },
  {
   "cell_type": "markdown",
   "metadata": {},
   "source": [
    "The curly brackets, `{}`, represent an empty dictionary. To add items to the dictionary, you can use square brackets:  -`[PEW]`"
   ]
  },
  {
   "cell_type": "code",
   "execution_count": 264,
   "metadata": {},
   "outputs": [
    {
     "name": "stdout",
     "output_type": "stream",
     "text": [
      "{'one': 'uno'}\n"
     ]
    }
   ],
   "source": [
    "eng2sp['one'] = 'uno'\n",
    "print(eng2sp)"
   ]
  },
  {
   "cell_type": "markdown",
   "metadata": {},
   "source": [
    "This line creates an item that maps from the key `one` to the value `uno`. If we print the dictionary again, we see a key-value pair with a **colon** (`:`) between the key and value:"
   ]
  },
  {
   "cell_type": "code",
   "execution_count": 265,
   "metadata": {},
   "outputs": [
    {
     "name": "stdout",
     "output_type": "stream",
     "text": [
      "{'one': 'uno'}\n"
     ]
    }
   ],
   "source": [
    "print(eng2sp)"
   ]
  },
  {
   "cell_type": "code",
   "execution_count": 268,
   "metadata": {},
   "outputs": [],
   "source": [
    "#add 2 more items\n",
    "eng2sp['two'] = 'dos'\n",
    "eng2sp['three'] = 'tres'"
   ]
  },
  {
   "cell_type": "code",
   "execution_count": 269,
   "metadata": {},
   "outputs": [
    {
     "name": "stdout",
     "output_type": "stream",
     "text": [
      "{'one': 'uno', 'two': 'dos', 'three': 'tres'}\n"
     ]
    }
   ],
   "source": [
    "print(eng2sp)"
   ]
  },
  {
   "cell_type": "code",
   "execution_count": 270,
   "metadata": {},
   "outputs": [
    {
     "name": "stdout",
     "output_type": "stream",
     "text": [
      "dos\n"
     ]
    }
   ],
   "source": [
    "print(eng2sp['two'])"
   ]
  },
  {
   "cell_type": "markdown",
   "metadata": {},
   "source": [
    "In general, the order of items in a dictionary is **unpredictable**. But that's not a problem because the elements of a dictionary are never indexed with integer indices. Instead, you **use the keys to look up the corresponding values**:"
   ]
  },
  {
   "cell_type": "markdown",
   "metadata": {},
   "source": [
    "### Another Example"
   ]
  },
  {
   "cell_type": "code",
   "execution_count": 271,
   "metadata": {},
   "outputs": [],
   "source": [
    "character = dict()\n",
    "character['name'] = 'Aragorn'\n",
    "character['aliases'] = ('Strider','Lord of Dunedain', 'Estel')\n",
    "character['age'] = 210\n",
    "#あ"
   ]
  },
  {
   "cell_type": "code",
   "execution_count": 272,
   "metadata": {},
   "outputs": [
    {
     "name": "stdout",
     "output_type": "stream",
     "text": [
      "{'name': 'Aragorn', 'aliases': ('Strider', 'Lord of Dunedain', 'Estel'), 'age': 210}\n"
     ]
    }
   ],
   "source": [
    "print(character)"
   ]
  },
  {
   "cell_type": "code",
   "execution_count": 273,
   "metadata": {},
   "outputs": [
    {
     "data": {
      "text/plain": [
       "'Aragorn'"
      ]
     },
     "execution_count": 273,
     "metadata": {},
     "output_type": "execute_result"
    }
   ],
   "source": [
    "character['name']"
   ]
  },
  {
   "cell_type": "code",
   "execution_count": 274,
   "metadata": {},
   "outputs": [
    {
     "data": {
      "text/plain": [
       "'Lord of Dunedain'"
      ]
     },
     "execution_count": 274,
     "metadata": {},
     "output_type": "execute_result"
    }
   ],
   "source": [
    "character['aliases'][1] "
   ]
  },
  {
   "cell_type": "code",
   "execution_count": 275,
   "metadata": {},
   "outputs": [
    {
     "data": {
      "text/plain": [
       "211"
      ]
     },
     "execution_count": 275,
     "metadata": {},
     "output_type": "execute_result"
    }
   ],
   "source": [
    "character['age'] + 1"
   ]
  },
  {
   "cell_type": "markdown",
   "metadata": {},
   "source": [
    "## Dictionary Literals (Constants)"
   ]
  },
  {
   "cell_type": "markdown",
   "metadata": {},
   "source": [
    "Dictionary literals use curly braces (`{}`) and have a list of `key` : `value` pairs"
   ]
  },
  {
   "cell_type": "code",
   "execution_count": 276,
   "metadata": {},
   "outputs": [
    {
     "data": {
      "text/plain": [
       "{2111: 'Computing for Analytics I',\n",
       " 2112: 'Business Strategy and Analytics',\n",
       " 2121: 'Computing for Analytics II'}"
      ]
     },
     "execution_count": 276,
     "metadata": {},
     "output_type": "execute_result"
    }
   ],
   "source": [
    "course_dict = {2111 : 'Computing for Analytics I' , \n",
    "                2112 : 'Business Strategy and Analytics',  \n",
    "                2121 :'Computing for Analytics II'}\n",
    "course_dict\n",
    "\n",
    "#あ"
   ]
  },
  {
   "cell_type": "markdown",
   "metadata": {},
   "source": [
    "## Comparing Lists and Dictionaries"
   ]
  },
  {
   "cell_type": "markdown",
   "metadata": {},
   "source": [
    "Dictionaries are like lists except that they use **keys** instead of numbers (the **indices**[あ]) to look up values."
   ]
  },
  {
   "cell_type": "markdown",
   "metadata": {},
   "source": [
    "Both lists and dictionaries are mutable. [あ]"
   ]
  },
  {
   "cell_type": "markdown",
   "metadata": {},
   "source": [
    "#### Lists:"
   ]
  },
  {
   "cell_type": "code",
   "execution_count": 277,
   "metadata": {},
   "outputs": [
    {
     "name": "stdout",
     "output_type": "stream",
     "text": [
      "[21, 183]\n",
      "[23, 183]\n"
     ]
    }
   ],
   "source": [
    "int_list = list()\n",
    "int_list.append(21)\n",
    "int_list.append(183)\n",
    "print(int_list)\n",
    "int_list[0] = 23\n",
    "print(int_list)"
   ]
  },
  {
   "cell_type": "markdown",
   "metadata": {},
   "source": [
    "#### Dictionaries:"
   ]
  },
  {
   "cell_type": "code",
   "execution_count": 278,
   "metadata": {},
   "outputs": [
    {
     "name": "stdout",
     "output_type": "stream",
     "text": [
      "{'trisem': 1, 'course': 2111}\n",
      "{'trisem': 1, 'course': 2121}\n"
     ]
    }
   ],
   "source": [
    "info = dict()\n",
    "info['trisem'] = 1\n",
    "info['course'] = 2111\n",
    "print(info)\n",
    "info['course'] = 2121\n",
    "print(info)\n",
    "\n",
    "#あ"
   ]
  },
  {
   "cell_type": "code",
   "execution_count": 303,
   "metadata": {},
   "outputs": [
    {
     "name": "stdout",
     "output_type": "stream",
     "text": [
      "{'name': 'Edwin', 'surname': 'Lacap'}\n",
      "Benedicto\n"
     ]
    }
   ],
   "source": [
    "#Testing practice\n",
    "testDict = {}\n",
    "testDict['name'] = 'Edwin'\n",
    "testDict['surname'] = 'Lacap'\n",
    "\n",
    "print(testDict)\n",
    "testDict['name'] = 'Benedicto'\n",
    "print(testDict['name'])"
   ]
  },
  {
   "cell_type": "markdown",
   "metadata": {},
   "source": [
    "## Definite Loops and Dictionaries"
   ]
  },
  {
   "cell_type": "markdown",
   "metadata": {},
   "source": [
    "Even though dictionaries are not stored in order, we can write a for loop that goes through all the entries in a dictionary - actually it goes through all of the keys in the dictionary and looks up the values"
   ]
  },
  {
   "cell_type": "code",
   "execution_count": 279,
   "metadata": {},
   "outputs": [
    {
     "name": "stdout",
     "output_type": "stream",
     "text": [
      "2111 : Computing for Analytics I\n",
      "2112 : Business Strategy and Analytics\n",
      "2121 : Computing for Analytics II\n"
     ]
    }
   ],
   "source": [
    "course_dict = {2111 : 'Computing for Analytics I' , \n",
    "                2112 : 'Business Strategy and Analytics',  \n",
    "                2121 :'Computing for Analytics II'}\n",
    "for key in course_dict:\n",
    "    print(key,':',course_dict[key])\n",
    "\n",
    "#あ"
   ]
  },
  {
   "cell_type": "markdown",
   "metadata": {},
   "source": [
    "## Iterating  over Keys, Values, Items, and Key-Value pairs\n",
    "\n",
    "[あ] (whole subsection)"
   ]
  },
  {
   "cell_type": "code",
   "execution_count": 280,
   "metadata": {},
   "outputs": [
    {
     "data": {
      "text/plain": [
       "{2111: 'Computing for Analytics I',\n",
       " 2112: 'Business Strategy and Analytics',\n",
       " 2121: 'Computing for Analytics II'}"
      ]
     },
     "execution_count": 280,
     "metadata": {},
     "output_type": "execute_result"
    }
   ],
   "source": [
    "course_dict"
   ]
  },
  {
   "cell_type": "code",
   "execution_count": 313,
   "metadata": {},
   "outputs": [
    {
     "name": "stdout",
     "output_type": "stream",
     "text": [
      "{'namestru': 'Name', 'surnamstru': 'Surname'} \n",
      "\n",
      "namestru means Name\n",
      "surnamstru means Surname\n"
     ]
    }
   ],
   "source": [
    "#test practice\n",
    "edwinsDict = {'namestru' : 'Name', 'surnamstru' : 'Surname'}\n",
    "print(edwinsDict, '\\n')\n",
    "\n",
    "for keystru in edwinsDict:\n",
    "    print(keystru, 'means', edwinsDict[keystru])"
   ]
  },
  {
   "cell_type": "markdown",
   "metadata": {},
   "source": [
    "#### Iterate over `Keys`"
   ]
  },
  {
   "cell_type": "code",
   "execution_count": 281,
   "metadata": {},
   "outputs": [
    {
     "name": "stdout",
     "output_type": "stream",
     "text": [
      "2111\n",
      "2112\n",
      "2121\n"
     ]
    }
   ],
   "source": [
    "for key in course_dict:\n",
    "    print(key)"
   ]
  },
  {
   "cell_type": "markdown",
   "metadata": {},
   "source": [
    "#### Iterate over `Values`"
   ]
  },
  {
   "cell_type": "code",
   "execution_count": 282,
   "metadata": {},
   "outputs": [
    {
     "name": "stdout",
     "output_type": "stream",
     "text": [
      "Computing for Analytics I\n",
      "Business Strategy and Analytics\n",
      "Computing for Analytics II\n"
     ]
    }
   ],
   "source": [
    "for key in course_dict:\n",
    "    print(course_dict[key])"
   ]
  },
  {
   "cell_type": "code",
   "execution_count": 320,
   "metadata": {},
   "outputs": [
    {
     "name": "stdout",
     "output_type": "stream",
     "text": [
      "Name\n",
      "Surname\n"
     ]
    }
   ],
   "source": [
    "#test practice\n",
    "\n",
    "for keystru in edwinsDict:\n",
    "    print(edwinsDict[keystru])"
   ]
  },
  {
   "cell_type": "markdown",
   "metadata": {},
   "source": [
    "#### Iterate over `Items`"
   ]
  },
  {
   "cell_type": "markdown",
   "metadata": {},
   "source": [
    "Iterating over items produces tuples"
   ]
  },
  {
   "cell_type": "code",
   "execution_count": 283,
   "metadata": {},
   "outputs": [
    {
     "name": "stdout",
     "output_type": "stream",
     "text": [
      "(2111, 'Computing for Analytics I')\n",
      "(2112, 'Business Strategy and Analytics')\n",
      "(2121, 'Computing for Analytics II')\n"
     ]
    }
   ],
   "source": [
    "for item in course_dict.items():\n",
    "    print(item)"
   ]
  },
  {
   "cell_type": "code",
   "execution_count": 332,
   "metadata": {},
   "outputs": [
    {
     "name": "stdout",
     "output_type": "stream",
     "text": [
      "('namestru', 'Name')\n",
      "('surnamstru', 'Surname')\n"
     ]
    }
   ],
   "source": [
    "#test practice\n",
    "\n",
    "for keystru in edwinsDict.items():\n",
    "    print(keystru)"
   ]
  },
  {
   "cell_type": "markdown",
   "metadata": {},
   "source": [
    "#### Iterating over `key-value pairs`"
   ]
  },
  {
   "cell_type": "code",
   "execution_count": 284,
   "metadata": {},
   "outputs": [
    {
     "name": "stdout",
     "output_type": "stream",
     "text": [
      "2111 : Computing for Analytics I\n",
      "2112 : Business Strategy and Analytics\n",
      "2121 : Computing for Analytics II\n"
     ]
    }
   ],
   "source": [
    "for k, v in course_dict.items():\n",
    "    print(k,':', v)"
   ]
  },
  {
   "cell_type": "raw",
   "metadata": {},
   "source": [
    "for code, name in course_dict.items():\n",
    "    print(code,':', name)"
   ]
  },
  {
   "cell_type": "code",
   "execution_count": 338,
   "metadata": {},
   "outputs": [
    {
     "name": "stdout",
     "output_type": "stream",
     "text": [
      "Name is namestru\n",
      "Surname is surnamstru\n"
     ]
    }
   ],
   "source": [
    "#test practice\n",
    "\n",
    "for i, o in edwinsDict.items():\n",
    "    print(o, 'is', i)"
   ]
  },
  {
   "cell_type": "markdown",
   "metadata": {},
   "source": [
    "## Retrieving Lists of Keys and Values"
   ]
  },
  {
   "cell_type": "markdown",
   "metadata": {},
   "source": [
    "Code adapted from [PES]  -[あ]"
   ]
  },
  {
   "cell_type": "markdown",
   "metadata": {},
   "source": [
    "You can get a list of keys, values, or items (both) from a dictionary"
   ]
  },
  {
   "cell_type": "markdown",
   "metadata": {},
   "source": [
    "#### Retrieving a list of keys"
   ]
  },
  {
   "cell_type": "code",
   "execution_count": 285,
   "metadata": {},
   "outputs": [
    {
     "data": {
      "text/plain": [
       "{2111: 'Computing for Analytics I',\n",
       " 2112: 'Business Strategy and Analytics',\n",
       " 2121: 'Computing for Analytics II'}"
      ]
     },
     "execution_count": 285,
     "metadata": {},
     "output_type": "execute_result"
    }
   ],
   "source": [
    "course_dict"
   ]
  },
  {
   "cell_type": "code",
   "execution_count": 286,
   "metadata": {},
   "outputs": [
    {
     "data": {
      "text/plain": [
       "dict_keys([2111, 2112, 2121])"
      ]
     },
     "execution_count": 286,
     "metadata": {},
     "output_type": "execute_result"
    }
   ],
   "source": [
    "course_dict.keys()"
   ]
  },
  {
   "cell_type": "markdown",
   "metadata": {},
   "source": [
    "It would be more useful if we convert the above result to a list:"
   ]
  },
  {
   "cell_type": "code",
   "execution_count": 287,
   "metadata": {},
   "outputs": [
    {
     "data": {
      "text/plain": [
       "[2111, 2112, 2121]"
      ]
     },
     "execution_count": 287,
     "metadata": {},
     "output_type": "execute_result"
    }
   ],
   "source": [
    "key_list = list(course_dict.keys())\n",
    "key_list"
   ]
  },
  {
   "cell_type": "markdown",
   "metadata": {},
   "source": [
    "#### Retrieving a list of values"
   ]
  },
  {
   "cell_type": "raw",
   "metadata": {},
   "source": [
    "value_list = list(course_dict.values())\n",
    "value_list"
   ]
  },
  {
   "cell_type": "code",
   "execution_count": 354,
   "metadata": {},
   "outputs": [
    {
     "name": "stdout",
     "output_type": "stream",
     "text": [
      "['Name', 'Surname']\n",
      "Name \n",
      "\n",
      "Name\n",
      "Surname\n",
      "\n",
      "\n",
      "Amazing!\n"
     ]
    }
   ],
   "source": [
    "#test practice\n",
    "\n",
    "testList = list(edwinsDict.values())\n",
    "print(testList)\n",
    "print(testList[0], '\\n')\n",
    "\n",
    "for keystru in testList:\n",
    "    print(keystru)\n",
    "\n",
    "print('\\n')\n",
    "print('Amazing!')\n",
    "    \n",
    "    "
   ]
  },
  {
   "cell_type": "code",
   "execution_count": 382,
   "metadata": {},
   "outputs": [
    {
     "name": "stdout",
     "output_type": "stream",
     "text": [
      "Math 1111\n",
      "Computing 1112\n",
      "Business Strategy 1113\n"
     ]
    },
    {
     "data": {
      "text/plain": [
       "[('1111', 'Math'), ('1112', 'Computing'), ('1113', 'Business Strategy')]"
      ]
     },
     "execution_count": 382,
     "metadata": {},
     "output_type": "execute_result"
    }
   ],
   "source": [
    "#test practice\n",
    "edwinsSubj = {'1111':'Math', '1112':'Computing', '1113':'Business Strategy'}\n",
    "for index, subject in edwinsSubj.items():\n",
    "    print(subject, index)\n",
    "    \n",
    "edwinsSubj = list(edwinsSubj.items())\n",
    "edwinsSubj"
   ]
  },
  {
   "cell_type": "markdown",
   "metadata": {},
   "source": [
    "#### Retrieve list of items (as tuples)"
   ]
  },
  {
   "cell_type": "code",
   "execution_count": 383,
   "metadata": {},
   "outputs": [
    {
     "data": {
      "text/plain": [
       "[(2111, 'Computing for Analytics I'),\n",
       " (2112, 'Business Strategy and Analytics'),\n",
       " (2121, 'Computing for Analytics II')]"
      ]
     },
     "execution_count": 383,
     "metadata": {},
     "output_type": "execute_result"
    }
   ],
   "source": [
    "item_list = list(course_dict.items())\n",
    "item_list"
   ]
  },
  {
   "cell_type": "markdown",
   "metadata": {},
   "source": [
    "## Final Words"
   ]
  },
  {
   "cell_type": "markdown",
   "metadata": {},
   "source": [
    "- Dictionaries are useful for non-homogenous collections, which do not require order, but items could be retrieved through a key\n",
    "- An understanding of how dictionaries work is important to...\n",
    "  - understand more complex data structures requiring indexing\n",
    "  - use functions in libraries that require dictionaries to be passed as arguments\n",
    "\n",
    "[あ]"
   ]
  },
  {
   "cell_type": "markdown",
   "metadata": {},
   "source": [
    "## EXERCISES"
   ]
  },
  {
   "cell_type": "markdown",
   "metadata": {},
   "source": [
    "#### Exercise 1\n",
    "\n",
    "Create a dictionary with the following keys and values showing a partial list of Real GDP growth in Annual percent change from IMF (Source: http://www.imf.org/external/datamapper/NGDP_RPCH@WEO/OEMDC/ADVEC/WEOWORLD)\n",
    "\n",
    "    China 6.5\n",
    "    Japan 0.7\n",
    "    Philippines 6.7\n",
    "    United States 2.3\n",
    "    \n",
    "[あ]"
   ]
  },
  {
   "cell_type": "code",
   "execution_count": 384,
   "metadata": {},
   "outputs": [
    {
     "data": {
      "text/plain": [
       "{'China': '6.5', 'Japan': '0.7', 'Philippines': '6.7', 'United States': '2.3'}"
      ]
     },
     "execution_count": 384,
     "metadata": {},
     "output_type": "execute_result"
    }
   ],
   "source": [
    "gdp = {\n",
    "    'China':'6.5',\n",
    "    'Japan':'0.7',\n",
    "    'Philippines':'6.7',\n",
    "    'United States':'2.3',\n",
    "}\n"
   ]
  },
  {
   "cell_type": "markdown",
   "metadata": {},
   "source": [
    "#### Exercise 2\n",
    "\n",
    "Display all the keys and values from the dictionary you created above\n",
    "\n",
    "[あ]"
   ]
  },
  {
   "cell_type": "code",
   "execution_count": 385,
   "metadata": {},
   "outputs": [
    {
     "data": {
      "text/plain": [
       "{'China': '6.5', 'Japan': '0.7', 'Philippines': '6.7', 'United States': '2.3'}"
      ]
     },
     "execution_count": 385,
     "metadata": {},
     "output_type": "execute_result"
    }
   ],
   "source": [
    "gdp"
   ]
  },
  {
   "cell_type": "markdown",
   "metadata": {},
   "source": [
    "#### Exercise 3\n",
    "\n",
    "Write a program that asks the user to enter a line of text and then counts the number of each word that appeared in the line of text.\n",
    "Use the string function `split()` to make a list of words from a given string\n",
    "e.g.: \n",
    "\n",
    "```python\n",
    "word_list = line.split()\n",
    "```\n",
    "\n",
    "will return a list of words from the string `line` and store it in the variable `word_list`.\n",
    "\n",
    "\n",
    "(Adapted from [PES])"
   ]
  },
  {
   "cell_type": "code",
   "execution_count": 22,
   "metadata": {},
   "outputs": [
    {
     "name": "stdout",
     "output_type": "stream",
     "text": [
      "Please enter a text: edwin edwin lacap benedicto maba\n",
      "5\n",
      "\n",
      "\n",
      "2 edwin\n",
      "2 edwin\n",
      "1 lacap\n",
      "1 benedicto\n",
      "1 maba\n"
     ]
    }
   ],
   "source": [
    "myList = input('Please enter a text: ')\n",
    "myList = myList.split()\n",
    "print(len(myList))\n",
    "print('\\n')\n",
    "for itemList in myList:\n",
    "    count = myList.count(itemList)\n",
    "    print(count, itemList)\n",
    "\n",
    "\n"
   ]
  },
  {
   "cell_type": "markdown",
   "metadata": {},
   "source": [
    "[TABLE OF CONTENTS](#contents)"
   ]
  },
  {
   "cell_type": "markdown",
   "metadata": {},
   "source": [
    "<a id='chapter10'></a>\n",
    "\n",
    "# CHAPTER 10 - Tuples"
   ]
  },
  {
   "cell_type": "markdown",
   "metadata": {},
   "source": [
    "## Tuples are Like Lists"
   ]
  },
  {
   "cell_type": "markdown",
   "metadata": {},
   "source": [
    "Tuples are another kind of sequence that functions much like a list - they have elements which are indexed starting at 0"
   ]
  },
  {
   "cell_type": "markdown",
   "metadata": {},
   "source": [
    "- Tuples are created using **parenthesis** `()` \n",
    "- The elements in the list are separated by commas\n",
    "- An element in a tuple can be any Python object - another tuple, a list, etc.\n",
    "<br>\n",
    "[あ]"
   ]
  },
  {
   "cell_type": "raw",
   "metadata": {},
   "source": [
    "x = ('Glenn', 'Sally', 'Joseph')\n",
    "print(x)"
   ]
  },
  {
   "cell_type": "code",
   "execution_count": 429,
   "metadata": {},
   "outputs": [
    {
     "name": "stdout",
     "output_type": "stream",
     "text": [
      "(1, 9, 2)\n",
      "9\n"
     ]
    }
   ],
   "source": [
    "y = ( 1, 9, 2 )\n",
    "print(y)\n",
    "print(max(y))"
   ]
  },
  {
   "cell_type": "raw",
   "metadata": {
    "scrolled": false
   },
   "source": [
    "for index in y:\n",
    "    print(index)"
   ]
  },
  {
   "cell_type": "raw",
   "metadata": {},
   "source": [
    "empty_tuple = ()\n",
    "int_tuple = (3, 7, 9, 1)\n",
    "string_tuple = ('elven-kings', 'dwarf-lords', 'mortal men', 'Dark Lord')\n",
    "mixed_tuple = (1, 'ring', 2.0, 'rule them all')\n",
    "tuple_with_a_tuple = (3, (7, 9), 1)\n",
    "tuple_with_a_tuple_and_a_list = (3, int_tuple, 1.0, mixed_list)\n",
    "\n",
    "print(empty_tuple)\n",
    "print(int_tuple)\n",
    "print(string_tuple)\n",
    "print(mixed_tuple)\n",
    "print(tuple_with_a_tuple)\n",
    "print(tuple_with_a_tuple_and_a_list)\n",
    "\n",
    "#あ "
   ]
  },
  {
   "cell_type": "markdown",
   "metadata": {},
   "source": [
    "#### Accessing Elements in a Tuple"
   ]
  },
  {
   "cell_type": "markdown",
   "metadata": {},
   "source": [
    "Elements in a tuple can be accessed using the square bracket operator `[]`.  Slicing is also possible in tuples. [あ]"
   ]
  },
  {
   "cell_type": "raw",
   "metadata": {
    "scrolled": true
   },
   "source": [
    "print(int_tuple)\n",
    "#あ "
   ]
  },
  {
   "cell_type": "raw",
   "metadata": {},
   "source": [
    "print(int_tuple[0])\n",
    "print(int_tuple[-1])\n",
    "#あ "
   ]
  },
  {
   "cell_type": "raw",
   "metadata": {},
   "source": [
    "print(int_tuple[1:])\n",
    "print(int_tuple[:-1])\n",
    "#あ "
   ]
  },
  {
   "cell_type": "raw",
   "metadata": {},
   "source": [
    "print(int_tuple[1:-1])\n",
    "#あ "
   ]
  },
  {
   "cell_type": "markdown",
   "metadata": {},
   "source": [
    "#### Getting the number of elements in  a Tuple with `len()`"
   ]
  },
  {
   "cell_type": "markdown",
   "metadata": {},
   "source": [
    "Like in lists, the number of elements in a tuple could be obtained using the `len()` function. [あ ]"
   ]
  },
  {
   "cell_type": "raw",
   "metadata": {},
   "source": [
    "z = (2, 4, 6, 0, 1)\n",
    "print(len(z))"
   ]
  },
  {
   "cell_type": "markdown",
   "metadata": {},
   "source": [
    "### Quick Symbol Check\n",
    "\n",
    "Recall the use of the following symbols:\n",
    "- Parenthesis — `()` — are used for defining tuples\n",
    "- Square Brackets — `[]` — are used for defining lists\n",
    "- Curly Braces — `{}` — are used for defining dictionaries*\n",
    "- Square Brackets are also used...\n",
    "    - as **index** for accessing specific elements in lists, tuples, and strings\n",
    "    - for **slicing** lists, tuples, and strings\n",
    "    - as **key index** for getting the value in a dictionary*\n",
    "\n",
    "*on dictionaries: Please see [Chapter 9](#chapter9)\n",
    "\n",
    "[あ]"
   ]
  },
  {
   "cell_type": "markdown",
   "metadata": {},
   "source": [
    "## Tuples are immutable"
   ]
  },
  {
   "cell_type": "markdown",
   "metadata": {},
   "source": [
    "You will recall that lists are mutable, that is, you could change the elements in a list:  \n",
    "[あ]"
   ]
  },
  {
   "cell_type": "raw",
   "metadata": {
    "scrolled": false
   },
   "source": [
    "x = [9, 8, 7]\n",
    "x[2] = 6\n",
    "print(x)"
   ]
  },
  {
   "cell_type": "markdown",
   "metadata": {},
   "source": [
    "You will also recall that strings, unlike lists, are immutable:"
   ]
  },
  {
   "cell_type": "code",
   "execution_count": null,
   "metadata": {},
   "outputs": [],
   "source": [
    "y = 'ABC'\n",
    "y[2] = 'D'\n"
   ]
  },
  {
   "cell_type": "markdown",
   "metadata": {},
   "source": [
    "Now, tuples are, like strings — and unlike lists — immutable.\n",
    "[あ]"
   ]
  },
  {
   "cell_type": "markdown",
   "metadata": {},
   "source": [
    "Unlike a list, once you create a tuple, you cannot alter its contents - similar to a string"
   ]
  },
  {
   "cell_type": "raw",
   "metadata": {},
   "source": [
    "z = (5, 4, 3)\n",
    "z[2] = 0"
   ]
  },
  {
   "cell_type": "markdown",
   "metadata": {},
   "source": [
    "##  Things NOT to do With Tuples"
   ]
  },
  {
   "cell_type": "markdown",
   "metadata": {},
   "source": [
    "Tuples do **not** have the following methods. \n",
    "\n",
    "- sort\n",
    "- append\n",
    "- reverse"
   ]
  },
  {
   "cell_type": "markdown",
   "metadata": {},
   "source": [
    "Let's define a tuple [あ]"
   ]
  },
  {
   "cell_type": "raw",
   "metadata": {},
   "source": [
    "my_tuple = (3, 2, 1)"
   ]
  },
  {
   "cell_type": "markdown",
   "metadata": {},
   "source": [
    "The following method calls will produce an error. [あ]"
   ]
  },
  {
   "cell_type": "raw",
   "metadata": {},
   "source": [
    "my_tuple.sort()"
   ]
  },
  {
   "cell_type": "raw",
   "metadata": {},
   "source": [
    "my_tuple.append(5)"
   ]
  },
  {
   "cell_type": "raw",
   "metadata": {
    "scrolled": false
   },
   "source": [
    "my_tuple.reverse()"
   ]
  },
  {
   "cell_type": "markdown",
   "metadata": {},
   "source": [
    "## Methods for Tuples"
   ]
  },
  {
   "cell_type": "markdown",
   "metadata": {},
   "source": [
    "We can generate a list of non special Python methods for tuples using list comprehension.  [あ]"
   ]
  },
  {
   "cell_type": "raw",
   "metadata": {
    "scrolled": true
   },
   "source": [
    "[x for x in dir(my_tuple) if not x.startswith('__')]\n",
    "#あ"
   ]
  },
  {
   "cell_type": "markdown",
   "metadata": {},
   "source": [
    "#### count"
   ]
  },
  {
   "cell_type": "markdown",
   "metadata": {},
   "source": [
    "We can count the number of occurances in a tuple using `count()`"
   ]
  },
  {
   "cell_type": "raw",
   "metadata": {},
   "source": [
    "lyrics = ('na', 'na', 'na', 'na', 'na', 'na', 'na', 'na', 'na', 'na', 'na', 'hey', 'Jude')\n",
    "lyrics.count('na')\n",
    "#あ"
   ]
  },
  {
   "cell_type": "markdown",
   "metadata": {},
   "source": [
    "#### index"
   ]
  },
  {
   "cell_type": "markdown",
   "metadata": {},
   "source": [
    "We can get the index of an element in a tuple using `index()`"
   ]
  },
  {
   "cell_type": "code",
   "execution_count": null,
   "metadata": {},
   "outputs": [],
   "source": [
    "idx = lyrics.index('Jude')\n",
    "idx\n",
    "#あ"
   ]
  },
  {
   "cell_type": "raw",
   "metadata": {},
   "source": [
    "lyrics[idx]\n",
    "#あ"
   ]
  },
  {
   "cell_type": "markdown",
   "metadata": {},
   "source": [
    "##  Why Use Tuples over Lists?\n",
    "\n",
    "The advantage of tuples over lists are that they are more efficient."
   ]
  },
  {
   "cell_type": "markdown",
   "metadata": {},
   "source": [
    "- Since Python does not have to build tuple structures to be modifiable, they are simpler and more efficient in terms of memory use and performance than lists\n",
    "- tuples are preferable over lists\n",
    "    - When making variables that you don't have to change\n",
    "    - When making “temporary variables” "
   ]
  },
  {
   "cell_type": "markdown",
   "metadata": {},
   "source": [
    "## Tuples and Assignment"
   ]
  },
  {
   "cell_type": "markdown",
   "metadata": {},
   "source": [
    "We can put a tuple on the left-hand side of an assignment statement"
   ]
  },
  {
   "cell_type": "code",
   "execution_count": 433,
   "metadata": {},
   "outputs": [
    {
     "name": "stdout",
     "output_type": "stream",
     "text": [
      "fred\n"
     ]
    }
   ],
   "source": [
    "(x, y) = (4, 'fred')\n",
    "print(y)"
   ]
  },
  {
   "cell_type": "raw",
   "metadata": {
    "scrolled": false
   },
   "source": [
    "(a, b) = (99, 98)\n",
    "print(a)"
   ]
  },
  {
   "cell_type": "markdown",
   "metadata": {},
   "source": [
    "We can even omit the parenthesis"
   ]
  },
  {
   "cell_type": "raw",
   "metadata": {},
   "source": [
    "(c, d) = 5, 'john'\n",
    "(c,d)\n",
    "#あ"
   ]
  },
  {
   "cell_type": "raw",
   "metadata": {},
   "source": [
    "c, d = (5, 'john')\n",
    "(c,d)\n",
    "#あ"
   ]
  },
  {
   "cell_type": "markdown",
   "metadata": {},
   "source": [
    "The number of elements on both sides have to be the same"
   ]
  },
  {
   "cell_type": "raw",
   "metadata": {},
   "source": [
    "c, d, e = (5, 'john')\n",
    "#あ"
   ]
  },
  {
   "cell_type": "raw",
   "metadata": {},
   "source": [
    "c, d = (5, 'john', 'paul')\n",
    "#あ"
   ]
  },
  {
   "cell_type": "markdown",
   "metadata": {},
   "source": [
    "## Unpacking Tuples"
   ]
  },
  {
   "cell_type": "markdown",
   "metadata": {},
   "source": [
    "Tuples could be unpacked to individual variables. The number of variables should match the number of items in the tuple."
   ]
  },
  {
   "cell_type": "code",
   "execution_count": 434,
   "metadata": {},
   "outputs": [
    {
     "name": "stdout",
     "output_type": "stream",
     "text": [
      "Bilbo Baggins\n",
      "bilbo@shire.me\n"
     ]
    }
   ],
   "source": [
    "contact_info = ('Bilbo', 'Baggins', 'bilbo@shire.me')\n",
    "fname, lname, email = contact_info\n",
    "print(fname, lname)\n",
    "print(email)\n",
    "#あ"
   ]
  },
  {
   "cell_type": "markdown",
   "metadata": {},
   "source": [
    "## zip() function\n",
    "[あ] (entire subsection)"
   ]
  },
  {
   "cell_type": "markdown",
   "metadata": {},
   "source": [
    "The built-in `zip()` function could be used to generate tuples from data structures like lists or tuples.  "
   ]
  },
  {
   "cell_type": "raw",
   "metadata": {
    "scrolled": true
   },
   "source": [
    "int_list = [3, 7, 9, 1]\n",
    "string_list = ['elven-kings', 'dwarf-lords', 'mortal men', 'Dark Lord']\n",
    "zipped = zip(int_list, string_list)\n",
    "zipped"
   ]
  },
  {
   "cell_type": "markdown",
   "metadata": {},
   "source": [
    "The code above produced a **iterator** that can be used in a `for` loop: "
   ]
  },
  {
   "cell_type": "raw",
   "metadata": {},
   "source": [
    "for item in zipped:\n",
    "    print(item[0], 'ring(s) for the', item[1])"
   ]
  },
  {
   "cell_type": "markdown",
   "metadata": {},
   "source": [
    "or converted to a list:"
   ]
  },
  {
   "cell_type": "raw",
   "metadata": {},
   "source": [
    "zipped = zip(int_list, string_list)\n",
    "ring_inventory = list(zipped)\n",
    "ring_inventory"
   ]
  },
  {
   "cell_type": "raw",
   "metadata": {},
   "source": [
    "ring_inventory[2]"
   ]
  },
  {
   "cell_type": "raw",
   "metadata": {},
   "source": [
    "for item in ring_inventory:\n",
    "    print(item[0], 'ring(s) for the', item[1])"
   ]
  },
  {
   "cell_type": "markdown",
   "metadata": {},
   "source": [
    "## Final Words"
   ]
  },
  {
   "cell_type": "markdown",
   "metadata": {},
   "source": [
    "- Tuples are like lists, except that they are not mutable\n",
    "- Use tuples for values that you don’t expect to change since they are more efficient\n",
    "- Tuples are also important for using functions as some arguments are passed as tuples\n",
    "\n",
    "[あ]"
   ]
  },
  {
   "cell_type": "markdown",
   "metadata": {},
   "source": [
    "## EXERCISES"
   ]
  },
  {
   "cell_type": "markdown",
   "metadata": {},
   "source": [
    "#### Exercise 1\n",
    "\n",
    "Create a tuple with the following items: `1, 1, 2, 3, 5`. Feed the tuple to the `sum()` built-in function and check the result.\n",
    "\n",
    "[あ]"
   ]
  },
  {
   "cell_type": "code",
   "execution_count": 442,
   "metadata": {},
   "outputs": [
    {
     "data": {
      "text/plain": [
       "12"
      ]
     },
     "execution_count": 442,
     "metadata": {},
     "output_type": "execute_result"
    }
   ],
   "source": [
    "testTuple = (1, 1, 2, 3, 5)\n",
    "tupleSum = sum(testTuple)\n",
    "tupleSum\n"
   ]
  },
  {
   "cell_type": "markdown",
   "metadata": {},
   "source": [
    "#### Exercise 2\n",
    "\n",
    "Unpack the following tuple into meaningful variables and display them\n",
    "\n",
    "```python\n",
    "ph_info = ('Philippines', 'Manila', 103.3) # The last number is the Population in Millions as of 2016\n",
    "```\n",
    "\n",
    "[あ]"
   ]
  },
  {
   "cell_type": "code",
   "execution_count": 495,
   "metadata": {},
   "outputs": [
    {
     "name": "stdout",
     "output_type": "stream",
     "text": [
      "The Philippines has a population of 103 millions as of 2016\n",
      "It's capital City is  Manila\n"
     ]
    }
   ],
   "source": [
    "ph_info = ('Philippines', 'Manila', 103.3)\n",
    "country, city, population = ph_info\n",
    "print('The', country, 'has a population of', int(population), 'millions', 'as of 2016')\n",
    "print(\"It's capital City is \", city)\n",
    "\n",
    "\n",
    "\n",
    "\n",
    "#contact_info = ('Bilbo', 'Baggins', 'bilbo@shire.me')\n",
    "#fname, lname, email = contact_info\n",
    "#print(fname, lname)\n",
    "#print(email)\n",
    "#あ"
   ]
  },
  {
   "cell_type": "markdown",
   "metadata": {},
   "source": [
    "#### Important Note\n",
    "\n",
    "It's suggested to study [Chapter 9 Dictionaries](#chapter9) after this chapter\n",
    "\n",
    "[あ]"
   ]
  },
  {
   "cell_type": "markdown",
   "metadata": {},
   "source": [
    "[TABLE OF CONTENTS](#contents)"
   ]
  },
  {
   "cell_type": "markdown",
   "metadata": {},
   "source": [
    "# END"
   ]
  },
  {
   "cell_type": "markdown",
   "metadata": {},
   "source": [
    "Congratulations for reaching this far. There are still several chapters from Python for Everybody, but the ones covered here are the most important ones as we move forward.  \n",
    "\n",
    "[あ]"
   ]
  }
 ],
 "metadata": {
  "hide_input": false,
  "kernelspec": {
   "display_name": "Python 3",
   "language": "python",
   "name": "python3"
  },
  "language_info": {
   "codemirror_mode": {
    "name": "ipython",
    "version": 3
   },
   "file_extension": ".py",
   "mimetype": "text/x-python",
   "name": "python",
   "nbconvert_exporter": "python",
   "pygments_lexer": "ipython3",
   "version": "3.7.3"
  }
 },
 "nbformat": 4,
 "nbformat_minor": 2
}
