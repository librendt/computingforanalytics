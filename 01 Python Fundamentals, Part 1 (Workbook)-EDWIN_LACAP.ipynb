{
 "cells": [
  {
   "cell_type": "markdown",
   "metadata": {},
   "source": [
    "# PYTHON FUNDAMENTALS, Part 1 (Workbook)\n",
    "\n",
    "[CC BY 4.0](https://creativecommons.org/licenses/by/4.0/)"
   ]
  },
  {
   "cell_type": "markdown",
   "metadata": {},
   "source": [
    "## Credits\n",
    "\n",
    "Most code snippets and explanatory texts from: \n",
    "- Charles Russel Severance's [Python for Everybody](https://www.py4e.com/) lecture slides\n",
    "  -  Unless annotated as indicated below, text and code came from this source. Additionally, they could be explicitly indicated by the marker `[PES]`\n",
    "\n",
    "and\n",
    "- Charles Russel Severance's [Python for Everybody - Online HTML Book](https://www.py4e.com/html3/)\n",
    "  - Notes and codes from this source are indicated by this the marker `[PEW]`\n",
    "\n",
    "Additional codes and comments from:\n",
    "\n",
    "- Antonio C. Briza\n",
    "  - code cells marked by `#あ` at the first or last line\n",
    "  - markdown and raw cells marked by `[あ]` at the end\n",
    "\n",
    "- J.R. Johansson's [Introduction to Scientific Computing with Python](http://github.com/jrjohansson/scientific-python-lectures) \n",
    "  - Notes and codes from this source are indicated by this the marker `[JRJ]`"
   ]
  },
  {
   "cell_type": "markdown",
   "metadata": {},
   "source": [
    "# Before you begin\n",
    "\n",
    "First, make a copy of this notebook so that you can make changes as you please. Run and edit the copy instead of this original notebook. To copy this notebook, go to `File|Make a Copy`.\n",
    "\n",
    "If this notebook is already a copy of the original, clear all outputs in this notebook. Go to the Menu and click on `Cell| All Outputs| Clear`. Once this is done, you're ready to go."
   ]
  },
  {
   "cell_type": "markdown",
   "metadata": {},
   "source": [
    "# Suggestions for Learning\n",
    "\n",
    "- Code snippets in Raw Cells are meant to be written by Beginners.\n",
    "- Code snippets in Code Cells are for illustration purposes. They are meant to be executed by both Beginners and more experienced Learners. (Beginners, may wish to also type them, if they so choose).\n",
    "\n",
    "For better learning experience, the following are suggested:\n",
    "\n",
    "### For Beginners\n",
    "1. Create a new Code Cell below the code snippets inside Raw Cells (Insert Cell below then convert the cell type to Code Cell). \n",
    "2. Go to your newly-created Code Cell and re-type what you see in the code snippet (don't copy-paste) \n",
    "3. Execute (and experiment) on the Code Cell. \n",
    "4. Remember to learn by doing (not just by reading or seeing)\n",
    "\n",
    "### For Coders\n",
    "1. If you are not yet familiar with the concept, follow Steps 1&2 of the Instructions for Beginners\n",
    "2. If you are already familiar with the concept being presented, convert the Raw Cell into a Code Cell.\n",
    "3. Execute (and experiment) on the Code Cell. \n",
    "4. Learn the \"adjacent concepts\", e.g. read related documentation \n",
    "5. Help your classmates, because teaching is a wonderful way to learn. \n",
    "\n",
    "### For All\n",
    "* Make this your personal notebook.\n",
    "    * Add your own text annotations in Markup Cells. \n",
    "    * Add comments to parts of code that you find difficult to understand\n",
    "    * Breakdown difficult code into several small pieces (maybe, several Code Cells) that are easier to understand"
   ]
  },
  {
   "cell_type": "markdown",
   "metadata": {},
   "source": [
    "<a id='contents'></a>"
   ]
  },
  {
   "cell_type": "markdown",
   "metadata": {},
   "source": [
    "# TABLE OF CONTENTS"
   ]
  },
  {
   "cell_type": "markdown",
   "metadata": {},
   "source": [
    "[Terminal Commands and Magic Commands (Optional)](#chapter0)<br>\n",
    "[Chapter 1 Introduction](#chapter1)<br>\n",
    "[Chapter 2 Variables, Expressions, and Statements](#chapter2)<br>\n",
    "[Chapter 3 Conditional Execution](#chapter3)<br>\n",
    "[Chapter 4 Functions](#chapter4)<br>\n",
    "[Chapter 5 Iterations](#chapter5)<br>"
   ]
  },
  {
   "cell_type": "markdown",
   "metadata": {},
   "source": [
    "<a id='chapter0'></a>"
   ]
  },
  {
   "cell_type": "markdown",
   "metadata": {},
   "source": [
    "# Terminal Commands and Magic Commands (Optional)"
   ]
  },
  {
   "cell_type": "markdown",
   "metadata": {},
   "source": [
    "Below are some useful tools for doing work in Jupyter. Although they are executed in Code Cells **they are not python code** and could not be used in python programs. This section is not in [PES] nor [PEW] \n",
    "\n",
    "[あ]"
   ]
  },
  {
   "cell_type": "markdown",
   "metadata": {},
   "source": [
    "## Terminal Commands \n",
    "You can execute terminal (or shell) commands within Jupyter Notebooks by prepending them with the exclamation mark"
   ]
  },
  {
   "cell_type": "markdown",
   "metadata": {},
   "source": [
    "### Windows Terminal Commands"
   ]
  },
  {
   "cell_type": "markdown",
   "metadata": {},
   "source": [
    "If you are running Windows, you could try the following commands"
   ]
  },
  {
   "cell_type": "markdown",
   "metadata": {},
   "source": [
    "#### `Directory` Command\n",
    "Shows current directory and its contents"
   ]
  },
  {
   "cell_type": "code",
   "execution_count": 344,
   "metadata": {},
   "outputs": [
    {
     "name": "stdout",
     "output_type": "stream",
     "text": [
      "/bin/sh: dir: command not found\r\n"
     ]
    }
   ],
   "source": [
    "!dir"
   ]
  },
  {
   "cell_type": "markdown",
   "metadata": {},
   "source": [
    "#### `Type` Command\n",
    "Displays the contents of the file to the screen"
   ]
  },
  {
   "cell_type": "code",
   "execution_count": 345,
   "metadata": {},
   "outputs": [
    {
     "name": "stdout",
     "output_type": "stream",
     "text": [
      "/bin/sh: line 0: type: words.txt: not found\r\n"
     ]
    }
   ],
   "source": [
    "!type words.txt"
   ]
  },
  {
   "cell_type": "markdown",
   "metadata": {},
   "source": [
    "### Linux and Mac Commands"
   ]
  },
  {
   "cell_type": "markdown",
   "metadata": {},
   "source": [
    "#### `pwd` Command \n",
    "Prints the name of the current directory"
   ]
  },
  {
   "cell_type": "code",
   "execution_count": 346,
   "metadata": {},
   "outputs": [
    {
     "name": "stdout",
     "output_type": "stream",
     "text": [
      "/Users/edwinlacap/Downloads\r\n"
     ]
    }
   ],
   "source": [
    "!pwd"
   ]
  },
  {
   "cell_type": "markdown",
   "metadata": {},
   "source": [
    "#### `ls` command \n",
    "Prints a list of files in the current directory"
   ]
  },
  {
   "cell_type": "code",
   "execution_count": 347,
   "metadata": {},
   "outputs": [
    {
     "name": "stdout",
     "output_type": "stream",
     "text": [
      "- MT - Toolbox - Scroll Reveal (1.1).mulib\r\n",
      "00 Jupyter Notebooks Tutorial - Edwin Lacap (Workbook).ipynb\r\n",
      "00_JupyterNotebookTutorial_EDWIN-LACAP-Copy1.ipynb\r\n",
      "00_JupyterNotebookTutorial_EDWIN-LACAP.ipynb\r\n",
      "00_JupyterNotebookTutorial_EDWIN-LACAP.pdf\r\n",
      "01 Python Fundamentals, Part 1 (Workbook)-EDWIN_LACAP-Copy1.ipynb\r\n",
      "01 Python Fundamentals, Part 1 (Workbook)-EDWIN_LACAP.ipynb\r\n",
      "02 Python Fundamentals, Part 2 (Workbook).ipynb\r\n",
      "100_mixed_essential_icons.xd\r\n",
      "\u001b[34m112154-web-navigation-line-craft\u001b[m\u001b[m\r\n",
      "112154-web-navigation-line-craft.zip\r\n",
      "13002-03-3-steps-braid-powerpoint-diagram-16x9.pptx\r\n",
      "13048-01-3-step-mixed-arrows-process-for-powerpoint-16x9.pptx\r\n",
      "20180307_135923.jpg\r\n",
      "20180420_172936.mp4\r\n",
      "20180420_174053.mp4\r\n",
      "20180507_154919.jpg\r\n",
      "20180507_154949.jpg\r\n",
      "20180507_155154.jpg\r\n",
      "20190107_192140.jpg\r\n",
      "20190107_192154.jpg\r\n",
      "20190113.pdf\r\n",
      "24px-icons-arashbal.sketch\r\n",
      "24px-icons-arashbal.zip\r\n",
      "28472204_1972999372715111_7674772258426261531_n.jpg\r\n",
      "28472207_1973072079374507_4383317347709181156_n.jpg\r\n",
      "28576451_1973000756048306_8750661146194913011_n.jpg\r\n",
      "28660321_1972999909381724_6573719918539433447_n.jpg\r\n",
      "28685579_1973000356048346_4139544290309152238_n.jpg\r\n",
      "3D0018-animated-3d-pyramid-funnel-concept-16x9.pptx\r\n",
      "3D0061-3d-stairway-rest-powerpoint-template-16x9.pptx\r\n",
      "3D0070-roadmap-city-powerpoint-template-16x9.pptx\r\n",
      "3D0073-01-3D-business-blocks-animated-powerpoint-template-16x9.pptx\r\n",
      "43bbe10dc5565a4a135323060ae7750a.pdf\r\n",
      "6015-02-3d-circular-process-diagram-2-steps-for-powerpoint.pptx\r\n",
      "7257-01-three-steps-infographic-diagram-16x9.pptx\r\n",
      "7265-01-3d-perspective-icons-for-powerpoint-16x9.pptx\r\n",
      "7288-01-3-steps-3d-ladder-with-arrow-16x9.pptx\r\n",
      "7354-01-4-step-evolving-process-4x3.pptx\r\n",
      "7475-01-3D-five-steps-key-infographic-diagram-4x3.pptx\r\n",
      "7530-02-flat-4-steps-zig-zag-pyramid-16x9.pptx\r\n",
      "7681-01-9-step-diagram-design-concept-for-powerpoint-16x9.pptx\r\n",
      "7710-01-5-step-horizontal-flow-diagram-for-powerpoint-4x3.pptx\r\n",
      "7829-01-multi-level-infographic-diagram-for-powerpoint-16x9.pptx\r\n",
      "7953-01-6-item-hexagon-diagram-template-for-powerpoint-16x9.pptx\r\n",
      "7955-01-4-item-connected-diagram-template-for-powerpoint-16x9.pptx\r\n",
      "7960-01-downward-trend-powerpoint-template-16x9.pptx\r\n",
      "7961-01-upswing-trend-powerpoint-template-16x9.pptx\r\n",
      "7966-01-5-step-circular-diagram-concept-for-powerpoint-16x9.pptx\r\n",
      "7984-01-4-item-mixed-arrows-infographic-for-powerpoint-16x9.pptx\r\n",
      "8758535f14783cd.jpg\r\n",
      "9781601987976-summary.pdf\r\n",
      "@CC_GoT.S08E04.480p.WeBHD.ESub.mkv\r\n",
      "@CC_GoT.S08E04.480p.WeBHD.ESub.mkv 2\r\n",
      "ALS_8372.JPG\r\n",
      "ALS_8372.NEF\r\n",
      "ALS_8374.JPG\r\n",
      "\u001b[34mAMLA STR\u001b[m\u001b[m\r\n",
      "AMLA STR.zip\r\n",
      "ATM Availability Category_v2 (1).xls\r\n",
      "ATM Availability_v2.pptx\r\n",
      "ATM Dashboard SP1.pptx\r\n",
      "ATM LIST AS OF 07202018.xlsx\r\n",
      "ATM_STATUS_MST_201807241621.csv\r\n",
      "Activity-logs - January 2019.pdf\r\n",
      "Adjustments 04282019.xlsx\r\n",
      "All files (1).ai\r\n",
      "All files (2).ai\r\n",
      "All files Editable text (1).ai\r\n",
      "All files Editable text.ai\r\n",
      "All files.ai\r\n",
      "Analysis Report for 2018-04-26.xlsx\r\n",
      "Android_Design_Icons_20131106.zip\r\n",
      "\u001b[34mAnimated iPad Pro 2018 Mockup (PSD)\u001b[m\u001b[m\r\n",
      "\u001b[34mAnimated iPad Pro 2018 Mockup (PSD) 2\u001b[m\u001b[m\r\n",
      "Animated-iPad-Pro-2018-Mockup-(PSD).zip\r\n",
      "Annual_Report_2017.pdf\r\n",
      "Appendix B - Goals.docx\r\n",
      "Apple-iOS-UI-Sketch-Library-12.dmg\r\n",
      "Application_VLP.pdf\r\n",
      "Arlene Almario and 36 others.vcf\r\n",
      "Arlene Almario.vcf\r\n",
      "\u001b[34mAtom.app\u001b[m\u001b[m\r\n",
      "AxureRP-Setup.dmg\r\n",
      "\u001b[34mAxureRP.sketchplugin\u001b[m\u001b[m\r\n",
      "AxureRP.sketchplugin.zip\r\n",
      "Ayala Lands Proof of Concept Requirements - Buyers Portal Version 1.0.docx\r\n",
      "BPA Activities - February 2019.pdf\r\n",
      "BPA Activity Logs - April 2019.pdf\r\n",
      "BPA Activity Report - May 2019.pdf\r\n",
      "BPA Activity logs - June 2019.pdf\r\n",
      "BPA TS - December 2018.pdf\r\n",
      "BPA TS - February 2019.pdf\r\n",
      "BPA TS - March 2019.pdf\r\n",
      "BPA TS - May 2019.pdf\r\n",
      "BPA TS - Time sheet April2019).pdf\r\n",
      "BPA TS - Time sheet.pdf\r\n",
      "BPA Time Sheet - June 2019.pdf\r\n",
      "BSP Concept Branch Digital Transactions PDF.pdf\r\n",
      "BSP_Outsystems_Presentation.pptx\r\n",
      "\u001b[34mBanking UI Kit\u001b[m\u001b[m\r\n",
      "\u001b[34mBanking UI Kit 2\u001b[m\u001b[m\r\n",
      "Banking-UI-Kit.zip\r\n",
      "\u001b[34mBasketball-tournament-poster\u001b[m\u001b[m\r\n",
      "Basketball-tournament-poster.zip\r\n",
      "Benefits.xlsx\r\n",
      "Blank Diagram - Sample multiple transaction.jpeg\r\n",
      "Bootstrap4_UI_Library.sketch\r\n",
      "Business Strategic Planning 2017 - Enterprise Architecture.pptx\r\n",
      "CA_Directory2017updated - per branch.xlsx\r\n",
      "CDC Deck (1).pptx\r\n",
      "CDC Deck.pptx\r\n",
      "\u001b[34mCEG Dashboard\u001b[m\u001b[m\r\n",
      "\u001b[34mCEG Dashboard 2\u001b[m\u001b[m\r\n",
      "\u001b[34mCEG Dashboard 3\u001b[m\u001b[m\r\n",
      "CEG Dashboard.zip\r\n",
      "CPE FALCONS.jpg\r\n",
      "CR-V2018brochure (1).pdf\r\n",
      "CR-V2018brochure.pdf\r\n",
      "CTOO - Board 02-23-18-2 - internal.key\r\n",
      "CTOO - Board 02-23-18-2 - internal.pptx\r\n",
      "CTOO - Board 02-23-18-2 - working.key\r\n",
      "Capture.PNG\r\n",
      "Cars-for-Sale-as-of-March-13-2018.pdf\r\n",
      "Cisco_WebEx_Add-On.dmg\r\n",
      "\u001b[34mColour Contrast Analyser.app\u001b[m\u001b[m\r\n",
      "Colour.Contrast.Analyser.app.zip\r\n",
      "\u001b[34mConverge Demo\u001b[m\u001b[m\r\n",
      "\u001b[34mConverge Demo 2\u001b[m\u001b[m\r\n",
      "Converge Demo 2.zip\r\n",
      "\u001b[34mConverge Demo 3\u001b[m\u001b[m\r\n",
      "Converge Demo 3.zip\r\n",
      "Converge Demo 3_1535529809.zip\r\n",
      "\u001b[34mConverge Demo 4\u001b[m\u001b[m\r\n",
      "Converge Demo v.0.1.zip\r\n",
      "CraftInstaller (1).zip\r\n",
      "CraftInstaller (2).zip\r\n",
      "CraftInstaller.zip\r\n",
      "Cultural Training Proposal.pptx\r\n",
      "\u001b[34mDMS\u001b[m\u001b[m\r\n",
      "DMS ACCESS LEVEL & ROLE.xlsx\r\n",
      "DMS SUMMARY OF USERS.xlsx\r\n",
      "DMS.zip\r\n",
      "Data Cleanup - Compiled.xlsx\r\n",
      "Design Sign Off -  Via Appia Philippines Inc.pdf\r\n",
      "DesignCode-iOS-9-iPad-GUI.sketch\r\n",
      "DesignCode-iOS11-GUI (1).zip\r\n",
      "DesignCode-iOS11-GUI 2.sketch\r\n",
      "DesignCode-iOS11-GUI.sketch\r\n",
      "DesignCode-iOS11-GUI.zip\r\n",
      "DevelopmentEnvironment-10.0.814.0.exe\r\n",
      "DiamondsRForever.pptx\r\n",
      "DigHum_01_v1_11_Computational_Methods_and_Humanities_20190410_RC-_edxmstr_v1-en.txt\r\n",
      "Digital Trans.docx\r\n",
      "Digital Transformation Journey 0131.key\r\n",
      "Display queue ux mapping.pdf\r\n",
      "DocCoverPage_1000730055.html\r\n",
      "Document-attachment.jpg\r\n",
      "\u001b[34mDosis\u001b[m\u001b[m\r\n",
      "Dosis.zip\r\n",
      "EOD_RCARANTE_11-08-2018.xlsx\r\n",
      "EventCalendarServlet.ics\r\n",
      "Exercise 1 - OutSystems Web Portal.pdf\r\n",
      "\u001b[34mFREEfullsoccerkitMockup\u001b[m\u001b[m\r\n",
      "FREEfullsoccerkitMockup.zip\r\n",
      "\u001b[34mFW__Ark_-_Account_Opening_Screens\u001b[m\u001b[m\r\n",
      "FW__Ark_-_Account_Opening_Screens.zip\r\n",
      "\u001b[34mFacebook iOS 10 Sketch\u001b[m\u001b[m\r\n",
      "Field Names.xlsx\r\n",
      "Fields to be added to HMAX Mobile 20180530.xlsx\r\n",
      "FinacleCustomer_20180706.pdf\r\n",
      "Flinto-24.6.dmg\r\n",
      "Flinto-27.0.dmg\r\n",
      "\u001b[34mFloating iPhone 8 Mockup\u001b[m\u001b[m\r\n",
      "Floating-iPhone-8-Mockup.zip\r\n",
      "\u001b[34mFootball-Helmet-Free-PSD-Mockup\u001b[m\u001b[m\r\n",
      "Football-Helmet-Free-PSD-Mockup.zip\r\n",
      "\u001b[34mFootball-club-badges\u001b[m\u001b[m\r\n",
      "Football-club-badges.zip\r\n",
      "Form Fields - Microsite.xlsx\r\n",
      "\u001b[34mFramer X.app\u001b[m\u001b[m\r\n",
      "FramerStudio.zip\r\n",
      "FramerX.zip\r\n",
      "GPG_SOC_BFR_Philippines.pdf\r\n",
      "\u001b[30m\u001b[43mGame.of.Thrones.S08E02.1080p.WEB.x264-ADRENALiNE[ettv]\u001b[m\u001b[m\r\n",
      "\u001b[30m\u001b[43mGame.of.Thrones.S08E03.WEB.H264-MEMENTO[ettv]\u001b[m\u001b[m\r\n",
      "Happy_birthday_mamu_1080p.mp4\r\n",
      "\u001b[34mID Materials\u001b[m\u001b[m\r\n",
      "ID Materials.zip\r\n",
      "ID RELEASE 8.7-9.pdf\r\n",
      "IDF timesheet.pdf\r\n",
      "IMG-a92caf02aa256fadd46176979400dfde-V.jpg\r\n",
      "IMG_0041 (1).JPG\r\n",
      "IMG_0041.JPG\r\n",
      "IMG_0105.PNG\r\n",
      "IMG_5865.MOV\r\n",
      "IMG_5867.MOV\r\n",
      "ITDonut_sample-DP-policy-template (1).docx\r\n",
      "ITDonut_sample-DP-policy-template.docx\r\n",
      "Kiosk - General flow.jpeg\r\n",
      "Kolman & Hill - Introductory Linear Algebra.pdf\r\n",
      "LCO Banner.png\r\n",
      "LMIRescue.pkg.zip\r\n",
      "LTOapp.apk\r\n",
      "\u001b[34mLiquidPro UI Kit by Dtail Studio\u001b[m\u001b[m\r\n",
      "LiquidPro UI Kit by Dtail Studio.zip\r\n",
      "Loans APIs.xlsx\r\n",
      "Loans Platform Process - Home.pdf\r\n",
      "Loans Platform Process - Homev2.pdf\r\n",
      "MAB2110 Prep - Basics of Differential Calculus.pdf\r\n",
      "MABA Application Form SY1820.pdf\r\n",
      "MABA Letter of Recommendation SY1820-GIAN_SANTOS.pdf\r\n",
      "MABA Letter of Recommendation SY1820-RICHARD_LEONCIO.pdf\r\n",
      "MABA Letter of Recommendation SY1820_JEN-BUNGAY.pdf\r\n",
      "MAX Draft 4.mp4\r\n",
      "MAX High Level Archi.pages\r\n",
      "MAX Roadmap.pptx\r\n",
      "MAX Timeline.xlsx\r\n",
      "MGI-Smart-Cities-Full-Report.pdf\r\n",
      "MGI-Smart-Cities-in-SouthEast-Asia.PDF\r\n",
      "MGI-The-Age-of-Analytics-Full-report.pdf\r\n",
      "MOCKUP-02-ND.psd\r\n",
      "\u001b[34mMSA Tutoring Sessions - Week 01\u001b[m\u001b[m\r\n",
      "MSA_Tutoring_Sessions_-_Week_01.zip\r\n",
      "MVIC Architecture.pptx\r\n",
      "\u001b[34mMagicMirror3.sketchplugin\u001b[m\u001b[m\r\n",
      "MagicMirror3_v3.5.9.zip\r\n",
      "Mart_invite.jpg\r\n",
      "Mart_invite.psd\r\n",
      "Mart_invite_v2.jpg\r\n",
      "Mart_invite_v3psd\r\n",
      "Mart_invite_v4.jpg\r\n",
      "Mart_invite_v4psd\r\n",
      "Mart_invite_v5.jpg\r\n",
      "Mart_invite_v6.jpg\r\n",
      "Mart_invite_v6.psd\r\n",
      "\u001b[34mMatex-admin-PSD\u001b[m\u001b[m\r\n",
      "Max_ending_scene_HD720 (2).mp4\r\n",
      "Max_logo_obb_HD720 (2).mp4\r\n",
      "Microsoft_Office_2016_16.10.18021001_Installer.pkg\r\n",
      "Miranda.Andzelko.mp4\r\n",
      "Monthly time sheet - BPA-Via Appia (1).xlsx\r\n",
      "Monthly time sheet - BPA-Via Appia.xlsx\r\n",
      "Monthly_time_sheet _January2019- BPA-Via_Appia..pdf\r\n",
      "\u001b[34mMotion Profile 2.framer\u001b[m\u001b[m\r\n",
      "\u001b[34mMotion Profile.framer\u001b[m\u001b[m\r\n",
      "Navigation - Five Questions .wmv\r\n",
      "New Doc 2019-05-25 01.23.154525023250991136323.pdf\r\n",
      "OCC Dashboard Storyline.pptx\r\n",
      "OVERALL DAY 1.mp4\r\n",
      "OmniGraffle-7.9.2.dmg\r\n",
      "OutSystems Business Case_v1.0.docx\r\n",
      "OutSystems Service Studio-11.0.109.200.dmg\r\n",
      "OutSystems Service Studio-11.0.116.200.dmg\r\n",
      "Outsystems_Deployment_Checklist.xlsx\r\n",
      "Outsytems_BSP.pptx\r\n",
      "Outsytems_BSP_v2.1.pptx\r\n",
      "Overflow-0.6.4.dmg\r\n",
      "PBD for Goods_5thEdition_with_TechSpecs.doc\r\n",
      "Pantones.jpeg\r\n",
      "Partner_Sales_Enablement_#2__Technical_Deep_Dive_-_Enterprise_Architecture_&_Scalability.pptx\r\n",
      "\u001b[34mPausrr-icons 2.sketch\u001b[m\u001b[m\r\n",
      "\u001b[34mPausrr-icons 3.sketch\u001b[m\u001b[m\r\n",
      "\u001b[34mPausrr-icons.sketch\u001b[m\u001b[m\r\n",
      "Pausrr-icons.sketch (1).zip\r\n",
      "Pausrr-icons.sketch.zip\r\n",
      "Peso Fixed Income - Consolidated Ind.pdf\r\n",
      "Pet-Boarding-Info-and-Contract-Riversky-Kennel (1).doc\r\n",
      "Pet-Boarding-Info-and-Contract-Riversky-Kennel.doc\r\n",
      "Platform_Revolution_by_Geoffrey_G_Parker574861392.pdf\r\n",
      "\u001b[34mPoster\u001b[m\u001b[m\r\n",
      "Poster-Frame-Mockup.psd\r\n",
      "Poster.zip\r\n",
      "Process Flows BPA.pptx\r\n",
      "Product Matrix.xlsx\r\n",
      "Product Matrix_1561528245.xlsx\r\n",
      "Profile (1).pdf\r\n",
      "Profile (2).pdf\r\n",
      "Profile.pdf\r\n",
      "Proxima_Nova_Thin-webfont.ttf\r\n",
      "R600008746 PIS Form 20190819.pdf\r\n",
      "RFP for Ayala Land Inc Utilities Data Portal.pdf\r\n",
      "RPA Memo_20180921_v1.1.docx\r\n",
      "RPA POC Details - After-EOD-batch Reports Generation.pptx\r\n",
      "RStudio-1.1.463.dmg\r\n",
      "Resume-Pax.pdf\r\n",
      "Robot Invocation - BSP Reports 3.mp4\r\n",
      "S927081 - Bank Certificate 20190402.pdf\r\n",
      "SBankers.png\r\n",
      "\u001b[31mSCAN_20190527_093703090_27052019_042431_005.pdf\u001b[m\u001b[m\r\n",
      "SCAN_20190527_093703090_27052019_042431_005.zip\r\n",
      "SCWV_Form.xlsx\r\n",
      "Sample Protocol.docx\r\n",
      "Screen Shot 2018-04-25 at 11.42.52 AM.png\r\n",
      "Screen Shot 2018-11-26 at 11.05.06 PM.png\r\n",
      "Screen Shot 2018-12-05 at 11.27.59 PM.png\r\n",
      "Screen Shot 2019-03-20 at 1.58.18 PM.png\r\n",
      "Screenshot_20180321-002851.png\r\n",
      "Screenshot_20180705-081755_MAX.jpg\r\n",
      "Screenshot_20190814-182322_UnionBank.jpg\r\n",
      "Sealed Bidding Flyer_102918.pdf\r\n",
      "Sequence 01.mp4\r\n",
      "Silk.UI.Mobile.Customizer.Preview-1.2.0.oap\r\n",
      "\u001b[34mSimple line icons 2 by Mirko Monti\u001b[m\u001b[m\r\n",
      "\u001b[34mSimple line icons 2 by Mirko Monti 2\u001b[m\u001b[m\r\n",
      "\u001b[34mSimple line icons 2 by Mirko Monti 3\u001b[m\u001b[m\r\n",
      "Simple_line_icons_2_by_Mirko_Monti (1).zip\r\n",
      "Simple_line_icons_2_by_Mirko_Monti (2).zip\r\n",
      "Simple_line_icons_2_by_Mirko_Monti.zip\r\n",
      "\u001b[34mSketch-to-Clickthrough-HTML-master\u001b[m\u001b[m\r\n",
      "Sketch-to-Clickthrough-HTML-master.zip\r\n",
      "\u001b[34mSketch.app\u001b[m\u001b[m\r\n",
      "Software Platforms for Smart Cities.pdf\r\n",
      "SpotifyInstaller.zip\r\n",
      "\u001b[34mStarryNightMoving\u001b[m\u001b[m\r\n",
      "StarryNightMoving.zip\r\n",
      "Style-guide-colors_and_permutations.pdf\r\n",
      "Styles (1).jpeg\r\n",
      "Styles.jpeg\r\n",
      "\u001b[34mSupport-LogMeInRescue.app\u001b[m\u001b[m\r\n",
      "TAP FAQs RLP FINAL FINAL.pptx\r\n",
      "TCAQuarter_4170662_030818.pdf\r\n",
      "\u001b[34mTEAM SPIRIT ORDER KIT(4)\u001b[m\u001b[m\r\n",
      "TEAM SPIRIT ORDER KIT(4).zip\r\n",
      "\u001b[34mTL-WPS510U\u001b[m\u001b[m\r\n",
      "TL-WPS510U_SetupWizard.zip\r\n",
      "TMP-DA-112 Terms and Conditions for Retail Deposit Products.pdf\r\n",
      "TMP-DA-112-19 Terms and Conditions for Retail Deposit Products.pdf\r\n",
      "TOR - Clark Digital Transformation_v2.docx\r\n",
      "TOR - Support Slides - Clark Digital Transformation_v2.pptx\r\n",
      "TOR - Support Slides - Clark Digital Transformation_v2_edits.pptx\r\n",
      "The Ark Transactions_20180328_v1.0.xlsx\r\n",
      "The age of analytics- Competing in a data-driven world | McKinsey.pdf\r\n",
      "UB 2.0 MVP (4) (1).sketch\r\n",
      "UB 2.0 MVP (4).sketch\r\n",
      "UB-Guidelines-181114 (1).pdf\r\n",
      "UB-Guidelines-181114 (LOGO).pdf\r\n",
      "UB-Guidelines-181114.pdf\r\n",
      "UBP_Digital Style Guide_30OCT17 (1).pdf\r\n",
      "UBP_Digital Style Guide_30OCT17%5b1%5d.pdf\r\n",
      "UBP_Digital Style Guide_30OCT17.pdf\r\n",
      "UBP_Digital Style Guide_30OCT17[1].pdf\r\n",
      "UI kit - iOS 10 - iPad Pro 9.7_v1.1 2.sketch\r\n",
      "UI kit - iOS 10 - iPad Pro 9.7_v1.1.sketch\r\n",
      "UI_Kit_Frebie_2.sketch\r\n",
      "UI_Kit_Frebie_2.zip\r\n",
      "Unconfirmed 495336.crdownload\r\n",
      "Unconfirmed 852731.crdownload\r\n",
      "UnionBank Banner.png\r\n",
      "\u001b[34mUnionBank-Logo-icononly\u001b[m\u001b[m\r\n",
      "UnionBank-Logo-icononly (1).gif\r\n",
      "UnionBank-Logo-icononly (2).gif\r\n",
      "UnionBank-Logo-icononly.gif\r\n",
      "UnionBank-Logo-icononly.zip\r\n",
      "Unionbank color palette_s_0510 (1).pdf\r\n",
      "Unionbank color palette_s_0510.pdf\r\n",
      "\u001b[34mUnitag_QRCode_1545892368487\u001b[m\u001b[m\r\n",
      "Unitag_QRCode_1545892368487.zip\r\n",
      "\u001b[34mUnitag_QRCode_1545892809417\u001b[m\u001b[m\r\n",
      "Unitag_QRCode_1545892809417.zip\r\n",
      "Untitled_Artwork.psd\r\n",
      "User Access List.xlsx\r\n",
      "UserLogins_Prod_Jun26-Jul2.xlsx\r\n",
      "VA PERSONNEL_UPDATE_FORM.xlsm\r\n",
      "\u001b[31mVBoxGuestAdditions_5.1.0_RC1.iso\u001b[m\u001b[m\r\n",
      "VBoxGuestAdditions_5.2.8.iso\r\n",
      "Vanilla.Template-4.0.1.oap\r\n",
      "Via Appia Company Profile 2018.pdf\r\n",
      "Viber.dmg\r\n",
      "Visa App_LOCATOR 2.0_prototype.xd\r\n",
      "Visa App_LOCATOR V2.0_120518.xd\r\n",
      "Visa App_LOCATORV2_2.0_prototype.xd\r\n",
      "WeChatUIKit.sketch\r\n",
      "Welcome-screen-transaction_combo.png\r\n",
      "White-Fuse-resource-Data-Protection-Policy-template (1).docx\r\n",
      "\u001b[34mWireFrame\u001b[m\u001b[m\r\n",
      "WireFrame.zip\r\n",
      "\u001b[34mWires\u001b[m\u001b[m\r\n",
      "Wires.zip\r\n",
      "Workshop_BPA.pptx\r\n",
      "Workshop_BPA_v2.pptx\r\n",
      "YouTube Video Downloader - 15.0.3.zip\r\n",
      "\u001b[34mZeplin.app\u001b[m\u001b[m\r\n",
      "Zeplin.app.zip\r\n",
      "Zoom.pkg\r\n",
      "_115081776e8c87a1b9e099c725651fcc_IDEA-Optimization.xlsx\r\n",
      "_15b9c611d604643df4f53d8ba32f1518_IDEA.xlsx\r\n",
      "_524162c8c60c996d7548c96597f6ba96_Video3.3-ArfabarkExample.xlsx\r\n",
      "_6dddbb824bdfa5bdb37a3bd893ea9128_Video2.2-Pawsome.xlsx\r\n",
      "_6dddbb824bdfa5bdb37a3bd893ea9128_Video2.3-DoggieSoft.xlsx\r\n",
      "_6dddbb824bdfa5bdb37a3bd893ea9128_Video2.5-Dogamer.xlsx\r\n",
      "_7618e746f2868e12c807753734da933f_Video3.1-Arfabark-Example.xlsx\r\n",
      "_7618e746f2868e12c807753734da933f_Video3.3-DiscretionaryExpendituresParameters.xlsx\r\n",
      "_78a29e72bef93aa00a52026f45889359_Week1AirlineSolution (1).xlsx\r\n",
      "_78a29e72bef93aa00a52026f45889359_Week1AirlineSolution.xlsx\r\n",
      "_78a29e72bef93aa00a52026f45889359_Week1AirlineTemplate.xlsx\r\n",
      "_78a29e72bef93aa00a52026f45889359_YellowstoneSolution.xlsx\r\n",
      "_78a29e72bef93aa00a52026f45889359_YellowstoneTemplate (1).xlsx\r\n",
      "_78a29e72bef93aa00a52026f45889359_YellowstoneTemplate.xlsx\r\n",
      "_b3889ccbb1838d67f69192b7c1786e68_Keystone.xlsx\r\n",
      "_b3889ccbb1838d67f69192b7c1786e68_Keystone_0.xlsx\r\n",
      "_b77b56949a652717dc0f06a2ae850bef_DataPlan10.xlsx\r\n",
      "_b77b56949a652717dc0f06a2ae850bef_DataPlan10test.xlsx\r\n",
      "_b77b56949a652717dc0f06a2ae850bef_DataPlan_0.xlsx\r\n",
      "_dac354520da23dfcd36e839fb64cd817_DemandData (1).xlsx\r\n",
      "_dac354520da23dfcd36e839fb64cd817_DemandData.xlsx\r\n",
      "_e0d3f3ad56e59ad202b1d77df88a674a_Zooter (1).xlsx\r\n",
      "_e0d3f3ad56e59ad202b1d77df88a674a_Zooter.xlsx\r\n",
      "_e5b2da9424f7c6f694451ace033b39bb_AF-ratios.xlsx\r\n",
      "_f3f2d0fdd0f19342011949be8605559a_Week1ErrorsSolution.xlsx\r\n",
      "_f3f2d0fdd0f19342011949be8605559a_Week1MASolution.xlsx\r\n",
      "_f3f2d0fdd0f19342011949be8605559a_Week1MATemplate (1).xlsx\r\n",
      "_f3f2d0fdd0f19342011949be8605559a_Week1MATemplate (2).xlsx\r\n",
      "_f3f2d0fdd0f19342011949be8605559a_Week1MATemplate.xlsx\r\n",
      "_psd_ipad-pro-mockup.zip\r\n",
      "address.json\r\n",
      "advertising_classification.csv\r\n",
      "android-studio-ide-181.5014246-mac.dmg\r\n",
      "animation-w1600-h1600.json\r\n",
      "animation.gif\r\n",
      "arrow-down-left.svg\r\n",
      "atom-mac.zip\r\n",
      "\u001b[34mbariol\u001b[m\u001b[m\r\n",
      "bariol (1).zip\r\n",
      "\u001b[34mbariol-regular (1)\u001b[m\u001b[m\r\n",
      "\u001b[34mbariol-regular (1) 2\u001b[m\u001b[m\r\n",
      "bariol-regular (1).zip\r\n",
      "bariol-regular.zip\r\n",
      "bariol.zip\r\n",
      "basic-form-elements-andrewcoyledesign.sketch\r\n",
      "basic-form-elements-andrewcoyledesign.zip\r\n",
      "best-offers.pptx\r\n",
      "best-offers_1524200833.pptx\r\n",
      "billing-utility-icon-set-gregor-cresnar.sketch\r\n",
      "billing-utility-icon-set-gregor-cresnar.zip\r\n",
      "bitrix24_desktop.dmg\r\n",
      "bootstrap-4-beta-2-library.zip\r\n",
      "\u001b[34mbootstrap-4.0.0\u001b[m\u001b[m\r\n",
      "\u001b[34mbootstrap-4.0.0-dist\u001b[m\u001b[m\r\n",
      "bootstrap-4.0.0-dist.zip\r\n",
      "bootstrap-4.0.0.zip\r\n",
      "\u001b[34mbootstrap-4.1.3-dist\u001b[m\u001b[m\r\n",
      "bootstrap-4.1.3-dist.zip\r\n",
      "bootstrap-4.1.3.zip\r\n",
      "bpa-swoosh_loansappian_left.png\r\n",
      "bpaicons.sketch\r\n",
      "bpaicons_1545106005.sketch\r\n",
      "calls july 1-9_3-9.xlsx\r\n",
      "\u001b[34mcamunda-modeler\u001b[m\u001b[m\r\n",
      "camunda-modeler-1.12.0-darwin-x64.tar.gz\r\n",
      "cashWithdrawReview.png\r\n",
      "\u001b[34mci-test-master\u001b[m\u001b[m\r\n",
      "ci-test-master (1).zip\r\n",
      "\u001b[34mci-test-master 2\u001b[m\u001b[m\r\n",
      "ci-test-master.zip\r\n",
      "clients-basic-user-flow (1).pptx\r\n",
      "\u001b[34mconditional\u001b[m\u001b[m\r\n",
      "conditional.zip\r\n",
      "contact.json\r\n",
      "crypto-dashboard-ui-carlos-han.sketch\r\n",
      "crypto-dashboard-ui-carlos-han.zip\r\n",
      "cryptonix-resh.zip\r\n",
      "css_sprites.png\r\n",
      "customer.json\r\n",
      "\u001b[34mdebut_light\u001b[m\u001b[m\r\n",
      "debut_light.zip\r\n",
      "diamonds.xls\r\n",
      "diamonds_regression.csv\r\n",
      "doctorisy.json\r\n",
      "dqs_transaction_status.xlsx\r\n",
      "dqs_transaction_status_1551861719.xlsx\r\n",
      "\u001b[34mdrive-download-20181029T032704Z-001\u001b[m\u001b[m\r\n",
      "drive-download-20181029T032704Z-001.zip\r\n",
      "\u001b[34mds-panel-dashboard\u001b[m\u001b[m\r\n",
      "ds-panel-dashboard.zip\r\n",
      "duet-2-0-3-6.zip\r\n",
      "\u001b[34mduet.app\u001b[m\u001b[m\r\n",
      "el.psd\r\n",
      "\u001b[34melegant-themes-icon-set\u001b[m\u001b[m\r\n",
      "elegant-themes-icon-set.zip\r\n",
      "eyetraker-style.sketch\r\n",
      "eyetraker-style.zip\r\n",
      "framer-modules-1.0.0.dmg\r\n",
      "framer-styleguide-iamtonybagels.zip\r\n",
      "\u001b[34mframes-for-sketch-demo-bunindmitry\u001b[m\u001b[m\r\n",
      "frames-for-sketch-demo-bunindmitry.zip\r\n",
      "free_iphonex_mockup (1).psd\r\n",
      "free_iphonex_mockup (1).sketch\r\n",
      "free_iphonex_mockup (2).psd\r\n",
      "free_iphonex_mockup (2).sketch\r\n",
      "free_iphonex_mockup.psd\r\n",
      "free_iphonex_mockup.sketch\r\n",
      "\u001b[34mfreest-ui-kit-frankparadiso\u001b[m\u001b[m\r\n",
      "freest-ui-kit-frankparadiso.zip\r\n",
      "grafician_icon_set 2.sketch\r\n",
      "grafician_icon_set.sketch\r\n",
      "grafician_icon_set.zip\r\n",
      "hand made wreaths.ai\r\n",
      "hand_made_wreaths_ai.zip\r\n",
      "helloworld.py\r\n",
      "home-application.json\r\n",
      "home-item.json\r\n",
      "iOS-12-AdobeXD (1).dmg\r\n",
      "iOS-12-AdobeXD (2).dmg\r\n",
      "iOS-12-AdobeXD.dmg\r\n",
      "iOS_Digital Account Opening Demo.mp4\r\n",
      "iPad iOS 10 GUI by Great Simple Studio v 2.2 2.sketch\r\n",
      "iPad iOS 10 GUI by Great Simple Studio v 2.2.sketch\r\n",
      "iPad iOS 10 GUI – Sketch (1).zip\r\n",
      "iPad iOS 10 GUI – Sketch.zip\r\n",
      "iPad-Clay-White-Landscape-Free-Mockup.psd\r\n",
      "iPhone 8 in Hand Mockup Free PSD.psd\r\n",
      "iPhone X viewport issues.png\r\n",
      "iPhone iOS 10 GUI by Great Simple Studio v 2.2.sketch\r\n",
      "iPhone iOS 10 GUI – Sketch.zip\r\n",
      "iPhone-8-Flat-Mockup-Free-PSD.psd\r\n",
      "iPhone-8-Flat-Mockup-Free-PSD.zip\r\n",
      "iPhone-8-in-Hand-Mockup-Free-PSD.zip\r\n",
      "icons_bills_payment30x30.zip\r\n",
      "identification.json\r\n",
      "inbox-file-manager-farianzum.sketch\r\n",
      "inbox-file-manager-farianzum.zip\r\n",
      "income-source.json\r\n",
      "index.html\r\n",
      "informatics-05-00008-v2.pdf\r\n",
      "ios-10-gui-facebook.zip\r\n",
      "ios-10-ipad-pro-gui-v1.1 (1).zip\r\n",
      "ios-10-ipad-pro-gui-v1.1.zip\r\n",
      "ipad-clay-white-landscape-free-mockup.psd (1).zip\r\n",
      "ipad-clay-white-landscape-free-mockup.psd.zip\r\n",
      "ipad-pro-mockup-worawaluns (1).zip\r\n",
      "ipad-pro-mockup-worawaluns 2.sketch\r\n",
      "ipad-pro-mockup-worawaluns.sketch\r\n",
      "ipad-pro-mockup-worawaluns.zip\r\n",
      "ipad-pro-mockup.psd\r\n",
      "\u001b[34mipadisometricscreenmockup\u001b[m\u001b[m\r\n",
      "ipadisometricscreenmockup.zip\r\n",
      "\u001b[34miphone&ipad\u001b[m\u001b[m\r\n",
      "iphone&ipad.zip\r\n",
      "iphone-x-afigith-mock-up-02.psd\r\n",
      "iphone-x-mockup-rifayet-uday.sketch\r\n",
      "iphone-x-mockup-rifayet-uday.zip\r\n",
      "iphonex-mockup.sketch\r\n",
      "itom-it-automation-robotic-process-automation-generic-blog-robot-map-1920x744_0 (1).gif\r\n",
      "itom-it-automation-robotic-process-automation-generic-blog-robot-map-1920x744_0.gif\r\n",
      "jersey-kent.jpg\r\n",
      "jersey-kent.psd\r\n",
      "jersey-kent_v3.jpg\r\n",
      "jersey-kent_v4.jpg\r\n",
      "jersey-kent_v4.psd\r\n",
      "jira-users.csv\r\n",
      "\u001b[34mjupyterlab-master\u001b[m\u001b[m\r\n",
      "jupyterlab-master.zip\r\n",
      "logo-red (1) (1).eps\r\n",
      "logo-red (1) (2).eps\r\n",
      "logo-red (1) (3).eps\r\n",
      "logo-red (1) (4).eps\r\n",
      "logo-red (1).eps\r\n",
      "mac-ip110-1_5-mcd (1).dmg\r\n",
      "mac-ip110-1_5-mcd.dmg\r\n",
      "mac-latest.dmg\r\n",
      "macbook_.sketch\r\n",
      "mandatory fields CIF creation.xlsx\r\n",
      "\u001b[34mmax\u001b[m\u001b[m\r\n",
      "max.zip\r\n",
      "\u001b[34mmodennta\u001b[m\u001b[m\r\n",
      "modennta.zip\r\n",
      "money-finance-icon-set-gregor-cresnar (1).zip\r\n",
      "money-finance-icon-set-gregor-cresnar 2.sketch\r\n",
      "money-finance-icon-set-gregor-cresnar.sketch\r\n",
      "money-finance-icon-set-gregor-cresnar.zip\r\n",
      "ojdbc6.jar\r\n",
      "ojdbc6.jar.cpgz\r\n",
      "onboarding1-Dashboard.png\r\n",
      "onboarding2-NewTrip.png\r\n",
      "onboarding3-SelectPlanets.png\r\n",
      "onboarding4-TripDetails.png\r\n",
      "output_HD720 (1).mp4\r\n",
      "output_HD720.mp4\r\n",
      "output_free.mp4\r\n",
      "outsys_users_no_role.xlsx\r\n",
      "page1.jpg\r\n",
      "page2.jpg\r\n",
      "passport (1).jpg\r\n",
      "passport.jpg\r\n",
      "person.json\r\n",
      "pngtree-fashion-cartoon-lovely-birthday-party-poster-background-image_1305.jpg\r\n",
      "pngtree-happy-birthday-simple-cartoon-cute-poster-background-image_1296.jpg\r\n",
      "project.zip\r\n",
      "proxima-nova-alt-light-webfont.ttf\r\n",
      "proxima-nova-alt-lt.zip\r\n",
      "\u001b[34mproxima-nova-web-fonts-master\u001b[m\u001b[m\r\n",
      "proxima-nova-web-fonts-master.zip\r\n",
      "proximanovalight.zip\r\n",
      "python-3.7.4-macosx10.9 (1).pkg\r\n",
      "python-3.7.4-macosx10.9 (2).pkg\r\n",
      "python-3.7.4-macosx10.9.pkg\r\n",
      "sample_link.txt\r\n",
      "savingOpeningExisting (1).png\r\n",
      "savingOpeningExisting.png\r\n",
      "sea-games.xlsx\r\n",
      "second-hand-vehicles-20180404.pdf\r\n",
      "sketch-49.3-51167.zip\r\n",
      "\u001b[34msketch2ae-master\u001b[m\u001b[m\r\n",
      "sketch2ae-master.zip\r\n",
      "\u001b[34msneakpeekit-2-mobiles\u001b[m\u001b[m\r\n",
      "sneakpeekit-2-mobiles.zip\r\n",
      "sneakpeekit-4-mobiles.zip\r\n",
      "\u001b[34msneakpeekit-4-tablets\u001b[m\u001b[m\r\n",
      "sneakpeekit-4-tablets.zip\r\n",
      "\u001b[34msneakpeekit-browser\u001b[m\u001b[m\r\n",
      "sneakpeekit-browser (1).zip\r\n",
      "sneakpeekit-browser.zip\r\n",
      "\u001b[34msneakpeekit-precision-grid\u001b[m\u001b[m\r\n",
      "sneakpeekit-precision-grid.zip\r\n",
      "sneakpeekit-tablet.zip\r\n",
      "stack-ui-kit-louis-moody.zip\r\n",
      "\u001b[34mstyle-guide-template\u001b[m\u001b[m\r\n",
      "style-guide-template.zip\r\n",
      "\u001b[34mstyleguide-master\u001b[m\u001b[m\r\n",
      "styleguide-master (1).zip\r\n",
      "\u001b[34mstyleguide-master 2\u001b[m\u001b[m\r\n",
      "styleguide-master.zip\r\n",
      "styleguide.sketch\r\n",
      "subtitle.txt\r\n",
      "swype.xd\r\n",
      "\u001b[34msync-to-slides.sketchplugin\u001b[m\u001b[m\r\n",
      "sync-to-slides.v.2.2.zip\r\n",
      "themeforest-14147485-quark-single-product-ecommerce-theme.zip\r\n",
      "\u001b[34mthemeforest-20219544-appy-app-landing-page (1)\u001b[m\u001b[m\r\n",
      "themeforest-20219544-appy-app-landing-page (1).zip\r\n",
      "themeforest-20219544-appy-app-landing-page.zip\r\n",
      "themeforest-20542122-matex-admin-material-bootstrap-4-dashboard-template.zip\r\n",
      "\u001b[34mthemeforest-7881785-one-click-parallax-one-page-html-template\u001b[m\u001b[m\r\n",
      "themeforest-7881785-one-click-parallax-one-page-html-template.zip\r\n",
      "tin (1).jpg\r\n",
      "tin.jpg\r\n",
      "transactionGroupingBasic.png\r\n",
      "\u001b[34mub-loader\u001b[m\u001b[m\r\n",
      "\u001b[34mub-loader (1)\u001b[m\u001b[m\r\n",
      "\u001b[34mub-loader (1) 2\u001b[m\u001b[m\r\n",
      "ub-loader (1).zip\r\n",
      "ub-loader (2).zip\r\n",
      "ub-loader.gif\r\n",
      "ub-loader.zip\r\n",
      "ucpb-foreclosed-properties-for-sale-as-of-june-2016.pdf\r\n",
      "unionbankonline (1).gif\r\n",
      "unionbankonline.gif\r\n",
      "user-interface-basic-icons-cresnar.sketch\r\n",
      "user-interface-basic-icons-cresnar.zip\r\n",
      "ux-intel_logo_series1.png\r\n",
      "visaDebitToAccount.png\r\n",
      "visa_application_form(15.06.15.) (1).pdf\r\n",
      "visa_application_form(15.06.15.).pdf\r\n",
      "website-administration-ui-kit 2.sketch\r\n",
      "website-administration-ui-kit.sketch\r\n",
      "website-administration-ui-kit.zip\r\n",
      "wechat-ui-kit.zip\r\n",
      "zoomusInstaller.pkg\r\n",
      "~$20140407 Offering Movilidad EN.pptx\r\n",
      "~$2017-0726 For checking in DB.xlsx\r\n",
      "~$2017.12.15 - Agreement for Consultancy - Edwin Lacap.docx\r\n",
      "~$2087-01-ribbon-diagram-for-powerpoint.pptx\r\n",
      "~$3D0070-roadmap-city-powerpoint-template-16x9.pptx\r\n",
      "~$ATM Availability_v2.pptx\r\n",
      "~$ATM Dashboard SP1.pptx\r\n",
      "~$ATM LIST AS OF 07202018.xlsx\r\n",
      "~$BPA Part.pptx\r\n",
      "~$BSP_Outsystems_Presentation.pptx\r\n",
      "~$CPA reach by partner.xlsx\r\n",
      "~$CTOO - Board 02-23-18-2 - internal.pptx\r\n",
      "~$DL.pptx\r\n",
      "~$ECM Roadmap_d201512 v4.pptx\r\n",
      "~$FF0037-01-circular-diagram-concept.pptx\r\n",
      "~$Filter List.pptx\r\n",
      "~$July 24 EOD report.pptx\r\n",
      "~$KPI WIP v3.xlsx\r\n",
      "~$MAX Roadmap.pptx\r\n",
      "~$MealVista Mock Ups.pptx\r\n",
      "~$OFFICIAL_COST_BREAKDOWN.xlsx\r\n",
      "~$Official_devices_from_Google_Analytics.xlsx\r\n",
      "~$SharePoint  v1.0.pptx\r\n",
      "~$Sharepoint.pptx\r\n",
      "~$Sharepoint2.pptx\r\n",
      "~$Tickets_20170904.xlsx\r\n",
      "~$Tickets_official_count_20170904.xlsx\r\n",
      "~$User Transactions.xlsx\r\n",
      "~$Users table.xlsx\r\n",
      "~$Workshop_BPA_v2.pptx\r\n",
      "~$data (1).xlsx\r\n",
      "~$data (11).xlsx\r\n",
      "~$data (12).xlsx\r\n",
      "~$data (13).xlsx\r\n",
      "~$data (14).xlsx\r\n",
      "~$data (18).xlsx\r\n",
      "~$data (19).xlsx\r\n",
      "~$data (20).xlsx\r\n",
      "~$data (21).xlsx\r\n",
      "~$data (22).xlsx\r\n",
      "~$data (23).xlsx\r\n",
      "~$data (25).xlsx\r\n",
      "~$data (28).xlsx\r\n",
      "~$data (7).xlsx\r\n",
      "~$data (8).xlsx\r\n",
      "~$device id.xlsx\r\n",
      "~$device_ids.xlsx\r\n",
      "~$dqs_transaction_status.xlsx\r\n",
      "~$dqs_transaction_status_1551861719.xlsx\r\n",
      "~$midrinks.xlsx\r\n",
      "~$pendix B - Goals.docx\r\n",
      "사증발급신청서('18.06.12. 개정, 한영문) (2) (1).pdf\r\n",
      "사증발급신청서('18.06.12. 개정, 한영문) (2).pdf\r\n"
     ]
    }
   ],
   "source": [
    "!ls"
   ]
  },
  {
   "cell_type": "markdown",
   "metadata": {},
   "source": [
    "#### `cat` command\n",
    "Displays the contents of a file to screen. `Cat` is short for con**cat**enate."
   ]
  },
  {
   "cell_type": "raw",
   "metadata": {},
   "source": [
    "!cat words.txt"
   ]
  },
  {
   "cell_type": "raw",
   "metadata": {},
   "source": [
    "!cat words.py"
   ]
  },
  {
   "cell_type": "markdown",
   "metadata": {},
   "source": [
    "## Magic Commands \n",
    "Running Jupyter with a python kernel allows you to use Magic commands that allows you to do many useful things."
   ]
  },
  {
   "cell_type": "markdown",
   "metadata": {},
   "source": [
    "#### load\n",
    "Load magic allows you to load the contents of a file to a cell"
   ]
  },
  {
   "cell_type": "code",
   "execution_count": null,
   "metadata": {},
   "outputs": [],
   "source": [
    "# %load words.py\n",
    "name = input('Enter file:')\n",
    "handle = open(name, 'r')\n",
    "counts = dict()\n",
    "\n",
    "for line in handle:\n",
    "    words = line.split()\n",
    "    for word in words:\n",
    "        counts[word] = counts.get(word, 0) + 1\n",
    "\n",
    "bigcount = None\n",
    "bigword = None\n",
    "for word, count in list(counts.items()):\n",
    "    if bigcount is None or count > bigcount:\n",
    "        bigword = word\n",
    "        bigcount = count\n",
    "\n",
    "print(bigword, bigcount)\n"
   ]
  },
  {
   "cell_type": "markdown",
   "metadata": {},
   "source": [
    "#### writefile\n",
    "Write the contents of a cell to a file"
   ]
  },
  {
   "cell_type": "code",
   "execution_count": 15,
   "metadata": {},
   "outputs": [
    {
     "name": "stdout",
     "output_type": "stream",
     "text": [
      "Writing helloworld.py\n"
     ]
    }
   ],
   "source": [
    "%%writefile helloworld.py\n",
    "rprint('Hello world!')"
   ]
  },
  {
   "cell_type": "markdown",
   "metadata": {},
   "source": [
    "Let's check if the file is written:"
   ]
  },
  {
   "cell_type": "code",
   "execution_count": 16,
   "metadata": {},
   "outputs": [
    {
     "name": "stdout",
     "output_type": "stream",
     "text": [
      "rprint('Hello world!')\r\n"
     ]
    }
   ],
   "source": [
    "# Run this cell if you're using Mac or Linux\n",
    "!cat helloworld.py"
   ]
  },
  {
   "cell_type": "raw",
   "metadata": {},
   "source": [
    "# Run this cell if you're using Windows\n",
    "!type helloworld.py"
   ]
  },
  {
   "cell_type": "markdown",
   "metadata": {},
   "source": [
    "#### run\n",
    "Runs a python script or jupyter notebook and display the contents."
   ]
  },
  {
   "cell_type": "code",
   "execution_count": 17,
   "metadata": {},
   "outputs": [
    {
     "ename": "NameError",
     "evalue": "name 'rprint' is not defined",
     "output_type": "error",
     "traceback": [
      "\u001b[0;31m---------------------------------------------------------------------------\u001b[0m",
      "\u001b[0;31mNameError\u001b[0m                                 Traceback (most recent call last)",
      "\u001b[0;32m~/Downloads/helloworld.py\u001b[0m in \u001b[0;36m<module>\u001b[0;34m\u001b[0m\n\u001b[0;32m----> 1\u001b[0;31m \u001b[0mrprint\u001b[0m\u001b[0;34m(\u001b[0m\u001b[0;34m'Hello world!'\u001b[0m\u001b[0;34m)\u001b[0m\u001b[0;34m\u001b[0m\u001b[0;34m\u001b[0m\u001b[0m\n\u001b[0m",
      "\u001b[0;31mNameError\u001b[0m: name 'rprint' is not defined"
     ]
    }
   ],
   "source": [
    "%run helloworld.py"
   ]
  },
  {
   "cell_type": "raw",
   "metadata": {},
   "source": [
    "%run simple_expressions.ipynb"
   ]
  },
  {
   "cell_type": "markdown",
   "metadata": {},
   "source": [
    "#### who\n",
    "Displays a list of in-use variables "
   ]
  },
  {
   "cell_type": "raw",
   "metadata": {},
   "source": [
    "%who"
   ]
  },
  {
   "cell_type": "markdown",
   "metadata": {},
   "source": [
    "[TABLE OF CONTENTS](#contents)"
   ]
  },
  {
   "cell_type": "markdown",
   "metadata": {},
   "source": [
    "<a id='chapter1'></a>"
   ]
  },
  {
   "cell_type": "markdown",
   "metadata": {},
   "source": [
    "# CHAPTER 1 - Introduction"
   ]
  },
  {
   "cell_type": "markdown",
   "metadata": {},
   "source": [
    "Execute the code the code below. [あ]"
   ]
  },
  {
   "cell_type": "code",
   "execution_count": 3,
   "metadata": {
    "scrolled": true
   },
   "outputs": [
    {
     "name": "stdout",
     "output_type": "stream",
     "text": [
      "Hello world!\n"
     ]
    }
   ],
   "source": [
    "print('Hello world!')"
   ]
  },
  {
   "cell_type": "code",
   "execution_count": 4,
   "metadata": {},
   "outputs": [
    {
     "name": "stdout",
     "output_type": "stream",
     "text": [
      "6\n"
     ]
    }
   ],
   "source": [
    "x = 6\n",
    "print(x)"
   ]
  },
  {
   "cell_type": "code",
   "execution_count": 5,
   "metadata": {},
   "outputs": [
    {
     "name": "stdout",
     "output_type": "stream",
     "text": [
      "42\n"
     ]
    }
   ],
   "source": [
    "y = x * 7\n",
    "print(y)"
   ]
  },
  {
   "cell_type": "markdown",
   "metadata": {},
   "source": [
    "In Jupyter (and in the Python interpreter) you can inspect the value of a variable by simply typing its name. [あ]"
   ]
  },
  {
   "cell_type": "code",
   "execution_count": 9,
   "metadata": {},
   "outputs": [
    {
     "data": {
      "text/plain": [
       "42"
      ]
     },
     "execution_count": 9,
     "metadata": {},
     "output_type": "execute_result"
    }
   ],
   "source": [
    "y"
   ]
  },
  {
   "cell_type": "markdown",
   "metadata": {},
   "source": [
    "Execute the code below; no need to re-type it. Type `words.text` when prompted for a file [あ]"
   ]
  },
  {
   "cell_type": "code",
   "execution_count": 12,
   "metadata": {},
   "outputs": [
    {
     "name": "stdout",
     "output_type": "stream",
     "text": [
      "Enter file:words.text\n"
     ]
    },
    {
     "ename": "FileNotFoundError",
     "evalue": "[Errno 2] No such file or directory: 'words.text'",
     "output_type": "error",
     "traceback": [
      "\u001b[0;31m---------------------------------------------------------------------------\u001b[0m",
      "\u001b[0;31mFileNotFoundError\u001b[0m                         Traceback (most recent call last)",
      "\u001b[0;32m<ipython-input-12-5fd603ea6e5d>\u001b[0m in \u001b[0;36m<module>\u001b[0;34m\u001b[0m\n\u001b[1;32m      1\u001b[0m \u001b[0mname\u001b[0m \u001b[0;34m=\u001b[0m \u001b[0minput\u001b[0m\u001b[0;34m(\u001b[0m\u001b[0;34m'Enter file:'\u001b[0m\u001b[0;34m)\u001b[0m\u001b[0;34m\u001b[0m\u001b[0;34m\u001b[0m\u001b[0m\n\u001b[0;32m----> 2\u001b[0;31m \u001b[0mhandle\u001b[0m \u001b[0;34m=\u001b[0m \u001b[0mopen\u001b[0m\u001b[0;34m(\u001b[0m\u001b[0mname\u001b[0m\u001b[0;34m,\u001b[0m \u001b[0;34m'r'\u001b[0m\u001b[0;34m)\u001b[0m\u001b[0;34m\u001b[0m\u001b[0;34m\u001b[0m\u001b[0m\n\u001b[0m\u001b[1;32m      3\u001b[0m \u001b[0mcounts\u001b[0m \u001b[0;34m=\u001b[0m \u001b[0mdict\u001b[0m\u001b[0;34m(\u001b[0m\u001b[0;34m)\u001b[0m\u001b[0;34m\u001b[0m\u001b[0;34m\u001b[0m\u001b[0m\n\u001b[1;32m      4\u001b[0m \u001b[0;34m\u001b[0m\u001b[0m\n\u001b[1;32m      5\u001b[0m \u001b[0;32mfor\u001b[0m \u001b[0mline\u001b[0m \u001b[0;32min\u001b[0m \u001b[0mhandle\u001b[0m\u001b[0;34m:\u001b[0m\u001b[0;34m\u001b[0m\u001b[0;34m\u001b[0m\u001b[0m\n",
      "\u001b[0;31mFileNotFoundError\u001b[0m: [Errno 2] No such file or directory: 'words.text'"
     ]
    }
   ],
   "source": [
    "name = input('Enter file:')\n",
    "handle = open(name, 'r')\n",
    "counts = dict()\n",
    "\n",
    "for line in handle:\n",
    "    words = line.split()\n",
    "    for word in words:\n",
    "        counts[word] = counts.get(word, 0) + 1\n",
    "\n",
    "bigcount = None\n",
    "bigword = None\n",
    "for word, count in list(counts.items()):\n",
    "    if bigcount is None or count > bigcount:\n",
    "        bigword = word\n",
    "        bigcount = count\n",
    "\n",
    "print(bigword, bigcount)\n",
    "\n",
    "# Code: http://www.py4e.com/code3/words.py"
   ]
  },
  {
   "cell_type": "markdown",
   "metadata": {},
   "source": [
    "##  Whitespaces\n",
    "The non-printing characters space and tab are called whitespaces. Python interprets whitespaces in the following way:\n",
    "* whitespaces **after** the first visible character: These are ignored by python. \n",
    "    * Use whitespaces to make your code readable.\n",
    "* whitespaces **before** the first visible character (or indentation whitespaces): have a special meaning in python.  Specifically, it tells python how to group certain lines of code together.\n",
    "    * Be careful in mixing spaces and tabs as this could confuse you (and python) what you are really trying to do.\n",
    "    * If you are using a text editor or an Integrated Development Environment, use one with an option to convert Tabs to Spaces. Spyder has that feature. (More on these below).\n",
    "   \n",
    "<br>[あ]"
   ]
  },
  {
   "cell_type": "markdown",
   "metadata": {},
   "source": [
    "##  Code Comments\n",
    "Comments in python are indicated by the `#` character. Python ignores anything written **after** the `#` character. \n",
    "\n",
    "You can use code comments to \n",
    "* Explain the important or difficult parts of your program\n",
    "* Temporarily disable parts of your program\n",
    "\n",
    "<br>[あ] "
   ]
  },
  {
   "cell_type": "raw",
   "metadata": {},
   "source": [
    "#The code below will not be executed\n",
    "#print('Hello World')\n",
    "\n",
    "#あ"
   ]
  },
  {
   "cell_type": "markdown",
   "metadata": {},
   "source": [
    "You can use code comments to \n",
    "* Explain the important or difficult parts of your program\n",
    "* Temporarily disable parts of your program\n",
    "<br>[あ] "
   ]
  },
  {
   "cell_type": "raw",
   "metadata": {},
   "source": [
    "# The text below tries to explain what the code is doing\n",
    "# Tell python to say \"Hello world\" in Japanese (romaji)\n",
    "print('Sekai konnichiwa!')   \n",
    "\n",
    "#あ"
   ]
  },
  {
   "cell_type": "raw",
   "metadata": {},
   "source": [
    "#The code below will only greet in English\n",
    "print('Hello World!') \n",
    "#print('Sekai konnichiwa!')\n",
    "\n",
    "#あ"
   ]
  },
  {
   "cell_type": "markdown",
   "metadata": {},
   "source": [
    "## EXERCISES"
   ]
  },
  {
   "cell_type": "markdown",
   "metadata": {},
   "source": [
    "#### Exercise 1\n",
    "\n",
    "Each line of code below contains an error. Fix the error and explain in a comment the reason for the error.[あ]"
   ]
  },
  {
   "cell_type": "code",
   "execution_count": 20,
   "metadata": {},
   "outputs": [
    {
     "name": "stdout",
     "output_type": "stream",
     "text": [
      "Hello world!\n"
     ]
    }
   ],
   "source": [
    "print('Hello world!')\n",
    "#Case sensitive. Made letter \"P\" lowercase"
   ]
  },
  {
   "cell_type": "code",
   "execution_count": 22,
   "metadata": {},
   "outputs": [
    {
     "name": "stdout",
     "output_type": "stream",
     "text": [
      "Hello world!\n"
     ]
    }
   ],
   "source": [
    "print('Hello world!')\n",
    "#Missing open parenthesis"
   ]
  },
  {
   "cell_type": "code",
   "execution_count": 26,
   "metadata": {},
   "outputs": [
    {
     "name": "stdout",
     "output_type": "stream",
     "text": [
      "Hello world!\n"
     ]
    }
   ],
   "source": [
    "print('Hello world!')\n",
    "#Missing single quote"
   ]
  },
  {
   "cell_type": "code",
   "execution_count": 27,
   "metadata": {},
   "outputs": [
    {
     "name": "stdout",
     "output_type": "stream",
     "text": [
      "Hello world!\n"
     ]
    }
   ],
   "source": [
    "print('Hello world!')\n",
    "#There was an extra single quote at the end part of the String"
   ]
  },
  {
   "cell_type": "markdown",
   "metadata": {},
   "source": [
    "#### Exercise 2 \n",
    "What is the output of the code below? [PEW]"
   ]
  },
  {
   "cell_type": "code",
   "execution_count": 28,
   "metadata": {},
   "outputs": [
    {
     "name": "stdout",
     "output_type": "stream",
     "text": [
      "44\n"
     ]
    }
   ],
   "source": [
    "x = 43\n",
    "x = x + 1\n",
    "print(x)\n",
    "#Output is 44 because that was the most recent variable that was read by the program."
   ]
  },
  {
   "cell_type": "markdown",
   "metadata": {},
   "source": [
    "#### Exercise 3\n",
    "The code below contains an error. Fix the error and explain in a comment the reason for the error.[あ]"
   ]
  },
  {
   "cell_type": "code",
   "execution_count": 33,
   "metadata": {},
   "outputs": [
    {
     "name": "stdout",
     "output_type": "stream",
     "text": [
      "44\n"
     ]
    }
   ],
   "source": [
    "x = 43\n",
    "x = x + 1\n",
    "print(x)\n",
    "# Case sensitive. So I change dthe variable \"X\" to \"x\""
   ]
  },
  {
   "cell_type": "markdown",
   "metadata": {},
   "source": [
    "[TABLE OF CONTENTS](#contents)"
   ]
  },
  {
   "cell_type": "markdown",
   "metadata": {},
   "source": [
    "<a id='chapter2'></a>"
   ]
  },
  {
   "cell_type": "markdown",
   "metadata": {},
   "source": [
    "# CHAPTER 2 - Variables, Expressions, and Statements"
   ]
  },
  {
   "cell_type": "markdown",
   "metadata": {},
   "source": [
    "##  Values or Literals"
   ]
  },
  {
   "cell_type": "markdown",
   "metadata": {},
   "source": [
    "A **value** is one of the basic things a program works with, like a letter or a number.  The values we have seen so far are `1`, `2`, and `\"Hello, World!\"`"
   ]
  },
  {
   "cell_type": "markdown",
   "metadata": {},
   "source": [
    "Another name for values are **literals**. [あ] "
   ]
  },
  {
   "cell_type": "raw",
   "metadata": {},
   "source": [
    "2"
   ]
  },
  {
   "cell_type": "raw",
   "metadata": {},
   "source": [
    "print(2)"
   ]
  },
  {
   "cell_type": "raw",
   "metadata": {},
   "source": [
    "'Hello world!'"
   ]
  },
  {
   "cell_type": "raw",
   "metadata": {},
   "source": [
    "print('Hello World')"
   ]
  },
  {
   "cell_type": "markdown",
   "metadata": {},
   "source": [
    "##  Types "
   ]
  },
  {
   "cell_type": "markdown",
   "metadata": {},
   "source": [
    "Values belong to different **types**: `2` is an **integer**, and `\"Hello, World!\"` is a **string**, so called because it contains a \"string\" of letters. You (and the interpreter) can identify strings because they are enclosed in quotation marks."
   ]
  },
  {
   "cell_type": "markdown",
   "metadata": {},
   "source": [
    "Python strings can be enclosed in single quote(`'`) or double quotes (`\"`). The back quote (the character that shares the key with tilde `~`) cannot be used to identify strings. [あ] "
   ]
  },
  {
   "cell_type": "code",
   "execution_count": 1,
   "metadata": {},
   "outputs": [
    {
     "data": {
      "text/plain": [
       "int"
      ]
     },
     "execution_count": 1,
     "metadata": {},
     "output_type": "execute_result"
    }
   ],
   "source": [
    "type(2)"
   ]
  },
  {
   "cell_type": "code",
   "execution_count": 2,
   "metadata": {},
   "outputs": [
    {
     "data": {
      "text/plain": [
       "str"
      ]
     },
     "execution_count": 2,
     "metadata": {},
     "output_type": "execute_result"
    }
   ],
   "source": [
    "type('Hello, World!')"
   ]
  },
  {
   "cell_type": "code",
   "execution_count": 13,
   "metadata": {},
   "outputs": [
    {
     "data": {
      "text/plain": [
       "int"
      ]
     },
     "execution_count": 13,
     "metadata": {},
     "output_type": "execute_result"
    }
   ],
   "source": [
    "type(100000)"
   ]
  },
  {
   "cell_type": "code",
   "execution_count": 4,
   "metadata": {},
   "outputs": [
    {
     "data": {
      "text/plain": [
       "str"
      ]
     },
     "execution_count": 4,
     "metadata": {},
     "output_type": "execute_result"
    }
   ],
   "source": [
    "type('17')"
   ]
  },
  {
   "cell_type": "code",
   "execution_count": 5,
   "metadata": {},
   "outputs": [
    {
     "data": {
      "text/plain": [
       "str"
      ]
     },
     "execution_count": 5,
     "metadata": {},
     "output_type": "execute_result"
    }
   ],
   "source": [
    "type('3.2')"
   ]
  },
  {
   "cell_type": "markdown",
   "metadata": {},
   "source": [
    "When you type a large integer, you might be tempted to use commas between groups of three digits, as in 1,000,000. This is not a legal integer in Python, but the code below is legal :"
   ]
  },
  {
   "cell_type": "code",
   "execution_count": 32,
   "metadata": {},
   "outputs": [
    {
     "name": "stdout",
     "output_type": "stream",
     "text": [
      "10,000,000\n"
     ]
    }
   ],
   "source": [
    "m = 10000000\n",
    "m = format(m, ',d')\n",
    "print(m)"
   ]
  },
  {
   "cell_type": "markdown",
   "metadata": {},
   "source": [
    "## Reserved Words"
   ]
  },
  {
   "cell_type": "markdown",
   "metadata": {},
   "source": [
    "These are words that have very special meaning to Python. When Python sees these words in a Python program, they have one and only one meaning to Python. You cannot use any of Python's reserved words as a name for a variable."
   ]
  },
  {
   "cell_type": "markdown",
   "metadata": {},
   "source": [
    "    and       del       global      not       with\n",
    "    as        elif      if          or        yield\n",
    "    assert    else      import      pass\n",
    "    break     except    in          raise\n",
    "    class     finally   is          return\n",
    "    continue  for       lambda      try\n",
    "    def       from      nonlocal    while"
   ]
  },
  {
   "cell_type": "markdown",
   "metadata": {},
   "source": [
    "You cannot use reserved words as names for variables and functions. (More on these below)"
   ]
  },
  {
   "cell_type": "markdown",
   "metadata": {},
   "source": [
    "The following code cells will produce an error. [あ] "
   ]
  },
  {
   "cell_type": "raw",
   "metadata": {},
   "source": [
    "class = 2121"
   ]
  },
  {
   "cell_type": "raw",
   "metadata": {},
   "source": [
    "elif = 'Legolas'"
   ]
  },
  {
   "cell_type": "markdown",
   "metadata": {},
   "source": [
    "## Variable Names"
   ]
  },
  {
   "cell_type": "markdown",
   "metadata": {},
   "source": [
    "A variable is a named place in the memory where a programmer can store data and later retrieve the data using the variable “name”."
   ]
  },
  {
   "cell_type": "raw",
   "metadata": {},
   "source": [
    "x = 12.2\n",
    "print(x)"
   ]
  },
  {
   "cell_type": "raw",
   "metadata": {},
   "source": [
    "y = 14\n",
    "y"
   ]
  },
  {
   "cell_type": "markdown",
   "metadata": {},
   "source": [
    "You can change the contents of a variable in a later statement."
   ]
  },
  {
   "cell_type": "raw",
   "metadata": {},
   "source": [
    "x = 100\n",
    "x"
   ]
  },
  {
   "cell_type": "markdown",
   "metadata": {},
   "source": [
    "### Python Variable Name Rules"
   ]
  },
  {
   "cell_type": "markdown",
   "metadata": {},
   "source": [
    "- Must start with a letter or underscore (`_`) \n",
    "- Must consist of letters, numbers, and underscores\n",
    "- Are case-sensitive"
   ]
  },
  {
   "cell_type": "markdown",
   "metadata": {},
   "source": [
    "    Good:      spam    eggs   spam23    _speed\n",
    "    Bad:       23spam  #sign  var.12\n",
    "    Different: spam    Spam   SPAM"
   ]
  },
  {
   "cell_type": "markdown",
   "metadata": {},
   "source": [
    "The code below is perfectly valid, although very confusing because of the variable names given. [あ]"
   ]
  },
  {
   "cell_type": "raw",
   "metadata": {},
   "source": [
    "x1q3z9ocd = 35.0 \n",
    "x1q3z9afd = 12.50\n",
    "x1q3p9afd = x1q3z9ocd * x1q3z9afd\n",
    "print(x1q3p9afd)"
   ]
  },
  {
   "cell_type": "markdown",
   "metadata": {},
   "source": [
    "This one is much easier to understand. [あ]"
   ]
  },
  {
   "cell_type": "raw",
   "metadata": {},
   "source": [
    "a = 35.0 \n",
    "b = 12.50 \n",
    "c = a * b \n",
    "print(c)"
   ]
  },
  {
   "cell_type": "markdown",
   "metadata": {},
   "source": [
    "Better still, use meaningful variable names. [あ]"
   ]
  },
  {
   "cell_type": "raw",
   "metadata": {},
   "source": [
    "hours = 35.0 \n",
    "rate = 12.50 \n",
    "pay = hours * rate \n",
    "print(pay)"
   ]
  },
  {
   "cell_type": "markdown",
   "metadata": {},
   "source": [
    "The Python convention is to use **lowercase** for variable names. **underscores** are used to make long variable names more readable. [あ]"
   ]
  },
  {
   "cell_type": "markdown",
   "metadata": {},
   "source": [
    "## Statements and Expressions"
   ]
  },
  {
   "cell_type": "markdown",
   "metadata": {},
   "source": [
    "#### Statements\n",
    "Statements contain a complete instruction that Python can execute. They are equivalent to a sentences in a human language.\n",
    "\n",
    "####  Expressions\n",
    "Expressions are a combination of variables, literals and operators.  The python interpreter can understand what they mean, but they do not give a complete instruction. Expressions are used in statements. They are equivalent to a phrases in a human language.\n",
    "\n",
    "[あ]"
   ]
  },
  {
   "cell_type": "markdown",
   "metadata": {},
   "source": [
    "If you type an expression in the python interpreter python evaluates it and displays the result."
   ]
  },
  {
   "cell_type": "markdown",
   "metadata": {},
   "source": [
    "Try typing the following statements to see what they do"
   ]
  },
  {
   "cell_type": "code",
   "execution_count": 35,
   "metadata": {},
   "outputs": [
    {
     "data": {
      "text/plain": [
       "5"
      ]
     },
     "execution_count": 35,
     "metadata": {},
     "output_type": "execute_result"
    }
   ],
   "source": [
    "5"
   ]
  },
  {
   "cell_type": "code",
   "execution_count": 36,
   "metadata": {},
   "outputs": [],
   "source": [
    "x = 5"
   ]
  },
  {
   "cell_type": "markdown",
   "metadata": {},
   "source": [
    "But in a script, an expression all by itself doesn't do anything! This is a common source of confusion for beginners.  "
   ]
  },
  {
   "cell_type": "markdown",
   "metadata": {},
   "source": [
    "Expressions have to be part of a statement to accomplish something useful. [あ]"
   ]
  },
  {
   "cell_type": "markdown",
   "metadata": {},
   "source": [
    "#### Assignment Statements"
   ]
  },
  {
   "cell_type": "markdown",
   "metadata": {},
   "source": [
    "- We assign a value to a variable using the assignment statement (`=`)\n",
    "- An assignment statement consists of an expression on the right-hand side and a variable to store the result"
   ]
  },
  {
   "cell_type": "markdown",
   "metadata": {},
   "source": [
    "#### Assignment statement"
   ]
  },
  {
   "cell_type": "code",
   "execution_count": 37,
   "metadata": {},
   "outputs": [
    {
     "data": {
      "text/plain": [
       "0.6"
      ]
     },
     "execution_count": 37,
     "metadata": {},
     "output_type": "execute_result"
    }
   ],
   "source": [
    "x = 0.6\n",
    "x"
   ]
  },
  {
   "cell_type": "markdown",
   "metadata": {},
   "source": [
    "#### Assignment statement with an expression"
   ]
  },
  {
   "cell_type": "code",
   "execution_count": 38,
   "metadata": {},
   "outputs": [
    {
     "data": {
      "text/plain": [
       "0.9359999999999999"
      ]
     },
     "execution_count": 38,
     "metadata": {},
     "output_type": "execute_result"
    }
   ],
   "source": [
    "x = 3.9 *  x  * ( 1  -  x )\n",
    "x"
   ]
  },
  {
   "cell_type": "markdown",
   "metadata": {},
   "source": [
    "####  Statement with a function"
   ]
  },
  {
   "cell_type": "code",
   "execution_count": 39,
   "metadata": {},
   "outputs": [
    {
     "name": "stdout",
     "output_type": "stream",
     "text": [
      "0.9359999999999999\n"
     ]
    }
   ],
   "source": [
    "print(x)"
   ]
  },
  {
   "cell_type": "markdown",
   "metadata": {},
   "source": [
    "### Operators and operands"
   ]
  },
  {
   "cell_type": "markdown",
   "metadata": {},
   "source": [
    "**Operators** are special symbols that represent computations like addition and multiplication. The values the operator is applied to are called `operands`."
   ]
  },
  {
   "cell_type": "markdown",
   "metadata": {},
   "source": [
    "#### Addition"
   ]
  },
  {
   "cell_type": "raw",
   "metadata": {},
   "source": [
    "5 + 2"
   ]
  },
  {
   "cell_type": "markdown",
   "metadata": {},
   "source": [
    "#### Subtraction"
   ]
  },
  {
   "cell_type": "raw",
   "metadata": {},
   "source": [
    "5 - 2"
   ]
  },
  {
   "cell_type": "markdown",
   "metadata": {},
   "source": [
    "#### Multiplication"
   ]
  },
  {
   "cell_type": "code",
   "execution_count": 73,
   "metadata": {},
   "outputs": [
    {
     "data": {
      "text/plain": [
       "10"
      ]
     },
     "execution_count": 73,
     "metadata": {},
     "output_type": "execute_result"
    }
   ],
   "source": [
    "5 * 2"
   ]
  },
  {
   "cell_type": "markdown",
   "metadata": {},
   "source": [
    "#### Division"
   ]
  },
  {
   "cell_type": "code",
   "execution_count": 72,
   "metadata": {},
   "outputs": [
    {
     "data": {
      "text/plain": [
       "2.5"
      ]
     },
     "execution_count": 72,
     "metadata": {},
     "output_type": "execute_result"
    }
   ],
   "source": [
    "5 / 2"
   ]
  },
  {
   "cell_type": "markdown",
   "metadata": {},
   "source": [
    "#### Integer Division"
   ]
  },
  {
   "cell_type": "markdown",
   "metadata": {},
   "source": [
    "Gets the whole number portion only of a division expression. [あ]"
   ]
  },
  {
   "cell_type": "code",
   "execution_count": 40,
   "metadata": {},
   "outputs": [
    {
     "data": {
      "text/plain": [
       "2"
      ]
     },
     "execution_count": 40,
     "metadata": {},
     "output_type": "execute_result"
    }
   ],
   "source": [
    "5 // 2"
   ]
  },
  {
   "cell_type": "markdown",
   "metadata": {},
   "source": [
    "##### Note on Python 2<br>\n",
    " [JRJ]\n",
    "> The `/` operator always performs a floating point division in Python 3.x.\n",
    "This is not true in Python 2.x, where the result of `/` is always an integer if the operands are integers.\n",
    "to be more specific, `1/2 = 0.5` (`float`) in Python 3.x, and `1/2 = 0` (`int`) in Python 2.x (but `1.0/2 = 0.5` in Python 2.x). \n",
    "\n"
   ]
  },
  {
   "cell_type": "markdown",
   "metadata": {},
   "source": [
    "#### Modulo"
   ]
  },
  {
   "cell_type": "markdown",
   "metadata": {},
   "source": [
    "Gets the whole remainder portion only of a division expression. [あ]"
   ]
  },
  {
   "cell_type": "raw",
   "metadata": {},
   "source": [
    "5 % 2"
   ]
  },
  {
   "cell_type": "markdown",
   "metadata": {},
   "source": [
    "#### Power or Exponentiation"
   ]
  },
  {
   "cell_type": "markdown",
   "metadata": {},
   "source": [
    "Compute 5 raised to the 2nd power (or 5 squared): [あ]"
   ]
  },
  {
   "cell_type": "raw",
   "metadata": {},
   "source": [
    "5**2"
   ]
  },
  {
   "cell_type": "markdown",
   "metadata": {},
   "source": [
    "## Order of Evaluation"
   ]
  },
  {
   "cell_type": "markdown",
   "metadata": {},
   "source": [
    "When we string operators together - Python must know which one to do first. This is called **operator precedence**. "
   ]
  },
  {
   "cell_type": "markdown",
   "metadata": {},
   "source": [
    "Which operator “takes precedence” over the others in the expression below?"
   ]
  },
  {
   "cell_type": "raw",
   "metadata": {},
   "source": [
    "x = 1 + 2 * 3 - 4 / 5 ** 6\n",
    "x"
   ]
  },
  {
   "cell_type": "markdown",
   "metadata": {},
   "source": [
    "### Operator Precedence Rules"
   ]
  },
  {
   "cell_type": "markdown",
   "metadata": {},
   "source": [
    "Highest precedence rule to lowest precedence rule:\n",
    "1. Parentheses are always respected\n",
    "2. Exponentiation (raise to a power)\n",
    "3. Multiplication, Division, and Modulo\n",
    "4. Addition and Subtraction\n",
    "5. Left to right"
   ]
  },
  {
   "cell_type": "markdown",
   "metadata": {},
   "source": [
    "#### Acronym: P-E-MMD-AS\n",
    "1. Parenthesis\n",
    "2. Exponentiation\n",
    "3. Multiplication /  Modulo / Division \n",
    "4. Addition / Subtraction\n",
    "\n",
    "Left to Right (because it's not Japanese, which is traditionally right to left)\n",
    "\n",
    "[あ]"
   ]
  },
  {
   "cell_type": "markdown",
   "metadata": {},
   "source": [
    "#### Tips"
   ]
  },
  {
   "cell_type": "markdown",
   "metadata": {},
   "source": [
    "* Keep mathematical expressions simple enough that they are easy to understand.  \n",
    "* Assign intermediate variables to make expressions simpler and clearer"
   ]
  },
  {
   "cell_type": "markdown",
   "metadata": {},
   "source": [
    "## Operations Depending on Type"
   ]
  },
  {
   "cell_type": "markdown",
   "metadata": {},
   "source": [
    "python can perform operations which are suitable to the types of the variables, literals and constants appearing in an expression. [あ]"
   ]
  },
  {
   "cell_type": "markdown",
   "metadata": {},
   "source": [
    "####  `+` operator: integer addition "
   ]
  },
  {
   "cell_type": "raw",
   "metadata": {},
   "source": [
    "d = 1 + 4\n",
    "d"
   ]
  },
  {
   "cell_type": "markdown",
   "metadata": {},
   "source": [
    "#### `+` operator: string concatenation"
   ]
  },
  {
   "cell_type": "raw",
   "metadata": {},
   "source": [
    "e = 'hello ' + 'there'\n",
    "e"
   ]
  },
  {
   "cell_type": "markdown",
   "metadata": {},
   "source": [
    "However, operations on different types are prohibited"
   ]
  },
  {
   "cell_type": "raw",
   "metadata": {},
   "source": [
    "e = 'hello ' + 'there'\n",
    "e = e + 1"
   ]
  },
  {
   "cell_type": "raw",
   "metadata": {},
   "source": [
    "type(e)"
   ]
  },
  {
   "cell_type": "raw",
   "metadata": {},
   "source": [
    "type(1)"
   ]
  },
  {
   "cell_type": "markdown",
   "metadata": {},
   "source": [
    "### Several Types of Numbers"
   ]
  },
  {
   "cell_type": "markdown",
   "metadata": {},
   "source": [
    "Numbers have two main types\n",
    "-  Integers are whole numbers: -14, -2, 0, 1, 100, 401233\n",
    "-  Floating Point Numbers have  decimal parts:  -2.5 , 0.0, 98.6, 14.0\n",
    "\n",
    "There are other number types - they are variations on float and integer"
   ]
  },
  {
   "cell_type": "markdown",
   "metadata": {},
   "source": [
    "### Type Conversions"
   ]
  },
  {
   "cell_type": "markdown",
   "metadata": {},
   "source": [
    "When you put an integer and floating point in an expression, the integer is implicitly converted to a float."
   ]
  },
  {
   "cell_type": "raw",
   "metadata": {},
   "source": [
    "x = 1 + 2.5\n",
    "print(x)\n",
    "print(type(x))\n",
    "\n",
    "#あ"
   ]
  },
  {
   "cell_type": "markdown",
   "metadata": {},
   "source": [
    "### Conversions from String"
   ]
  },
  {
   "cell_type": "markdown",
   "metadata": {},
   "source": [
    "- You can also use `int()` and `float()` to convert between strings and integers\n",
    "- You will get an `error` if the string does not contain numeric characters"
   ]
  },
  {
   "cell_type": "code",
   "execution_count": null,
   "metadata": {},
   "outputs": [],
   "source": [
    "string_val = '123'\n",
    "type(string_val)"
   ]
  },
  {
   "cell_type": "markdown",
   "metadata": {},
   "source": [
    "The code below adds an integer to a string and will thus produce an error. [あ]"
   ]
  },
  {
   "cell_type": "raw",
   "metadata": {},
   "source": [
    "print(string_val+1)"
   ]
  },
  {
   "cell_type": "markdown",
   "metadata": {},
   "source": [
    "Now let's get the integer equivalent of the string using `int()` [あ]"
   ]
  },
  {
   "cell_type": "code",
   "execution_count": null,
   "metadata": {},
   "outputs": [],
   "source": [
    "int_val = int(string_val)\n",
    "type(int_val)"
   ]
  },
  {
   "cell_type": "raw",
   "metadata": {},
   "source": [
    "int_val"
   ]
  },
  {
   "cell_type": "raw",
   "metadata": {},
   "source": [
    "print(int_val+1)"
   ]
  },
  {
   "cell_type": "markdown",
   "metadata": {},
   "source": [
    "The code below tries to convert a string with non-numeric content to an integer. [あ]"
   ]
  },
  {
   "cell_type": "raw",
   "metadata": {},
   "source": [
    "lotto_jackpot_str = '1,180,622,508'\n",
    "lotto_jackpot_val = int(lotto_jackpot_str)\n",
    "\n",
    "#あ"
   ]
  },
  {
   "cell_type": "markdown",
   "metadata": {},
   "source": [
    "## User Input"
   ]
  },
  {
   "cell_type": "markdown",
   "metadata": {},
   "source": [
    "- We can instruct Python to pause and read data from the user using the `input()`  function\n",
    "- The `input()` function returns a string"
   ]
  },
  {
   "cell_type": "code",
   "execution_count": 38,
   "metadata": {},
   "outputs": [
    {
     "name": "stdout",
     "output_type": "stream",
     "text": [
      "Who are you?Darna\n",
      "Welcome Darna\n"
     ]
    }
   ],
   "source": [
    "name = input('Who are you?')\n",
    "print('Welcome', name)"
   ]
  },
  {
   "cell_type": "markdown",
   "metadata": {},
   "source": [
    "### Converting User Input"
   ]
  },
  {
   "cell_type": "markdown",
   "metadata": {},
   "source": [
    "If we want to read a number from the user, we must convert it from a string to a number using a **type conversion** function"
   ]
  },
  {
   "cell_type": "code",
   "execution_count": 34,
   "metadata": {},
   "outputs": [
    {
     "name": "stdout",
     "output_type": "stream",
     "text": [
      "Europe floor?12\n",
      "US floor 13\n"
     ]
    }
   ],
   "source": [
    "inp = input('Europe floor?')\n",
    "usf = int(inp) + 1\n",
    "print('US floor', usf)"
   ]
  },
  {
   "cell_type": "markdown",
   "metadata": {},
   "source": [
    "## Debugging \n",
    "[PEW]"
   ]
  },
  {
   "cell_type": "markdown",
   "metadata": {},
   "source": [
    "### Syntax Error"
   ]
  },
  {
   "cell_type": "markdown",
   "metadata": {},
   "source": [
    "At this point, the syntax error you are most likely to make is an illegal variable name, like `class` and `yield`, which are keywords, or `odd~job` and `US$`, which contain illegal characters."
   ]
  },
  {
   "cell_type": "markdown",
   "metadata": {},
   "source": [
    "If you put a space in a variable name, Python thinks it is two operands without an operator:"
   ]
  },
  {
   "cell_type": "raw",
   "metadata": {},
   "source": [
    "bad name = 5"
   ]
  },
  {
   "cell_type": "raw",
   "metadata": {},
   "source": [
    "month = 09"
   ]
  },
  {
   "cell_type": "markdown",
   "metadata": {},
   "source": [
    "For syntax errors, the error messages don't help much. The most common messages are `SyntaxError: invalid syntax` and `SyntaxError: invalid token`, neither of which is very informative."
   ]
  },
  {
   "cell_type": "markdown",
   "metadata": {},
   "source": [
    "#### Runtime Errors"
   ]
  },
  {
   "cell_type": "markdown",
   "metadata": {},
   "source": [
    "The runtime error you are most likely to make is a `name 'some_variable_name' is not defined` that is, trying to use a variable before you have assigned a value. This can happen if you spell a variable name wrong:"
   ]
  },
  {
   "cell_type": "raw",
   "metadata": {},
   "source": [
    "principal = 327.68\n",
    "interest = principle * rate"
   ]
  },
  {
   "cell_type": "markdown",
   "metadata": {},
   "source": [
    "#### Logic or Semantic Errors"
   ]
  },
  {
   "cell_type": "markdown",
   "metadata": {},
   "source": [
    "Suppose you want to evaluate `1 divided by twice of pi`, and you wrote the code below, what you would get instead is one-half of pi.  You will not have a syntax error nor a run time error, but your answer will be incorrect. To fix this problem, make sure you remember the operator precedence. Also, using parenthesis for expression clarity can help. \n",
    "\n",
    "[あ]"
   ]
  },
  {
   "cell_type": "raw",
   "metadata": {},
   "source": [
    "pi = 3.1415\n",
    "1 / 2*pi"
   ]
  },
  {
   "cell_type": "markdown",
   "metadata": {},
   "source": [
    "Corrected expressions"
   ]
  },
  {
   "cell_type": "raw",
   "metadata": {},
   "source": [
    "1/(2*pi)"
   ]
  },
  {
   "cell_type": "markdown",
   "metadata": {},
   "source": [
    "or, you can use an intermediary variable (although this would be more advisable for more complex expressions)"
   ]
  },
  {
   "cell_type": "raw",
   "metadata": {},
   "source": [
    "twice_of_pi = 2 * pi\n",
    "1/twice_of_pi\n",
    "\n",
    "#あ"
   ]
  },
  {
   "cell_type": "markdown",
   "metadata": {},
   "source": [
    "## Final Words"
   ]
  },
  {
   "cell_type": "markdown",
   "metadata": {},
   "source": [
    "- Learning a programming language could be frustrating and exciting at the same time\n",
    "  - Much like learning a new language\n",
    "  - We could be overwhelmed by the seemingly endless things we have to learn\n",
    "- Tips\n",
    "  - Learn by doing\n",
    "  - Experiment\n",
    "  - Get used to seeing sytax errors, and fixing them\n",
    "  - If something is too complicated, break it apart\n",
    "  \n",
    "[あ]"
   ]
  },
  {
   "cell_type": "markdown",
   "metadata": {},
   "source": [
    "## EXERCISES"
   ]
  },
  {
   "cell_type": "markdown",
   "metadata": {},
   "source": [
    "#### Exercise 1"
   ]
  },
  {
   "cell_type": "raw",
   "metadata": {},
   "source": [
    "Write a program that uses input to prompt a user for their name and then welcomes them.\n",
    "```\n",
    "Enter your name: Chuck\n",
    "Hello Chuck\n",
    "```\n",
    "\n",
    "[PEW] E2.2"
   ]
  },
  {
   "cell_type": "code",
   "execution_count": 47,
   "metadata": {},
   "outputs": [
    {
     "name": "stdout",
     "output_type": "stream",
     "text": [
      "Enter your nameEdwin\n",
      "Hello Edwin\n"
     ]
    }
   ],
   "source": [
    "name = input('Enter your name')\n",
    "print(\"Hello \" + name)"
   ]
  },
  {
   "cell_type": "markdown",
   "metadata": {},
   "source": [
    "#### Exercise 2 "
   ]
  },
  {
   "cell_type": "markdown",
   "metadata": {},
   "source": [
    "Write a program to prompt the user for hours and rate per hour to compute gross pay.\n",
    "```\n",
    "Enter Hours: 35\n",
    "Enter Rate: 2.75\n",
    "Pay: 96.25\n",
    "```\n",
    "\n",
    "[PEW] E2.3"
   ]
  },
  {
   "cell_type": "code",
   "execution_count": 62,
   "metadata": {},
   "outputs": [
    {
     "name": "stdout",
     "output_type": "stream",
     "text": [
      "Please input number of hours: 10\n",
      "Please specify rate per hour: 4\n",
      "Your gross pay is: 40\n"
     ]
    }
   ],
   "source": [
    "hours = input(\"Please input number of hours: \")\n",
    "rateperhour = input(\"Please specify rate per hour: \")\n",
    "grosspay = int(hours)*int(rateperhour)\n",
    "print(\"Your gross pay is:\", + grosspay)"
   ]
  },
  {
   "cell_type": "markdown",
   "metadata": {},
   "source": [
    "#### Exercise 3"
   ]
  },
  {
   "cell_type": "raw",
   "metadata": {},
   "source": [
    "Assume that we execute the following assignment statements:\n",
    "```python\n",
    "width = 17\n",
    "height = 12.0\n",
    "```\n",
    "For each of the following expressions, write the value of the expression and the type (of the value of the expression).\n",
    "```python\n",
    "width//2\n",
    "width/2.0\n",
    "height/3\n",
    "1 + 2 * 5\n",
    "```\n",
    "\n",
    "[PEW] E2.4"
   ]
  },
  {
   "cell_type": "code",
   "execution_count": 112,
   "metadata": {},
   "outputs": [
    {
     "name": "stdout",
     "output_type": "stream",
     "text": [
      "Integer division of width divided by 2 is: 8 which is an  <class 'int'>\n",
      "\n",
      "\n",
      "Width divided by 2 is: 8.5 Which is a <class 'float'>\n",
      "\n",
      "\n",
      "Height divided by 3 is: 4.0 which is a <class 'float'>\n",
      "\n",
      "\n",
      "15 is a <class 'int'>\n"
     ]
    }
   ],
   "source": [
    "width = 17\n",
    "height = 12.0\n",
    "\n",
    "#Integer division (Whole number portion only of width divided by 2)\n",
    "intdiv = width//2\n",
    "print(\"Integer division of width divided by 2 is:\", + width//2, \"which is a \", type(width//2))\n",
    "\n",
    "print('\\n')\n",
    "\n",
    "#Width divided by 2\n",
    "print(\"Width divided by 2 is:\", + width/2.0, \"Which is a\", type(width/2.0) )\n",
    "\n",
    "print('\\n')\n",
    "\n",
    "#Height divided by 3\n",
    "print(\"Height divided by 3 is:\", + height/3, \"which is a\", type(height/3))\n",
    "\n",
    "print('\\n')\n",
    "\n",
    "#Operation\n",
    "print((1+2)*5, \"is a\", type((1+2)*5))\n",
    "\n"
   ]
  },
  {
   "cell_type": "markdown",
   "metadata": {},
   "source": [
    "#### Exercise 4\n",
    "\n",
    "Write a program that uses input to prompt a user for a number and then outputs the square of the number\n",
    "```\n",
    "Enter a number: 3\n",
    "The square of 3 is 9\n",
    "```\n",
    "\n",
    "[あ]"
   ]
  },
  {
   "cell_type": "code",
   "execution_count": 139,
   "metadata": {},
   "outputs": [
    {
     "name": "stdout",
     "output_type": "stream",
     "text": [
      "Please enter a number: 9\n",
      "81\n"
     ]
    }
   ],
   "source": [
    "# Enter a number\n",
    "number = input(\"Please enter a number: \")\n",
    "\n",
    "# Convert to integer and get square\n",
    "square = (int(number)**2)\n",
    "\n",
    "# Print\n",
    "\n",
    "print(square)\n"
   ]
  },
  {
   "cell_type": "markdown",
   "metadata": {},
   "source": [
    "## CHALLENGE"
   ]
  },
  {
   "cell_type": "markdown",
   "metadata": {},
   "source": [
    "Write a program which prompts the user for a Celsius temperature, convert the temperature to Fahrenheit, and print out the converted temperature.\n",
    "\n",
    "[PEW] E2.5"
   ]
  },
  {
   "cell_type": "code",
   "execution_count": 140,
   "metadata": {},
   "outputs": [
    {
     "name": "stdout",
     "output_type": "stream",
     "text": [
      "Please enter a temperature in Celsius: 32\n",
      "89.6\n"
     ]
    }
   ],
   "source": [
    "# Enter celsius\n",
    "tempcelsius = input(\"Please enter a temperature in Celsius: \")\n",
    "\n",
    "# Convert to integer\n",
    "tempcelsius = int(tempcelsius)\n",
    "\n",
    "# Convert to Fahrenheit\n",
    "tempfahrenheit = tempcelsius*9/5+32\n",
    "\n",
    "# Print converted temperature\n",
    "print(tempfahrenheit)"
   ]
  },
  {
   "cell_type": "markdown",
   "metadata": {},
   "source": [
    "[TABLE OF CONTENTS](#contents)"
   ]
  },
  {
   "cell_type": "markdown",
   "metadata": {},
   "source": [
    "<a id='chapter3'></a>"
   ]
  },
  {
   "cell_type": "markdown",
   "metadata": {},
   "source": [
    "# CHAPTER 3 - Conditional Execution"
   ]
  },
  {
   "cell_type": "markdown",
   "metadata": {},
   "source": [
    "## Boolean Expressions\n",
    "\n",
    "A **boolean expression** is an expression that is either true or false. The following examples use the operator `==`, which compares two operands and produces True if they are equal and False otherwise:"
   ]
  },
  {
   "cell_type": "markdown",
   "metadata": {},
   "source": [
    "The next two cells are assignment statements [あ]"
   ]
  },
  {
   "cell_type": "code",
   "execution_count": 40,
   "metadata": {},
   "outputs": [],
   "source": [
    "x = 5"
   ]
  },
  {
   "cell_type": "code",
   "execution_count": 39,
   "metadata": {},
   "outputs": [],
   "source": [
    "y = 6"
   ]
  },
  {
   "cell_type": "markdown",
   "metadata": {},
   "source": [
    "The next three cells are boolean expressions. Notice the double-equal sign. [あ]"
   ]
  },
  {
   "cell_type": "code",
   "execution_count": 41,
   "metadata": {},
   "outputs": [
    {
     "data": {
      "text/plain": [
       "True"
      ]
     },
     "execution_count": 41,
     "metadata": {},
     "output_type": "execute_result"
    }
   ],
   "source": [
    "x == 5"
   ]
  },
  {
   "cell_type": "code",
   "execution_count": 42,
   "metadata": {},
   "outputs": [
    {
     "data": {
      "text/plain": [
       "True"
      ]
     },
     "execution_count": 42,
     "metadata": {},
     "output_type": "execute_result"
    }
   ],
   "source": [
    "y == 6"
   ]
  },
  {
   "cell_type": "code",
   "execution_count": 43,
   "metadata": {},
   "outputs": [
    {
     "data": {
      "text/plain": [
       "False"
      ]
     },
     "execution_count": 43,
     "metadata": {},
     "output_type": "execute_result"
    }
   ],
   "source": [
    "x == y"
   ]
  },
  {
   "cell_type": "markdown",
   "metadata": {},
   "source": [
    "`True` and `False` are special values that belong to the class `bool`; they are not strings:"
   ]
  },
  {
   "cell_type": "code",
   "execution_count": 44,
   "metadata": {},
   "outputs": [
    {
     "data": {
      "text/plain": [
       "bool"
      ]
     },
     "execution_count": 44,
     "metadata": {},
     "output_type": "execute_result"
    }
   ],
   "source": [
    "type(True)"
   ]
  },
  {
   "cell_type": "code",
   "execution_count": 45,
   "metadata": {},
   "outputs": [
    {
     "data": {
      "text/plain": [
       "bool"
      ]
     },
     "execution_count": 45,
     "metadata": {},
     "output_type": "execute_result"
    }
   ],
   "source": [
    "type(False)"
   ]
  },
  {
   "cell_type": "markdown",
   "metadata": {},
   "source": [
    "### Comparison Operators"
   ]
  },
  {
   "cell_type": "markdown",
   "metadata": {},
   "source": [
    "The `==` operator is one of the **comparison operators**; the others are listed below. Comparison operators look at variables but do not change the variables."
   ]
  },
  {
   "cell_type": "code",
   "execution_count": 46,
   "metadata": {},
   "outputs": [
    {
     "data": {
      "text/plain": [
       "True"
      ]
     },
     "execution_count": 46,
     "metadata": {},
     "output_type": "execute_result"
    }
   ],
   "source": [
    "x != y               # x is not equal to y"
   ]
  },
  {
   "cell_type": "code",
   "execution_count": 47,
   "metadata": {},
   "outputs": [
    {
     "data": {
      "text/plain": [
       "False"
      ]
     },
     "execution_count": 47,
     "metadata": {},
     "output_type": "execute_result"
    }
   ],
   "source": [
    "x > y                # x is greater than y"
   ]
  },
  {
   "cell_type": "code",
   "execution_count": 48,
   "metadata": {},
   "outputs": [
    {
     "data": {
      "text/plain": [
       "True"
      ]
     },
     "execution_count": 48,
     "metadata": {},
     "output_type": "execute_result"
    }
   ],
   "source": [
    "x < y                # x is less than y"
   ]
  },
  {
   "cell_type": "code",
   "execution_count": 49,
   "metadata": {},
   "outputs": [
    {
     "data": {
      "text/plain": [
       "False"
      ]
     },
     "execution_count": 49,
     "metadata": {},
     "output_type": "execute_result"
    }
   ],
   "source": [
    "x >= y               # x is greater than or equal to y"
   ]
  },
  {
   "cell_type": "code",
   "execution_count": 50,
   "metadata": {},
   "outputs": [
    {
     "data": {
      "text/plain": [
       "True"
      ]
     },
     "execution_count": 50,
     "metadata": {},
     "output_type": "execute_result"
    }
   ],
   "source": [
    "x <= y               # x is less than or equal to y"
   ]
  },
  {
   "cell_type": "code",
   "execution_count": 51,
   "metadata": {},
   "outputs": [
    {
     "data": {
      "text/plain": [
       "False"
      ]
     },
     "execution_count": 51,
     "metadata": {},
     "output_type": "execute_result"
    }
   ],
   "source": [
    "x is y               # x is the same as y"
   ]
  },
  {
   "cell_type": "code",
   "execution_count": 52,
   "metadata": {},
   "outputs": [
    {
     "data": {
      "text/plain": [
       "True"
      ]
     },
     "execution_count": 52,
     "metadata": {},
     "output_type": "execute_result"
    }
   ],
   "source": [
    "x is not y           # x is not the same as y"
   ]
  },
  {
   "cell_type": "markdown",
   "metadata": {},
   "source": [
    "### Logical Operators"
   ]
  },
  {
   "cell_type": "markdown",
   "metadata": {},
   "source": [
    "There are three **logical operators**: `and`, `or`, and `not`. The semantics (meaning) of these operators is similar to their meaning in English. "
   ]
  },
  {
   "cell_type": "code",
   "execution_count": 53,
   "metadata": {},
   "outputs": [
    {
     "data": {
      "text/plain": [
       "True"
      ]
     },
     "execution_count": 53,
     "metadata": {},
     "output_type": "execute_result"
    }
   ],
   "source": [
    "True and True"
   ]
  },
  {
   "cell_type": "code",
   "execution_count": 54,
   "metadata": {},
   "outputs": [
    {
     "data": {
      "text/plain": [
       "False"
      ]
     },
     "execution_count": 54,
     "metadata": {},
     "output_type": "execute_result"
    }
   ],
   "source": [
    "True and False"
   ]
  },
  {
   "cell_type": "code",
   "execution_count": 55,
   "metadata": {},
   "outputs": [
    {
     "data": {
      "text/plain": [
       "False"
      ]
     },
     "execution_count": 55,
     "metadata": {},
     "output_type": "execute_result"
    }
   ],
   "source": [
    "False and False"
   ]
  },
  {
   "cell_type": "code",
   "execution_count": 56,
   "metadata": {},
   "outputs": [
    {
     "data": {
      "text/plain": [
       "False"
      ]
     },
     "execution_count": 56,
     "metadata": {},
     "output_type": "execute_result"
    }
   ],
   "source": [
    "False and True"
   ]
  },
  {
   "cell_type": "code",
   "execution_count": 57,
   "metadata": {},
   "outputs": [
    {
     "data": {
      "text/plain": [
       "True"
      ]
     },
     "execution_count": 57,
     "metadata": {},
     "output_type": "execute_result"
    }
   ],
   "source": [
    "True or False"
   ]
  },
  {
   "cell_type": "code",
   "execution_count": 58,
   "metadata": {},
   "outputs": [
    {
     "data": {
      "text/plain": [
       "False"
      ]
     },
     "execution_count": 58,
     "metadata": {},
     "output_type": "execute_result"
    }
   ],
   "source": [
    "not True"
   ]
  },
  {
   "cell_type": "code",
   "execution_count": 59,
   "metadata": {},
   "outputs": [
    {
     "data": {
      "text/plain": [
       "True"
      ]
     },
     "execution_count": 59,
     "metadata": {},
     "output_type": "execute_result"
    }
   ],
   "source": [
    "not False"
   ]
  },
  {
   "cell_type": "code",
   "execution_count": 60,
   "metadata": {},
   "outputs": [
    {
     "data": {
      "text/plain": [
       "True"
      ]
     },
     "execution_count": 60,
     "metadata": {},
     "output_type": "execute_result"
    }
   ],
   "source": [
    "(x==5) and (x < y) "
   ]
  },
  {
   "cell_type": "code",
   "execution_count": 61,
   "metadata": {},
   "outputs": [
    {
     "data": {
      "text/plain": [
       "False"
      ]
     },
     "execution_count": 61,
     "metadata": {},
     "output_type": "execute_result"
    }
   ],
   "source": [
    "(x>=0) and (y<5) "
   ]
  },
  {
   "cell_type": "markdown",
   "metadata": {},
   "source": [
    "(x>=0) or (y<5) "
   ]
  },
  {
   "cell_type": "markdown",
   "metadata": {},
   "source": [
    "## Boolean Expressions and  Program Flow"
   ]
  },
  {
   "cell_type": "markdown",
   "metadata": {},
   "source": [
    "Boolean expressions ask a question and produce a `Yes` or `No` result which we use to control program flow"
   ]
  },
  {
   "cell_type": "raw",
   "metadata": {},
   "source": [
    "x = 5\n",
    "if x < 10:\n",
    "    print('Smaller')\n",
    "if x > 20:\n",
    "    print('Bigger')\n",
    "\n",
    "print('End')"
   ]
  },
  {
   "cell_type": "markdown",
   "metadata": {},
   "source": [
    "## One-Way Decisions"
   ]
  },
  {
   "cell_type": "markdown",
   "metadata": {},
   "source": [
    "In order to write useful programs, we almost always need the ability to check conditions and change the behavior of the program accordingly. Conditional statements give us this ability. The simplest form is the **`if`** statement:"
   ]
  },
  {
   "cell_type": "raw",
   "metadata": {},
   "source": [
    "x = 5\n",
    "print('Before 5')\n",
    "if  x == 5:\n",
    "    print('Is 5')\n",
    "    print('Is Still 5')\n",
    "    print('Third 5')\n",
    "print('Afterwards 5')\n",
    "print('Before 6')\n",
    "if x == 6:\n",
    "    print('Is 6')\n",
    "    print('Is Still 6')\n",
    "    print('Third 6')\n",
    "print('Afterwards 6')"
   ]
  },
  {
   "cell_type": "markdown",
   "metadata": {},
   "source": [
    "### A Side Note on Indentation"
   ]
  },
  {
   "cell_type": "markdown",
   "metadata": {},
   "source": [
    "- Increase indent  after an `if` statement \n",
    "- Maintain indent to indicate the scope of the block (which lines are affected by the `if` statement)\n",
    "- Reduce indent back to the level of the `if` statement to indicate the end of the block\n",
    "- Blank lines are ignored - they do not affect indentation\n",
    "- Comments on a line by themselves are ignored with regard to indentation"
   ]
  },
  {
   "cell_type": "markdown",
   "metadata": {},
   "source": [
    "#### Tabs and Spaces\n",
    "Indentation is important in Python and could affect how a code behaves\n",
    "- Jupyter automatically uses spaces\n",
    "- Spyder can turn tabs into spaces - make sure this feature is enabled\n",
    "\n",
    "\n",
    "#### Mixed use of Tabs and Spaces\n",
    " Below is a sample text  in Jupyter copied from an existing code. Even though the code is visually alligned,  the Python kernel complains because: The first `print` statement was made with spaces, while the next two `print` statements were made with tabs.\n",
    " \n",
    " [あ]"
   ]
  },
  {
   "cell_type": "code",
   "execution_count": 62,
   "metadata": {},
   "outputs": [
    {
     "name": "stdout",
     "output_type": "stream",
     "text": [
      "Before 5\n",
      "Is 5\n",
      "Is Still 5\n",
      "Third 5\n"
     ]
    }
   ],
   "source": [
    "print('Before 5')\n",
    "if  x == 5 :\n",
    "    print('Is 5')         #this is indented with spaces\n",
    "    print('Is Still 5')   #this is indented with a tab  (notice the arrow marking)\n",
    "    print('Third 5')      #this is indented with a tab  (notice the arrow marking)  \n",
    "    \n",
    "#あ"
   ]
  },
  {
   "cell_type": "markdown",
   "metadata": {},
   "source": [
    "##  Nested Decisions"
   ]
  },
  {
   "cell_type": "markdown",
   "metadata": {},
   "source": [
    "One conditional can also be nested within another. "
   ]
  },
  {
   "cell_type": "code",
   "execution_count": 114,
   "metadata": {},
   "outputs": [
    {
     "name": "stdout",
     "output_type": "stream",
     "text": [
      "42\n",
      "Less than 50\n",
      "All done\n"
     ]
    }
   ],
   "source": [
    "x = 42\n",
    "print(x)\n",
    "if x > 50:\n",
    "    print('More than one')\n",
    "elif x < 50:\n",
    "    print('Less than 50')\n",
    "print('All done')"
   ]
  },
  {
   "cell_type": "markdown",
   "metadata": {},
   "source": [
    "### Two-way Decisions with `else`"
   ]
  },
  {
   "cell_type": "code",
   "execution_count": 147,
   "metadata": {},
   "outputs": [
    {
     "name": "stdout",
     "output_type": "stream",
     "text": [
      "Bigger\n",
      "All done\n"
     ]
    }
   ],
   "source": [
    "x = 4\n",
    "\n",
    "if x > 2 :\n",
    "    print('Bigger')\n",
    "else :\n",
    "    print('Smaller')\n",
    "\n",
    "print('All done')"
   ]
  },
  {
   "cell_type": "markdown",
   "metadata": {},
   "source": [
    "### Multi-way with `elif`"
   ]
  },
  {
   "cell_type": "code",
   "execution_count": 104,
   "metadata": {},
   "outputs": [
    {
     "name": "stdout",
     "output_type": "stream",
     "text": [
      "small\n",
      "All done\n"
     ]
    }
   ],
   "source": [
    "x = 1\n",
    "if x < 2 :\n",
    "    print('small')\n",
    "elif x < 10 :\n",
    "    print('Medium')\n",
    "else :\n",
    "    print('LARGE')\n",
    "print('All done')"
   ]
  },
  {
   "cell_type": "code",
   "execution_count": 153,
   "metadata": {},
   "outputs": [
    {
     "name": "stdout",
     "output_type": "stream",
     "text": [
      "All done\n"
     ]
    }
   ],
   "source": [
    "# No Else\n",
    "x = 15\n",
    "if x < 2 :\n",
    "    print('Small')\n",
    "elif x < 10 :\n",
    "    print('Medium')\n",
    "\n",
    "print('All done')"
   ]
  },
  {
   "cell_type": "code",
   "execution_count": 154,
   "metadata": {},
   "outputs": [
    {
     "name": "stdout",
     "output_type": "stream",
     "text": [
      "Big\n"
     ]
    }
   ],
   "source": [
    "if x < 2 :\n",
    "    print('Small')\n",
    "elif x < 10 :\n",
    "    print('Medium')\n",
    "elif x < 20 : \n",
    "    print('Big')\n",
    "elif x < 40 : \n",
    "    print('Large')\n",
    "elif x < 100:\n",
    "    print('Huge')\n",
    "else :\n",
    "    print('Ginormous')"
   ]
  },
  {
   "cell_type": "markdown",
   "metadata": {},
   "source": [
    "In the code below, which will never print regardless of the value for x?"
   ]
  },
  {
   "cell_type": "code",
   "execution_count": 159,
   "metadata": {
    "scrolled": true
   },
   "outputs": [
    {
     "name": "stdout",
     "output_type": "stream",
     "text": [
      "Below 20\n",
      "Below 10 will never print regardless of the value of x\n"
     ]
    }
   ],
   "source": [
    "x=9\n",
    "if x < 2 :\n",
    "    print('Below 2')\n",
    "elif x < 20 :\n",
    "    print('Below 20')\n",
    "elif x < 10 : \n",
    "    print('Below 10')\n",
    "else :\n",
    "    print('Something else')\n",
    "    \n",
    "print(\"Below 10 will never print regardless of the value of x\")"
   ]
  },
  {
   "cell_type": "markdown",
   "metadata": {},
   "source": [
    "##  Some advice on using `if` statements\n",
    "- Check all `if` and `elif` statements if they need an `else` part. If you are not sure, then add one, where you print a message, perhaps, with the value of the evaluation expression.\n",
    "- Although it's possible to have lots of nested conditional statements, try to limit the levels to 1 or 2. If having several levels is really necessary, consider making a `function` for some of the levels (see next chapter). \n",
    "- Keep **decision expressions** simple. Complicated decision expressions could be transformed into intermediate variables with meaningful names.\n",
    "\n",
    "[あ]"
   ]
  },
  {
   "cell_type": "markdown",
   "metadata": {},
   "source": [
    "##  Catching exceptions using `try` and `except`"
   ]
  },
  {
   "cell_type": "markdown",
   "metadata": {},
   "source": [
    "The code below gets an input and computes its square. Run the code and enter a non-numeric string of characters when prompted for a number.[あ]"
   ]
  },
  {
   "cell_type": "code",
   "execution_count": 162,
   "metadata": {},
   "outputs": [
    {
     "name": "stdout",
     "output_type": "stream",
     "text": [
      "Enter a number:9\n",
      "The square of 9 is\n",
      "81.0\n"
     ]
    }
   ],
   "source": [
    "num_str = input('Enter a number:')\n",
    "num_val = float(num_str)\n",
    "print('The square of '+num_str+' is')\n",
    "print(num_val*num_val)\n",
    "\n",
    "#あ"
   ]
  },
  {
   "cell_type": "markdown",
   "metadata": {},
   "source": [
    "The code produced a `ValueError` because the string input could not be converted into float.[あ]"
   ]
  },
  {
   "cell_type": "markdown",
   "metadata": {},
   "source": [
    "There is a conditional execution structure built into Python to handle expected and unexpected errors called `try / except`. The idea of `try and except` is that you know that some sequence of instruction(s) may have a problem and you want to add some statements to be executed if an error occurs. These extra statements (the `except` block) are ignored if there is no error.\n",
    "\n",
    "You can think of the `try and except` feature in Python as an \"insurance policy\" on a sequence of statements."
   ]
  },
  {
   "cell_type": "markdown",
   "metadata": {},
   "source": [
    "The code above can be re-written in the following way using a `try-except` block.[あ]"
   ]
  },
  {
   "cell_type": "code",
   "execution_count": 164,
   "metadata": {},
   "outputs": [
    {
     "name": "stdout",
     "output_type": "stream",
     "text": [
      "Enter a number:nine\n",
      "Input error. Try again next time.\n"
     ]
    }
   ],
   "source": [
    "num_str = input('Enter a number:')\n",
    "try:\n",
    "    num_val = float(num_str)\n",
    "    print('The square of '+num_str+' is')\n",
    "    print(num_val*num_val)\n",
    "except:\n",
    "    print('Input error. Try again next time.')\n",
    "    \n",
    "#あ"
   ]
  },
  {
   "cell_type": "markdown",
   "metadata": {},
   "source": [
    "Python starts by executing the sequence of statements in the `try` block. If all goes well, it skips the except block and proceeds. If an exception occurs in the `try` block, Python jumps out of the `try` block and executes the sequence of statements in the `except` block.\n",
    "\n",
    "Handling an exception with a `try` statement is called **catching an exception**. In this example, the `except` clause prints an error message. In general, catching an exception gives you a chance to fix the problem, or try again, or at least end the program gracefully."
   ]
  },
  {
   "cell_type": "markdown",
   "metadata": {},
   "source": [
    "## Final Words"
   ]
  },
  {
   "cell_type": "markdown",
   "metadata": {},
   "source": [
    "Conditional expressions help us draw a map for a programming task by giving us the capability to branch out to several options.\n",
    "\n",
    "[あ]"
   ]
  },
  {
   "cell_type": "markdown",
   "metadata": {},
   "source": [
    "## EXERCISES"
   ]
  },
  {
   "cell_type": "markdown",
   "metadata": {},
   "source": [
    "#### Exercise 1"
   ]
  },
  {
   "cell_type": "code",
   "execution_count": 171,
   "metadata": {},
   "outputs": [
    {
     "name": "stdout",
     "output_type": "stream",
     "text": [
      "Above 0\n"
     ]
    }
   ],
   "source": [
    "#In the code below, which will never print regardless of the value for x? Edit the code to correct the error.\n",
    "\n",
    "\n",
    "x=200\n",
    "if x > 0 :\n",
    "    print('Above 0')\n",
    "elif x >  10 :\n",
    "    print('Above 10')\n",
    "elif x > 50 : \n",
    "    print('Above 50')\n",
    "elif x >  20 :\n",
    "    print('Above 20')\n",
    "else :\n",
    "    print('Something else')\n"
   ]
  },
  {
   "cell_type": "markdown",
   "metadata": {},
   "source": [
    "Answer: Above 10, Above 50, and Above 20 will not print regardless of the value of x"
   ]
  },
  {
   "cell_type": "code",
   "execution_count": 172,
   "metadata": {
    "scrolled": true
   },
   "outputs": [
    {
     "name": "stdout",
     "output_type": "stream",
     "text": [
      "Something else\n",
      "Answer: Above 10, Above 50, and Above 20 will not print regardless of the value of x\n"
     ]
    }
   ],
   "source": [
    "\n",
    "x = -1\n",
    "\n",
    "if x > 0 :\n",
    "    print('Above 0')\n",
    "elif x >  10 :\n",
    "    print('Above 10')\n",
    "elif x > 50 : \n",
    "    print('Above 50')\n",
    "elif x >  20 :\n",
    "    print('Above 20')\n",
    "else :\n",
    "    print('Something else')\n",
    "print(\"Answer: Above 10, Above 50, and Above 20 will not print regardless of the value of x\")"
   ]
  },
  {
   "cell_type": "markdown",
   "metadata": {},
   "source": [
    "#### Exercise 2 "
   ]
  },
  {
   "cell_type": "markdown",
   "metadata": {},
   "source": [
    "Write your salary computation to give an employee 1.5 times the hourly rate for hours worked above 40 hours. Example:\n",
    "\n",
    "    Enter Hours: 45\n",
    "    Enter Rate: 10\n",
    "    Pay: 475.0\n",
    "    \n",
    "[PEW] E3.2"
   ]
  },
  {
   "cell_type": "code",
   "execution_count": 237,
   "metadata": {},
   "outputs": [
    {
     "name": "stdout",
     "output_type": "stream",
     "text": [
      "Please enter number of hours 45\n",
      "Total hours:  40\n",
      "Rate:  10\n",
      "Your salary is:  475.0\n"
     ]
    }
   ],
   "source": [
    "hours = int(input('Please enter number of hours '))\n",
    "rate = 10\n",
    "\n",
    "# overtime\n",
    "if hours > 40:\n",
    "    overtime_rate = 1.5 * rate\n",
    "    overtime = (hours-40) * overtime_rate\n",
    "    hours = 40\n",
    "else:\n",
    "    overtime = 0\n",
    "    \n",
    "# compute for pay\n",
    "regular = hours * rate\n",
    "salary = regular + overtime\n",
    "\n",
    "print(\"Total hours: \", hours)\n",
    "print(\"Rate: \", rate)\n",
    "\n",
    "print(\"Your salary is: \", salary)"
   ]
  },
  {
   "cell_type": "markdown",
   "metadata": {},
   "source": [
    "#### CHALLENGE"
   ]
  },
  {
   "cell_type": "markdown",
   "metadata": {},
   "source": [
    "Write a program to prompt for a score between 0 and 100 and print a grade using the following table:\n",
    "\n",
    "    Score           Grade\n",
    "    [ 97, 100]      1.0\n",
    "    [ 93,  97)\t\t1.25\n",
    "    [ 89,  93)\t\t1.5\n",
    "    [ 85,  89)\t\t1.75\n",
    "    [ 81,  85)\t\t2.0\n",
    "    [ 77,  81)\t\t2.25\n",
    "    [ 74,  77)\t\t2.5\n",
    "    [ 0,   74)\t\t3.0 \n",
    "\n",
    "Adapted from [PEW] E3.3 \n",
    "<br>[あ]"
   ]
  },
  {
   "cell_type": "code",
   "execution_count": 256,
   "metadata": {},
   "outputs": [
    {
     "name": "stdout",
     "output_type": "stream",
     "text": [
      "1.5\n"
     ]
    }
   ],
   "source": [
    "score = 93\n",
    "\n",
    "if score <= 74 :\n",
    "    grade = 3.0\n",
    "\n",
    "elif score <= 77 :\n",
    "    grade = 2.5\n",
    "    \n",
    "elif score <= 81 :\n",
    "    grade = 2.25\n",
    "    \n",
    "elif score <= 85 :\n",
    "    grade = 2.0\n",
    "    \n",
    "elif score <= 89 :\n",
    "    grade = 1.75  \n",
    "    \n",
    "elif score <= 93 :\n",
    "    grade = 1.50      \n",
    "    \n",
    "elif score <= 97 :\n",
    "    grade = 1.25  \n",
    "    \n",
    "elif score > 97 :\n",
    "    grade = 1.0      \n",
    "    \n",
    "else :\n",
    "    grade = \"unknown\"\n",
    "    \n",
    "print(grade)    "
   ]
  },
  {
   "cell_type": "markdown",
   "metadata": {},
   "source": [
    "[TABLE OF CONTENTS](#contents)"
   ]
  },
  {
   "cell_type": "markdown",
   "metadata": {},
   "source": [
    "<a id='chapter4'></a>"
   ]
  },
  {
   "cell_type": "markdown",
   "metadata": {},
   "source": [
    "# CHAPTER 4 - Functions"
   ]
  },
  {
   "cell_type": "markdown",
   "metadata": {},
   "source": [
    "In the context of programming, a **function** is a named sequence of statements that performs a computation. When you define a function, you specify the **name** and the **sequence of statements**. Later, you can **call** the function by name. [PEW]"
   ]
  },
  {
   "cell_type": "markdown",
   "metadata": {},
   "source": [
    "It's important to learn the concept behind `functions` as most of the tools you will be using functions made by other people. [あ]"
   ]
  },
  {
   "cell_type": "markdown",
   "metadata": {},
   "source": [
    "## Functions as Stored (and reused) Steps"
   ]
  },
  {
   "cell_type": "markdown",
   "metadata": {},
   "source": [
    "Below is a function named `friend`.  [あ]"
   ]
  },
  {
   "cell_type": "markdown",
   "metadata": {},
   "source": [
    "def friend():\n",
    "    print(\"Winter, spring, summer or fall.\")\n",
    "    print(\"I'll be there.\")    \n",
    "    \n",
    "#あ"
   ]
  },
  {
   "cell_type": "markdown",
   "metadata": {},
   "source": [
    "Once the function `friend` is defined, we can `call` it anytime in our code. \n",
    "\n",
    "Run the code below 5 times, for each time, change set the value of the variable `season` to `winter`, `spring`, `summer`, `fall`, and `rainy` [あ]"
   ]
  },
  {
   "cell_type": "code",
   "execution_count": 267,
   "metadata": {},
   "outputs": [
    {
     "name": "stdout",
     "output_type": "stream",
     "text": [
      "\n",
      "Oh, yeah!\n"
     ]
    }
   ],
   "source": [
    "def friend():print()\n",
    "    \n",
    "season = 'spring'\n",
    "\n",
    "if season =='winter':\n",
    "    friend()\n",
    "    print(\"Yes, I will.\")    \n",
    "elif season == 'spring':    \n",
    "    friend()\n",
    "    print(\"Oh, yeah!\")    \n",
    "elif season is 'summer':    \n",
    "    friend()\n",
    "    print(\"Ain't it good to know?\")    \n",
    "elif season is 'fall':    \n",
    "    friend()\n",
    "    print(\"You've got a friend!\")        \n",
    "else:\n",
    "    print('Hu u?')\n",
    "    "
   ]
  },
  {
   "cell_type": "markdown",
   "metadata": {},
   "source": [
    "## Python Functions"
   ]
  },
  {
   "cell_type": "markdown",
   "metadata": {},
   "source": [
    "There are two kinds of functions in Python.\n",
    "-  Built-in functions that are provided as part of Python - `print()`, `input()`, `type()`, `float()`, `int()` ...\n",
    "-  Functions that we define ourselves and then use"
   ]
  },
  {
   "cell_type": "markdown",
   "metadata": {},
   "source": [
    "## Built-in Functions\n",
    "\n",
    "Below is a list of built-in Python functions. "
   ]
  },
  {
   "cell_type": "markdown",
   "metadata": {},
   "source": [
    "    abs() \n",
    "    all() \n",
    "    any() \n",
    "    ascii() \n",
    "    bin() \n",
    "    bool() \n",
    "    breakpoint() \n",
    "    bytearray() \n",
    "    bytes() \n",
    "    callable() \n",
    "    chr() \n",
    "    classmethod() \n",
    "    compile() \n",
    "    complex() \n",
    "    delattr() \n",
    "    dict() \n",
    "    dir() \n",
    "    divmod() \n",
    "    enumerate() \n",
    "    eval() \n",
    "    exec() \n",
    "    filter() \n",
    "    float() \n",
    "    format() \n",
    "    frozenset() \n",
    "    getattr() \n",
    "    globals() \n",
    "    hasattr() \n",
    "    hash() \n",
    "    help() \n",
    "    hex() \n",
    "    id() \n",
    "    input() \n",
    "    int() \n",
    "    isinstance() \n",
    "    issubclass() \n",
    "    iter() \n",
    "    len() \n",
    "    list() \n",
    "    locals() \n",
    "    map() \n",
    "    max() \n",
    "    memoryview() \n",
    "    min() \n",
    "    next() \n",
    "    object() \n",
    "    oct() \n",
    "    open() \n",
    "    ord() \n",
    "    pow() \n",
    "    print() \n",
    "    property() \n",
    "    range() \n",
    "    repr() \n",
    "    reversed() \n",
    "    round() \n",
    "    set()\n",
    "    setattr()\n",
    "    slice()\n",
    "    sorted()\n",
    "    staticmethod()\n",
    "    str()\n",
    "    sum()\n",
    "    super()\n",
    "    tuple()\n",
    "    type()\n",
    "    vars()\n",
    "    zip()\n",
    "    __import__()\n"
   ]
  },
  {
   "cell_type": "markdown",
   "metadata": {},
   "source": [
    "You don't have to memorize all of the functions above. You can do a deeper study on any of them once you have to start using it.\n",
    "\n",
    "[あ]"
   ]
  },
  {
   "cell_type": "markdown",
   "metadata": {},
   "source": [
    "#### Warning\n",
    "\n",
    "Make sure that you don't use any of the above names as a variable name because it will disassociate the name to the corresponding built-in function, resulting in run-time errors that could be difficult to find.\n",
    "\n",
    "In particular, the following names are common enough to be easily used in a program, so make the active effort **never to use them** as variable names. \n",
    "[あ]"
   ]
  },
  {
   "cell_type": "markdown",
   "metadata": {},
   "source": [
    "    str()\n",
    "    sum()\n",
    "    max() \n",
    "    min() \n",
    "    len() \n",
    "    list() \n",
    "    set()\n",
    "    input() \n",
    "    "
   ]
  },
  {
   "cell_type": "markdown",
   "metadata": {},
   "source": [
    "## Building our Own Functions"
   ]
  },
  {
   "cell_type": "markdown",
   "metadata": {},
   "source": [
    "- We create a new function using the **`def`** keyword followed by optional parameters in parentheses and a **`:`** (colon) at the end\n",
    "- We **_indent_ the body** of the function (this is important)\n",
    "- This defines the function but does not execute the body of the function"
   ]
  },
  {
   "cell_type": "code",
   "execution_count": 268,
   "metadata": {},
   "outputs": [
    {
     "name": "stdout",
     "output_type": "stream",
     "text": [
      "winter\n",
      "summer\n",
      "36\n"
     ]
    }
   ],
   "source": [
    "temperature = -10\n",
    "season = 'winter'\n",
    "print(season)\n",
    "\n",
    "def friend():\n",
    "    print(\"Winter, spring, summer or fall.\")\n",
    "    print(\"And I'll be there.\")    \n",
    "\n",
    "temperature = 36\n",
    "season = 'summer'\n",
    "print(season)\n",
    "print(temperature)\n",
    "\n",
    "#あ"
   ]
  },
  {
   "cell_type": "markdown",
   "metadata": {},
   "source": [
    "## Calling or Invoking Functions"
   ]
  },
  {
   "cell_type": "markdown",
   "metadata": {},
   "source": [
    "Once we have defined a function, we can **call** (or invoke) it as many times as we like"
   ]
  },
  {
   "cell_type": "code",
   "execution_count": 269,
   "metadata": {},
   "outputs": [
    {
     "name": "stdout",
     "output_type": "stream",
     "text": [
      "Winter, spring, summer or fall.\n",
      "And I'll be there.\n",
      "Winter, spring, summer or fall.\n",
      "And I'll be there.\n",
      "Winter, spring, summer or fall.\n",
      "And I'll be there.\n"
     ]
    }
   ],
   "source": [
    "friend()\n",
    "friend()\n",
    "friend()\n",
    "\n",
    "#あ"
   ]
  },
  {
   "cell_type": "markdown",
   "metadata": {},
   "source": [
    "## Parameters"
   ]
  },
  {
   "cell_type": "markdown",
   "metadata": {},
   "source": [
    "A **parameter** is a variable which we use in the function definition.  It is a **handle** that allows the code in the function to access the **arguments** for a particular function invocation."
   ]
  },
  {
   "cell_type": "markdown",
   "metadata": {},
   "source": [
    "- Parameters: A variable used in the function `definition`\n",
    "- Arguments: inputs to the function in a function `call`\n",
    "\n",
    "[あ]"
   ]
  },
  {
   "cell_type": "code",
   "execution_count": 270,
   "metadata": {},
   "outputs": [],
   "source": [
    "def call_a_friend(season):      \n",
    "    if season =='winter':\n",
    "        friend()\n",
    "        print(\"Yes, I will.\")    \n",
    "    elif season == 'spring':    \n",
    "        friend()\n",
    "        print(\"Oh, yeah!\")    \n",
    "    elif season is 'summer':    \n",
    "        friend()\n",
    "        print(\"Ain't it good to know?\")    \n",
    "    elif season is 'fall':    \n",
    "        friend()\n",
    "        print(\"You've got a friend!\")        \n",
    "    else:\n",
    "        print('Who u?')  \n",
    "\n",
    "#あ        "
   ]
  },
  {
   "cell_type": "code",
   "execution_count": 272,
   "metadata": {},
   "outputs": [
    {
     "name": "stdout",
     "output_type": "stream",
     "text": [
      "Winter, spring, summer or fall.\n",
      "And I'll be there.\n",
      "You've got a friend!\n"
     ]
    }
   ],
   "source": [
    "call_a_friend('fall')"
   ]
  },
  {
   "cell_type": "code",
   "execution_count": 273,
   "metadata": {},
   "outputs": [
    {
     "name": "stdout",
     "output_type": "stream",
     "text": [
      "Winter, spring, summer or fall.\n",
      "And I'll be there.\n",
      "You've got a friend!\n"
     ]
    }
   ],
   "source": [
    "call_a_friend('fall')"
   ]
  },
  {
   "cell_type": "code",
   "execution_count": 274,
   "metadata": {},
   "outputs": [
    {
     "name": "stdout",
     "output_type": "stream",
     "text": [
      "Who u?\n"
     ]
    }
   ],
   "source": [
    "call_a_friend('rainy')"
   ]
  },
  {
   "cell_type": "markdown",
   "metadata": {},
   "source": [
    "## Return Values"
   ]
  },
  {
   "cell_type": "markdown",
   "metadata": {},
   "source": [
    "The **`return`** statement ends the function execution and *sends back* the result of the function"
   ]
  },
  {
   "cell_type": "raw",
   "metadata": {},
   "source": [
    "def greet(lang):\n",
    "    if lang == 'es':\n",
    "        return 'Hola'\n",
    "    elif lang == 'fr':\n",
    "        return 'Bonjour'\n",
    "    else:\n",
    "        return 'Hello'"
   ]
  },
  {
   "cell_type": "raw",
   "metadata": {},
   "source": [
    "greet('es')"
   ]
  },
  {
   "cell_type": "raw",
   "metadata": {},
   "source": [
    "spanish = greet('es')"
   ]
  },
  {
   "cell_type": "raw",
   "metadata": {},
   "source": [
    "print(spanish + ' Glenn')"
   ]
  },
  {
   "cell_type": "raw",
   "metadata": {},
   "source": [
    "print(greet('fr') + ' Sally')"
   ]
  },
  {
   "cell_type": "raw",
   "metadata": {},
   "source": [
    "print(greet('en') + ' Michael')"
   ]
  },
  {
   "cell_type": "markdown",
   "metadata": {},
   "source": [
    "## Multiple Parameters / Arguments"
   ]
  },
  {
   "cell_type": "markdown",
   "metadata": {},
   "source": [
    "- We can define more than one parameter in the function definition\n",
    "- We simply add more arguments when we call the function\n",
    "- We match the number and order of arguments and parameters"
   ]
  },
  {
   "cell_type": "code",
   "execution_count": 275,
   "metadata": {},
   "outputs": [
    {
     "name": "stdout",
     "output_type": "stream",
     "text": [
      "8\n"
     ]
    }
   ],
   "source": [
    "def addtwo(a, b):\n",
    "    added = a + b\n",
    "    return added\n",
    "\n",
    "x = addtwo(3, 5)\n",
    "print(x)"
   ]
  },
  {
   "cell_type": "markdown",
   "metadata": {},
   "source": [
    "## Default argument and keyword arguments\n",
    "[JRJ]"
   ]
  },
  {
   "cell_type": "markdown",
   "metadata": {},
   "source": [
    "In a definition of a function, we can give default values to the arguments the function takes:"
   ]
  },
  {
   "cell_type": "code",
   "execution_count": 277,
   "metadata": {},
   "outputs": [],
   "source": [
    "def myfunc(x, p=2, debug=False):    \n",
    "    if debug:\n",
    "        print(\"evaluating myfunc for x = \" + str(x) + \" using exponent p = \" + str(p))\n",
    "    return x**p"
   ]
  },
  {
   "cell_type": "markdown",
   "metadata": {},
   "source": [
    "If we don't provide a value of the `debug` argument when calling the the function `myfunc` it defaults to the value provided in the function definition:"
   ]
  },
  {
   "cell_type": "raw",
   "metadata": {},
   "source": [
    "#あ default parameters not provided \n",
    "#あ  the function will use the default values p=2 and debug=False\n",
    "myfunc(5)"
   ]
  },
  {
   "cell_type": "raw",
   "metadata": {},
   "source": [
    "myfunc(5, debug=True)"
   ]
  },
  {
   "cell_type": "markdown",
   "metadata": {},
   "source": [
    "If we explicitly list the name of the arguments in the function calls, they do not need to come in the same order as in the function definition. This is called `keyword arguments`, and is often very useful in functions that takes a lot of optional arguments."
   ]
  },
  {
   "cell_type": "raw",
   "metadata": {},
   "source": [
    "myfunc(p=3, debug=True, x=7)"
   ]
  },
  {
   "cell_type": "markdown",
   "metadata": {},
   "source": [
    "## Why use functions?\n",
    "[PEW]\n",
    "\n",
    "It may not be clear why it is worth the trouble to divide a program into functions. There are several reasons:\n",
    "\n",
    "- Creating a new function gives you an opportunity to name a group of statements, which makes your program easier to read, understand, and debug.\n",
    "\n",
    "- Functions can make a program smaller by eliminating repetitive code. Later, if you make a change, you only have to make it in one place.\n",
    "\n",
    "- Dividing a long program into functions allows you to debug the parts one at a time and then assemble them into a working whole.\n",
    "\n",
    "- Well-designed functions are often useful for many programs. Once you write and debug one, you can reuse it."
   ]
  },
  {
   "cell_type": "markdown",
   "metadata": {},
   "source": [
    "## Final Words"
   ]
  },
  {
   "cell_type": "markdown",
   "metadata": {},
   "source": [
    "Functions allow you to re-use previously-written code (by you, or by somebody else). You need to understand well how functions work in order to take advantage of the extensive library of functions in Python.<br>\n",
    "Libraries (or modules) exist for:\n",
    "- Scientific Computing\n",
    "- Data manipulation\n",
    "- Plotting\n",
    "- Machine Learning\n",
    "\n",
    "[あ]"
   ]
  },
  {
   "cell_type": "markdown",
   "metadata": {},
   "source": [
    "## EXERCISES"
   ]
  },
  {
   "cell_type": "markdown",
   "metadata": {},
   "source": [
    "#### Exercise 1"
   ]
  },
  {
   "cell_type": "markdown",
   "metadata": {},
   "source": [
    "Rewrite your pay computation with time-and-a-half for overtime and create a function called compute pay which takes two parameters (hours and rate).\n",
    "\n",
    "    Enter Hours: 45\n",
    "    Enter Rate: 10\n",
    "    Pay: 475.0\n",
    "    \n",
    "[PEW] E4.6"
   ]
  },
  {
   "cell_type": "code",
   "execution_count": 320,
   "metadata": {},
   "outputs": [
    {
     "name": "stdout",
     "output_type": "stream",
     "text": [
      "Please enter total number of hours: 45\n",
      "Please enter rate: 10\n",
      "Your salary is: \n",
      "475.0\n"
     ]
    }
   ],
   "source": [
    "hours = int(input('Please enter total number of hours: '))\n",
    "rate = int(input(\"Please enter rate: \"))\n",
    "\n",
    "def computePay(hours, rate):\n",
    "    if hours > 40:\n",
    "        overtime_rate = 1.5 * rate\n",
    "        overtime = (hours-40) * overtime_rate\n",
    "        hours = 40\n",
    "        regular = hours * rate\n",
    "        salary = regular + overtime\n",
    "        print(salary)\n",
    "    else :\n",
    "        regular = hours * rate\n",
    "        salary = regular\n",
    "        print(salary)\n",
    "\n",
    "print(\"Your salary is: \")\n",
    "computePay(hours, rate)"
   ]
  },
  {
   "cell_type": "markdown",
   "metadata": {},
   "source": [
    "## CHALLENGE"
   ]
  },
  {
   "cell_type": "markdown",
   "metadata": {},
   "source": [
    "#### Challenge "
   ]
  },
  {
   "cell_type": "markdown",
   "metadata": {},
   "source": [
    "Write a function called computegrade that takes a score as its parameter and returns a grade as a string using the following table:\n",
    "\n",
    "    Score           Grade\n",
    "    [ 97, 100]      1.0\n",
    "    [ 93,  97)\t\t1.25\n",
    "    [ 89,  93)\t\t1.5\n",
    "    [ 85,  89)\t\t1.75\n",
    "    [ 81,  85)\t\t2.0\n",
    "    [ 77,  81)\t\t2.25\n",
    "    [ 74,  77)\t\t2.5\n",
    "    [ 0,   74)\t\t3.0 \n",
    "\n",
    "    Run the program repeatedly to test the various different values for input.\n",
    "    \n",
    "Adapted from [PEW] E4.6 \n",
    "<br>[あ]"
   ]
  },
  {
   "cell_type": "code",
   "execution_count": 325,
   "metadata": {},
   "outputs": [
    {
     "name": "stdout",
     "output_type": "stream",
     "text": [
      "Please enter your grade: 99\n",
      "Your grade is:  1.0\n"
     ]
    }
   ],
   "source": [
    "def computeGrade(score):\n",
    "    \n",
    "    if score <= 74 :\n",
    "        grade = 3.0\n",
    "\n",
    "    elif score <= 77 :\n",
    "        grade = 2.5\n",
    "\n",
    "    elif score <= 81 :\n",
    "        grade = 2.25\n",
    "\n",
    "    elif score <= 85 :\n",
    "        grade = 2.0\n",
    "\n",
    "    elif score <= 89 :\n",
    "        grade = 1.75  \n",
    "\n",
    "    elif score <= 93 :\n",
    "        grade = 1.50      \n",
    "\n",
    "    elif score <= 97 :\n",
    "        grade = 1.25  \n",
    "\n",
    "    elif score > 97 :\n",
    "        grade = 1.0      \n",
    "\n",
    "    else :\n",
    "        grade = \"unknown\"\n",
    "    \n",
    "    return grade\n",
    "\n",
    "getScore = input(\"Please enter your grade: \")\n",
    "getScore = int(getScore)\n",
    "grade = computeGrade(getScore)\n",
    "\n",
    "print(\"Your grade is: \", grade)"
   ]
  },
  {
   "cell_type": "markdown",
   "metadata": {},
   "source": [
    "[TABLE OF CONTENTS](#contents)"
   ]
  },
  {
   "cell_type": "markdown",
   "metadata": {},
   "source": [
    "<a id='chapter5'></a>"
   ]
  },
  {
   "cell_type": "markdown",
   "metadata": {},
   "source": [
    "# CHAPTER  5 - ITERATIONS"
   ]
  },
  {
   "cell_type": "markdown",
   "metadata": {},
   "source": [
    "Computers are often used to automate repetitive tasks. Repeating identical or similar tasks without making errors is something that computers do well and people do poorly. Because **iteration** is so common, Python provides several language features to make it easier. [PEW]"
   ]
  },
  {
   "cell_type": "markdown",
   "metadata": {},
   "source": [
    "## Indefinite Loops with `while`"
   ]
  },
  {
   "cell_type": "markdown",
   "metadata": {},
   "source": [
    "**`While`** loops are called **indefinite loops** because they keep going until  a logical condition becomes **`False`**"
   ]
  },
  {
   "cell_type": "code",
   "execution_count": 326,
   "metadata": {},
   "outputs": [
    {
     "name": "stdout",
     "output_type": "stream",
     "text": [
      "5\n",
      "4\n",
      "3\n",
      "2\n",
      "1\n",
      "Blastoff!\n",
      "0\n"
     ]
    }
   ],
   "source": [
    "n = 5\n",
    "while n > 0 :\n",
    "    print(n)\n",
    "    n = n - 1\n",
    "print('Blastoff!')\n",
    "print(n)"
   ]
  },
  {
   "cell_type": "markdown",
   "metadata": {},
   "source": [
    "More formally, here is the flow of execution for a `while` statement:\n",
    "\n",
    "- Evaluate the condition, yielding `True` or `False`.\n",
    "- If the condition is false, exit the while statement and continue execution at the next statement.\n",
    "- If the condition is true, execute the body and then go back to step 1."
   ]
  },
  {
   "attachments": {
    "while_loop_2.jpg": {
     "image/jpeg": "[encoded data removed]"
    }
   },
   "cell_type": "markdown",
   "metadata": {},
   "source": [
    "![while_loop_2.jpg](attachment:while_loop_2.jpg)"
   ]
  },
  {
   "cell_type": "markdown",
   "metadata": {},
   "source": [
    "This type of flow is called a **loop** because the third step loops back around to the top. We call each time we execute the body of the loop an **iteration**. For the above loop, we would say, \"It had five iterations\", which means that the body of the loop was executed five times. \n",
    "\n",
    "The body of the loop should change the value of one or more variables so that eventually the condition becomes false and the loop terminates. We call the variable that changes each time the loop executes and controls when the loop finishes the **iteration variable**. If there is no iteration variable, the loop will repeat forever, resulting in an **infinite loop**. [PEW]"
   ]
  },
  {
   "cell_type": "markdown",
   "metadata": {},
   "source": [
    "## `Break` and `Continue` in Loops "
   ]
  },
  {
   "cell_type": "markdown",
   "metadata": {},
   "source": [
    "### Breaking Out of a Loop with `break`"
   ]
  },
  {
   "cell_type": "markdown",
   "metadata": {},
   "source": [
    "Sometimes you don't know it's time to end a loop until you get half way through the body. In that case you can write an infinite loop on purpose and then use the break statement to jump out of the loop. [PEW]"
   ]
  },
  {
   "cell_type": "code",
   "execution_count": 328,
   "metadata": {},
   "outputs": [
    {
     "name": "stdout",
     "output_type": "stream",
     "text": [
      "> hdhdhd\n",
      "hdhdhd\n",
      "> test\n",
      "test\n",
      "> done\n",
      "Done!\n"
     ]
    }
   ],
   "source": [
    "while True:\n",
    "    line = input('> ')\n",
    "    if line == 'done' :\n",
    "        break\n",
    "    print(line)\n",
    "print('Done!')"
   ]
  },
  {
   "attachments": {
    "break_2.jpg": {
     "image/jpeg": "[encoded data removed]"
    }
   },
   "cell_type": "markdown",
   "metadata": {},
   "source": [
    "![break_2.jpg](attachment:break_2.jpg)"
   ]
  },
  {
   "cell_type": "markdown",
   "metadata": {},
   "source": [
    "### Finishing an Iteration with `continue`"
   ]
  },
  {
   "cell_type": "markdown",
   "metadata": {},
   "source": [
    "Here is an example of a loop that copies its input until the user types \"done\", but treats lines that start with the hash character as lines not to be printed (kind of like Python comments)."
   ]
  },
  {
   "cell_type": "code",
   "execution_count": 329,
   "metadata": {},
   "outputs": [
    {
     "name": "stdout",
     "output_type": "stream",
     "text": [
      "> #\n",
      "> done\n",
      "Done!\n"
     ]
    }
   ],
   "source": [
    "while True:\n",
    "    line = input('> ')\n",
    "    if line[0] == '#' :\n",
    "        continue\n",
    "    if line == 'done' :\n",
    "        break\n",
    "    print(line)\n",
    "print('Done!')"
   ]
  },
  {
   "attachments": {
    "continue_2.jpg": {
     "image/jpeg": "[encoded data removed]"
    }
   },
   "cell_type": "markdown",
   "metadata": {},
   "source": [
    "![continue_2.jpg](attachment:continue_2.jpg)"
   ]
  },
  {
   "cell_type": "markdown",
   "metadata": {},
   "source": [
    "If you run the code, all the lines are printed except the one that starts with the hash sign because when the `continue` is executed, it ends the current iteration and jumps back to the while statement to start the next iteration, thus skipping the `print` statement."
   ]
  },
  {
   "cell_type": "markdown",
   "metadata": {},
   "source": [
    "## Definite Loops with `for` "
   ]
  },
  {
   "cell_type": "markdown",
   "metadata": {},
   "source": [
    "Sometimes we want to loop through a set of things such as a list of words, the lines in a file, or a list of numbers. When we have a list of things to loop through, we can construct a **definite loop** using a **`for`** statement. We call the while statement an indefinite loop because it simply loops until some condition becomes False, whereas the **for loop** is looping through a known set of items so it runs through as many iterations as there are items in the set. [PEW]"
   ]
  },
  {
   "cell_type": "markdown",
   "metadata": {},
   "source": [
    "### A Simple Definite Loop"
   ]
  },
  {
   "cell_type": "code",
   "execution_count": 330,
   "metadata": {},
   "outputs": [
    {
     "name": "stdout",
     "output_type": "stream",
     "text": [
      "5\n",
      "4\n",
      "3\n",
      "2\n",
      "1\n",
      "Blastoff!\n"
     ]
    }
   ],
   "source": [
    "for i in [5, 4, 3, 2, 1]:\n",
    "    print(i)\n",
    "print('Blastoff!')"
   ]
  },
  {
   "attachments": {
    "for_loop_2.jpg": {
     "image/jpeg": "[encoded data removed]"
    }
   },
   "cell_type": "markdown",
   "metadata": {},
   "source": [
    "![for_loop_2.jpg](attachment:for_loop_2.jpg)"
   ]
  },
  {
   "cell_type": "markdown",
   "metadata": {},
   "source": [
    "### A Definite Loop with Strings"
   ]
  },
  {
   "cell_type": "code",
   "execution_count": 331,
   "metadata": {},
   "outputs": [
    {
     "name": "stdout",
     "output_type": "stream",
     "text": [
      "Happy New Year: Joseph\n",
      "Happy New Year: Glenn\n",
      "Happy New Year: Sally\n",
      "Done!\n"
     ]
    }
   ],
   "source": [
    "friends = ['Joseph', 'Glenn', 'Sally']\n",
    "for friend in friends: \n",
    "   print('Happy New Year:', friend)\n",
    "print('Done!')"
   ]
  },
  {
   "cell_type": "markdown",
   "metadata": {},
   "source": [
    "In Python terms, the variable `friends` is a **`list`** of three strings and the for loop goes through the list and executes the body once for each of the three strings in the list resulting in this output:"
   ]
  },
  {
   "cell_type": "markdown",
   "metadata": {},
   "source": [
    "In particular, `friend` is the iteration variable for the `for` loop. The variable `friend` changes for each iteration of the loop and controls when the `for` loop completes. The iteration variable steps successively through the three strings stored in the `friends` variable."
   ]
  },
  {
   "cell_type": "markdown",
   "metadata": {},
   "source": [
    "### A for loop with a List of Numbers"
   ]
  },
  {
   "cell_type": "code",
   "execution_count": 332,
   "metadata": {},
   "outputs": [
    {
     "name": "stdout",
     "output_type": "stream",
     "text": [
      "Before\n",
      "1\n",
      "2\n",
      "3\n",
      "5\n",
      "8\n",
      "13\n",
      "After\n"
     ]
    }
   ],
   "source": [
    "print('Before')\n",
    "for num in [1, 2, 3, 5, 8, 13]:\n",
    "     print(num)\n",
    "print('After')"
   ]
  },
  {
   "cell_type": "markdown",
   "metadata": {},
   "source": [
    "## Example Tasks with Solved by Using Loops"
   ]
  },
  {
   "cell_type": "markdown",
   "metadata": {},
   "source": [
    "Often we use a `for` or `while` loop to go through a list of items or the contents of a file and we are looking for something such as the largest or smallest value of the data we scan through.\n",
    "\n",
    "These loops are generally constructed by:\n",
    "\n",
    "- Initializing one or more variables before the loop starts\n",
    "- Performing some computation on each item in the loop body, possibly changing the variables in the body of the loop\n",
    "- Looking at the resulting variables when the loop completes\n",
    "\n",
    "We will use a list of numbers to demonstrate the concepts and construction of these loop patterns. [PEW]"
   ]
  },
  {
   "cell_type": "markdown",
   "metadata": {},
   "source": [
    "Note: The codes below are mainly from [PEW]. The variable names have been edited to make the code more readable. [あ]"
   ]
  },
  {
   "cell_type": "markdown",
   "metadata": {},
   "source": [
    "### Finding the Largest Value"
   ]
  },
  {
   "cell_type": "code",
   "execution_count": 333,
   "metadata": {},
   "outputs": [
    {
     "name": "stdout",
     "output_type": "stream",
     "text": [
      "Before -1\n",
      "9 9\n",
      "41 41\n",
      "41 12\n",
      "41 3\n",
      "74 74\n",
      "74 15\n"
     ]
    }
   ],
   "source": [
    "largest_so_far = -1\n",
    "print('Before', largest_so_far)\n",
    "for num in [9, 41, 12, 3, 74, 15]:\n",
    "   if num > largest_so_far :\n",
    "      largest_so_far = num\n",
    "   print(largest_so_far, num)"
   ]
  },
  {
   "cell_type": "markdown",
   "metadata": {},
   "source": [
    "### Counting in a Loop"
   ]
  },
  {
   "cell_type": "code",
   "execution_count": 334,
   "metadata": {},
   "outputs": [
    {
     "name": "stdout",
     "output_type": "stream",
     "text": [
      "Before 0\n",
      "1 9\n",
      "2 41\n",
      "3 12\n",
      "4 3\n",
      "5 74\n",
      "6 15\n",
      "After 6\n"
     ]
    }
   ],
   "source": [
    "count = 0\n",
    "print('Before', count)\n",
    "for num in [9, 41, 12, 3, 74, 15]:\n",
    "    count = count + 1\n",
    "    print(count, num)\n",
    "print('After', count)"
   ]
  },
  {
   "cell_type": "markdown",
   "metadata": {},
   "source": [
    "### Summing in a Loop"
   ]
  },
  {
   "cell_type": "code",
   "execution_count": 335,
   "metadata": {},
   "outputs": [
    {
     "name": "stdout",
     "output_type": "stream",
     "text": [
      "Before 0\n",
      "15 15\n",
      "30 15\n",
      "45 15\n",
      "60 15\n",
      "75 15\n",
      "90 15\n",
      "After 90\n"
     ]
    }
   ],
   "source": [
    "total = 0\n",
    "print('Before', total)\n",
    "for item in [9, 41, 12, 3, 74, 15]:\n",
    "    total = total + num\n",
    "    print(total, num)\n",
    "print('After', total)\n",
    "\n",
    "#あ Note that you could have chosen the variable name sum. \n",
    "#   However, sum is actually a built-in function in python."
   ]
  },
  {
   "cell_type": "markdown",
   "metadata": {},
   "source": [
    "### Finding the Average in a Loop"
   ]
  },
  {
   "cell_type": "raw",
   "metadata": {},
   "source": [
    "count = 0\n",
    "total = 0\n",
    "print('Before', count, total)\n",
    "for num in [9, 41, 12, 3, 74, 15]:\n",
    "    count = count + 1\n",
    "    total = total + num\n",
    "    print(count, total, num)\n",
    "print('After', count, total, total / count)"
   ]
  },
  {
   "cell_type": "markdown",
   "metadata": {},
   "source": [
    "### Filtering in a Loop"
   ]
  },
  {
   "cell_type": "raw",
   "metadata": {},
   "source": [
    "print('Before')\n",
    "for value in [9, 41, 12, 3, 74, 15]:\n",
    "    if value > 20:\n",
    "        print('Large number',value)\n",
    "print('After')"
   ]
  },
  {
   "cell_type": "markdown",
   "metadata": {},
   "source": [
    "### Search Using a Boolean Variable"
   ]
  },
  {
   "cell_type": "raw",
   "metadata": {},
   "source": [
    "found = False\n",
    "print('Before', found)\n",
    "for value in [9, 41, 12, 3, 74, 15]: \n",
    "   if value == 3 :\n",
    "       found = True\n",
    "   print(found, value)\n",
    "print('After', found)"
   ]
  },
  {
   "cell_type": "markdown",
   "metadata": {},
   "source": [
    "### How to Find the Largest Value"
   ]
  },
  {
   "cell_type": "raw",
   "metadata": {},
   "source": [
    "largest_so_far = -1\n",
    "print('Before', largest_so_far)\n",
    "for the_num in [9, 41, 12, 3, 74, 15]:\n",
    "   if the_num > largest_so_far :\n",
    "      largest_so_far = the_num\n",
    "   print(largest_so_far, the_num)\n",
    "\n",
    "print('After', largest_so_far)"
   ]
  },
  {
   "cell_type": "markdown",
   "metadata": {},
   "source": [
    "### How to Find the Smallest Value using `None`"
   ]
  },
  {
   "cell_type": "raw",
   "metadata": {},
   "source": [
    "smallest = None\n",
    "print('Before')\n",
    "for value in [9, 41, 12, 3, 74, 15]:\n",
    "    if smallest is None : \n",
    "        smallest = value\n",
    "    elif value < smallest : \n",
    "        smallest = value\n",
    "    print(smallest, value)\n",
    "print('After', smallest)"
   ]
  },
  {
   "cell_type": "markdown",
   "metadata": {},
   "source": [
    "## Final Words"
   ]
  },
  {
   "cell_type": "markdown",
   "metadata": {},
   "source": [
    "- Loops give you the power to process in a *pipeline* large amounts of similar or related data \n",
    "- Most loops in python are done using `for` loops\n",
    "- Adapt the code snippets discussed in the latter part of this section to solve similar problems later on\n",
    "\n",
    "[あ]"
   ]
  },
  {
   "cell_type": "markdown",
   "metadata": {},
   "source": [
    "## EXERCISES"
   ]
  },
  {
   "cell_type": "markdown",
   "metadata": {},
   "source": [
    "#### Exercise 1 "
   ]
  },
  {
   "cell_type": "markdown",
   "metadata": {},
   "source": [
    "Investigate on the difference between `is` and `==` given the following variables.\n",
    "```python\n",
    "a = 2\n",
    "b = 2.0\n",
    "c = a\n",
    "```"
   ]
  },
  {
   "cell_type": "raw",
   "metadata": {},
   "source": [
    "My Answer:\n",
    "\n",
    "\"is\" is to assign a value to a variable\n",
    "\"==\" compares two values if the same. results either True or False (Boolean)"
   ]
  },
  {
   "cell_type": "markdown",
   "metadata": {},
   "source": [
    "## CHALLENGES"
   ]
  },
  {
   "cell_type": "markdown",
   "metadata": {},
   "source": [
    "#### Challenge 1 "
   ]
  },
  {
   "cell_type": "markdown",
   "metadata": {},
   "source": [
    "Write a program which repeatedly reads numbers until the user enters \"done\". Once \"done\" is entered, print out the total, count, and average of the numbers. If the user enters anything other than a number, detect their mistake using try and except and print an error message and skip to the next number.\n",
    " \n",
    "    Enter a number: 4\n",
    "    Enter a number: 5\n",
    "    Enter a number: bad data\n",
    "    Invalid input\n",
    "    Enter a number: 7\n",
    "    Enter a number: done\n",
    "    16 3 5.333333333333333\n",
    "    \n",
    "[PEW] E5.1"
   ]
  },
  {
   "cell_type": "code",
   "execution_count": 343,
   "metadata": {},
   "outputs": [
    {
     "ename": "SyntaxError",
     "evalue": "invalid syntax (<ipython-input-343-0fc1b7cf6644>, line 5)",
     "output_type": "error",
     "traceback": [
      "\u001b[0;36m  File \u001b[0;32m\"<ipython-input-343-0fc1b7cf6644>\"\u001b[0;36m, line \u001b[0;32m5\u001b[0m\n\u001b[0;31m    elif :\u001b[0m\n\u001b[0m         ^\u001b[0m\n\u001b[0;31mSyntaxError\u001b[0m\u001b[0;31m:\u001b[0m invalid syntax\n"
     ]
    }
   ],
   "source": [
    "\n"
   ]
  },
  {
   "cell_type": "markdown",
   "metadata": {},
   "source": [
    "#### Challenge 2  "
   ]
  },
  {
   "cell_type": "markdown",
   "metadata": {},
   "source": [
    "Write another program that prompts for a list of numbers as above and at the end prints out both the maximum and minimum of the numbers instead of the average.\n",
    "\n",
    "[PEW] E5.2"
   ]
  },
  {
   "cell_type": "markdown",
   "metadata": {},
   "source": [
    "[TABLE OF CONTENTS](#contents)"
   ]
  },
  {
   "cell_type": "markdown",
   "metadata": {},
   "source": [
    "<a id='chapter6'></a>"
   ]
  }
 ],
 "metadata": {
  "kernelspec": {
   "display_name": "Python 3",
   "language": "python",
   "name": "python3"
  },
  "language_info": {
   "codemirror_mode": {
    "name": "ipython",
    "version": 3
   },
   "file_extension": ".py",
   "mimetype": "text/x-python",
   "name": "python",
   "nbconvert_exporter": "python",
   "pygments_lexer": "ipython3",
   "version": "3.7.3"
  }
 },
 "nbformat": 4,
 "nbformat_minor": 2
}
